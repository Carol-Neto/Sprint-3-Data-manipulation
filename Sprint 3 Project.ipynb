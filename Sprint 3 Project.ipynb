{
 "cells": [
  {
   "cell_type": "markdown",
   "id": "3Xg_RQfnafXz",
   "metadata": {
    "id": "3Xg_RQfnafXz"
   },
   "source": [
    "# Let's fill the cart!"
   ]
  },
  {
   "cell_type": "markdown",
   "id": "n3Ha_cNSZ8lK",
   "metadata": {
    "id": "n3Ha_cNSZ8lK"
   },
   "source": [
    "# Step 1. Data Overview\n",
    "\n",
    "Let's check the data files and make any necessary adjustments.\n"
   ]
  },
  {
   "cell_type": "code",
   "execution_count": 1,
   "id": "fbf1adab",
   "metadata": {
    "id": "fbf1adab"
   },
   "outputs": [],
   "source": [
    "# Importing the libraries\n",
    "import pandas as pd\n",
    "import numpy as np\n",
    "from matplotlib import pyplot as plt"
   ]
  },
  {
   "cell_type": "code",
   "execution_count": 9,
   "id": "ad36396d",
   "metadata": {
    "id": "ad36396d"
   },
   "outputs": [],
   "source": [
    "# reading the datasets\n",
    "df_instacart_orders = pd.read_csv(\"D:\\Tripleten\\Projects\\Sprint-3-Data-manipulation\\data\\instacart_orders.csv\", sep=';')\n",
    "df_products = pd.read_csv(\"D:\\Tripleten\\Projects\\Sprint-3-Data-manipulation\\data\\products.csv\", sep=';')\n",
    "df_aisles = pd.read_csv(r\"D:\\Tripleten\\Projects\\Sprint-3-Data-manipulation\\data\\aisles.csv\", sep=';')\n",
    "df_departments = pd.read_csv(\"D:\\Tripleten\\Projects\\Sprint-3-Data-manipulation\\data\\departments.csv\", sep=';')\n",
    "df_order_products = pd.read_csv(\"D:\\Tripleten\\Projects\\Sprint-3-Data-manipulation\\data\\order_products.csv\", sep=';')"
   ]
  },
  {
   "cell_type": "code",
   "execution_count": 14,
   "id": "ad6a1efa",
   "metadata": {
    "id": "ad6a1efa"
   },
   "outputs": [
    {
     "name": "stdout",
     "output_type": "stream",
     "text": [
      "<class 'pandas.core.frame.DataFrame'>\n",
      "RangeIndex: 478967 entries, 0 to 478966\n",
      "Data columns (total 6 columns):\n",
      " #   Column                  Non-Null Count   Dtype  \n",
      "---  ------                  --------------   -----  \n",
      " 0   order_id                478967 non-null  int64  \n",
      " 1   user_id                 478967 non-null  int64  \n",
      " 2   order_number            478967 non-null  int64  \n",
      " 3   order_dow               478967 non-null  int64  \n",
      " 4   order_hour_of_day       478967 non-null  int64  \n",
      " 5   days_since_prior_order  450148 non-null  float64\n",
      "dtypes: float64(1), int64(5)\n",
      "memory usage: 21.9 MB\n"
     ]
    },
    {
     "data": {
      "text/html": [
       "<div>\n",
       "<style scoped>\n",
       "    .dataframe tbody tr th:only-of-type {\n",
       "        vertical-align: middle;\n",
       "    }\n",
       "\n",
       "    .dataframe tbody tr th {\n",
       "        vertical-align: top;\n",
       "    }\n",
       "\n",
       "    .dataframe thead th {\n",
       "        text-align: right;\n",
       "    }\n",
       "</style>\n",
       "<table border=\"1\" class=\"dataframe\">\n",
       "  <thead>\n",
       "    <tr style=\"text-align: right;\">\n",
       "      <th></th>\n",
       "      <th>order_id</th>\n",
       "      <th>user_id</th>\n",
       "      <th>order_number</th>\n",
       "      <th>order_dow</th>\n",
       "      <th>order_hour_of_day</th>\n",
       "      <th>days_since_prior_order</th>\n",
       "    </tr>\n",
       "  </thead>\n",
       "  <tbody>\n",
       "    <tr>\n",
       "      <th>0</th>\n",
       "      <td>1515936</td>\n",
       "      <td>183418</td>\n",
       "      <td>11</td>\n",
       "      <td>6</td>\n",
       "      <td>13</td>\n",
       "      <td>30.0</td>\n",
       "    </tr>\n",
       "    <tr>\n",
       "      <th>1</th>\n",
       "      <td>1690866</td>\n",
       "      <td>163593</td>\n",
       "      <td>5</td>\n",
       "      <td>5</td>\n",
       "      <td>12</td>\n",
       "      <td>9.0</td>\n",
       "    </tr>\n",
       "    <tr>\n",
       "      <th>2</th>\n",
       "      <td>1454967</td>\n",
       "      <td>39980</td>\n",
       "      <td>4</td>\n",
       "      <td>5</td>\n",
       "      <td>19</td>\n",
       "      <td>2.0</td>\n",
       "    </tr>\n",
       "    <tr>\n",
       "      <th>3</th>\n",
       "      <td>1768857</td>\n",
       "      <td>82516</td>\n",
       "      <td>56</td>\n",
       "      <td>0</td>\n",
       "      <td>20</td>\n",
       "      <td>10.0</td>\n",
       "    </tr>\n",
       "    <tr>\n",
       "      <th>4</th>\n",
       "      <td>3007858</td>\n",
       "      <td>196724</td>\n",
       "      <td>2</td>\n",
       "      <td>4</td>\n",
       "      <td>12</td>\n",
       "      <td>17.0</td>\n",
       "    </tr>\n",
       "  </tbody>\n",
       "</table>\n",
       "</div>"
      ],
      "text/plain": [
       "   order_id  user_id  order_number  order_dow  order_hour_of_day  \\\n",
       "0   1515936   183418            11          6                 13   \n",
       "1   1690866   163593             5          5                 12   \n",
       "2   1454967    39980             4          5                 19   \n",
       "3   1768857    82516            56          0                 20   \n",
       "4   3007858   196724             2          4                 12   \n",
       "\n",
       "   days_since_prior_order  \n",
       "0                    30.0  \n",
       "1                     9.0  \n",
       "2                     2.0  \n",
       "3                    10.0  \n",
       "4                    17.0  "
      ]
     },
     "execution_count": 14,
     "metadata": {},
     "output_type": "execute_result"
    }
   ],
   "source": [
    "# instacart_orders\n",
    "df_instacart_orders.info()\n",
    "df_instacart_orders.head()"
   ]
  },
  {
   "cell_type": "code",
   "execution_count": 15,
   "id": "5130e05e",
   "metadata": {
    "id": "5130e05e"
   },
   "outputs": [
    {
     "name": "stdout",
     "output_type": "stream",
     "text": [
      "<class 'pandas.core.frame.DataFrame'>\n",
      "RangeIndex: 49694 entries, 0 to 49693\n",
      "Data columns (total 4 columns):\n",
      " #   Column         Non-Null Count  Dtype \n",
      "---  ------         --------------  ----- \n",
      " 0   product_id     49694 non-null  int64 \n",
      " 1   product_name   48436 non-null  object\n",
      " 2   aisle_id       49694 non-null  int64 \n",
      " 3   department_id  49694 non-null  int64 \n",
      "dtypes: int64(3), object(1)\n",
      "memory usage: 1.5+ MB\n"
     ]
    },
    {
     "data": {
      "text/html": [
       "<div>\n",
       "<style scoped>\n",
       "    .dataframe tbody tr th:only-of-type {\n",
       "        vertical-align: middle;\n",
       "    }\n",
       "\n",
       "    .dataframe tbody tr th {\n",
       "        vertical-align: top;\n",
       "    }\n",
       "\n",
       "    .dataframe thead th {\n",
       "        text-align: right;\n",
       "    }\n",
       "</style>\n",
       "<table border=\"1\" class=\"dataframe\">\n",
       "  <thead>\n",
       "    <tr style=\"text-align: right;\">\n",
       "      <th></th>\n",
       "      <th>product_id</th>\n",
       "      <th>product_name</th>\n",
       "      <th>aisle_id</th>\n",
       "      <th>department_id</th>\n",
       "    </tr>\n",
       "  </thead>\n",
       "  <tbody>\n",
       "    <tr>\n",
       "      <th>0</th>\n",
       "      <td>1</td>\n",
       "      <td>Chocolate Sandwich Cookies</td>\n",
       "      <td>61</td>\n",
       "      <td>19</td>\n",
       "    </tr>\n",
       "    <tr>\n",
       "      <th>1</th>\n",
       "      <td>2</td>\n",
       "      <td>All-Seasons Salt</td>\n",
       "      <td>104</td>\n",
       "      <td>13</td>\n",
       "    </tr>\n",
       "    <tr>\n",
       "      <th>2</th>\n",
       "      <td>3</td>\n",
       "      <td>Robust Golden Unsweetened Oolong Tea</td>\n",
       "      <td>94</td>\n",
       "      <td>7</td>\n",
       "    </tr>\n",
       "    <tr>\n",
       "      <th>3</th>\n",
       "      <td>4</td>\n",
       "      <td>Smart Ones Classic Favorites Mini Rigatoni Wit...</td>\n",
       "      <td>38</td>\n",
       "      <td>1</td>\n",
       "    </tr>\n",
       "    <tr>\n",
       "      <th>4</th>\n",
       "      <td>5</td>\n",
       "      <td>Green Chile Anytime Sauce</td>\n",
       "      <td>5</td>\n",
       "      <td>13</td>\n",
       "    </tr>\n",
       "  </tbody>\n",
       "</table>\n",
       "</div>"
      ],
      "text/plain": [
       "   product_id                                       product_name  aisle_id  \\\n",
       "0           1                         Chocolate Sandwich Cookies        61   \n",
       "1           2                                   All-Seasons Salt       104   \n",
       "2           3               Robust Golden Unsweetened Oolong Tea        94   \n",
       "3           4  Smart Ones Classic Favorites Mini Rigatoni Wit...        38   \n",
       "4           5                          Green Chile Anytime Sauce         5   \n",
       "\n",
       "   department_id  \n",
       "0             19  \n",
       "1             13  \n",
       "2              7  \n",
       "3              1  \n",
       "4             13  "
      ]
     },
     "execution_count": 15,
     "metadata": {},
     "output_type": "execute_result"
    }
   ],
   "source": [
    "# products\n",
    "df_products.info()\n",
    "df_products.head()"
   ]
  },
  {
   "cell_type": "code",
   "execution_count": 16,
   "id": "d8370c05",
   "metadata": {
    "id": "d8370c05"
   },
   "outputs": [
    {
     "name": "stdout",
     "output_type": "stream",
     "text": [
      "<class 'pandas.core.frame.DataFrame'>\n",
      "RangeIndex: 134 entries, 0 to 133\n",
      "Data columns (total 2 columns):\n",
      " #   Column    Non-Null Count  Dtype \n",
      "---  ------    --------------  ----- \n",
      " 0   aisle_id  134 non-null    int64 \n",
      " 1   aisle     134 non-null    object\n",
      "dtypes: int64(1), object(1)\n",
      "memory usage: 2.2+ KB\n"
     ]
    },
    {
     "data": {
      "text/html": [
       "<div>\n",
       "<style scoped>\n",
       "    .dataframe tbody tr th:only-of-type {\n",
       "        vertical-align: middle;\n",
       "    }\n",
       "\n",
       "    .dataframe tbody tr th {\n",
       "        vertical-align: top;\n",
       "    }\n",
       "\n",
       "    .dataframe thead th {\n",
       "        text-align: right;\n",
       "    }\n",
       "</style>\n",
       "<table border=\"1\" class=\"dataframe\">\n",
       "  <thead>\n",
       "    <tr style=\"text-align: right;\">\n",
       "      <th></th>\n",
       "      <th>aisle_id</th>\n",
       "      <th>aisle</th>\n",
       "    </tr>\n",
       "  </thead>\n",
       "  <tbody>\n",
       "    <tr>\n",
       "      <th>0</th>\n",
       "      <td>1</td>\n",
       "      <td>prepared soups salads</td>\n",
       "    </tr>\n",
       "    <tr>\n",
       "      <th>1</th>\n",
       "      <td>2</td>\n",
       "      <td>specialty cheeses</td>\n",
       "    </tr>\n",
       "    <tr>\n",
       "      <th>2</th>\n",
       "      <td>3</td>\n",
       "      <td>energy granola bars</td>\n",
       "    </tr>\n",
       "    <tr>\n",
       "      <th>3</th>\n",
       "      <td>4</td>\n",
       "      <td>instant foods</td>\n",
       "    </tr>\n",
       "    <tr>\n",
       "      <th>4</th>\n",
       "      <td>5</td>\n",
       "      <td>marinades meat preparation</td>\n",
       "    </tr>\n",
       "  </tbody>\n",
       "</table>\n",
       "</div>"
      ],
      "text/plain": [
       "   aisle_id                       aisle\n",
       "0         1       prepared soups salads\n",
       "1         2           specialty cheeses\n",
       "2         3         energy granola bars\n",
       "3         4               instant foods\n",
       "4         5  marinades meat preparation"
      ]
     },
     "execution_count": 16,
     "metadata": {},
     "output_type": "execute_result"
    }
   ],
   "source": [
    "# aisles\n",
    "df_aisles.info()\n",
    "df_aisles.head()"
   ]
  },
  {
   "cell_type": "code",
   "execution_count": 17,
   "id": "59e2090f",
   "metadata": {
    "id": "59e2090f"
   },
   "outputs": [
    {
     "name": "stdout",
     "output_type": "stream",
     "text": [
      "<class 'pandas.core.frame.DataFrame'>\n",
      "RangeIndex: 21 entries, 0 to 20\n",
      "Data columns (total 2 columns):\n",
      " #   Column         Non-Null Count  Dtype \n",
      "---  ------         --------------  ----- \n",
      " 0   department_id  21 non-null     int64 \n",
      " 1   department     21 non-null     object\n",
      "dtypes: int64(1), object(1)\n",
      "memory usage: 464.0+ bytes\n"
     ]
    },
    {
     "data": {
      "text/html": [
       "<div>\n",
       "<style scoped>\n",
       "    .dataframe tbody tr th:only-of-type {\n",
       "        vertical-align: middle;\n",
       "    }\n",
       "\n",
       "    .dataframe tbody tr th {\n",
       "        vertical-align: top;\n",
       "    }\n",
       "\n",
       "    .dataframe thead th {\n",
       "        text-align: right;\n",
       "    }\n",
       "</style>\n",
       "<table border=\"1\" class=\"dataframe\">\n",
       "  <thead>\n",
       "    <tr style=\"text-align: right;\">\n",
       "      <th></th>\n",
       "      <th>department_id</th>\n",
       "      <th>department</th>\n",
       "    </tr>\n",
       "  </thead>\n",
       "  <tbody>\n",
       "    <tr>\n",
       "      <th>0</th>\n",
       "      <td>1</td>\n",
       "      <td>frozen</td>\n",
       "    </tr>\n",
       "    <tr>\n",
       "      <th>1</th>\n",
       "      <td>2</td>\n",
       "      <td>other</td>\n",
       "    </tr>\n",
       "    <tr>\n",
       "      <th>2</th>\n",
       "      <td>3</td>\n",
       "      <td>bakery</td>\n",
       "    </tr>\n",
       "    <tr>\n",
       "      <th>3</th>\n",
       "      <td>4</td>\n",
       "      <td>produce</td>\n",
       "    </tr>\n",
       "    <tr>\n",
       "      <th>4</th>\n",
       "      <td>5</td>\n",
       "      <td>alcohol</td>\n",
       "    </tr>\n",
       "  </tbody>\n",
       "</table>\n",
       "</div>"
      ],
      "text/plain": [
       "   department_id department\n",
       "0              1     frozen\n",
       "1              2      other\n",
       "2              3     bakery\n",
       "3              4    produce\n",
       "4              5    alcohol"
      ]
     },
     "execution_count": 17,
     "metadata": {},
     "output_type": "execute_result"
    }
   ],
   "source": [
    "# departments\n",
    "df_departments.info()\n",
    "df_departments.head()"
   ]
  },
  {
   "cell_type": "code",
   "execution_count": 18,
   "id": "6fc81694",
   "metadata": {
    "id": "6fc81694"
   },
   "outputs": [
    {
     "name": "stdout",
     "output_type": "stream",
     "text": [
      "<class 'pandas.core.frame.DataFrame'>\n",
      "RangeIndex: 4545007 entries, 0 to 4545006\n",
      "Data columns (total 4 columns):\n",
      " #   Column             Dtype  \n",
      "---  ------             -----  \n",
      " 0   order_id           int64  \n",
      " 1   product_id         int64  \n",
      " 2   add_to_cart_order  float64\n",
      " 3   reordered          int64  \n",
      "dtypes: float64(1), int64(3)\n",
      "memory usage: 138.7 MB\n"
     ]
    },
    {
     "data": {
      "text/html": [
       "<div>\n",
       "<style scoped>\n",
       "    .dataframe tbody tr th:only-of-type {\n",
       "        vertical-align: middle;\n",
       "    }\n",
       "\n",
       "    .dataframe tbody tr th {\n",
       "        vertical-align: top;\n",
       "    }\n",
       "\n",
       "    .dataframe thead th {\n",
       "        text-align: right;\n",
       "    }\n",
       "</style>\n",
       "<table border=\"1\" class=\"dataframe\">\n",
       "  <thead>\n",
       "    <tr style=\"text-align: right;\">\n",
       "      <th></th>\n",
       "      <th>order_id</th>\n",
       "      <th>product_id</th>\n",
       "      <th>add_to_cart_order</th>\n",
       "      <th>reordered</th>\n",
       "    </tr>\n",
       "  </thead>\n",
       "  <tbody>\n",
       "    <tr>\n",
       "      <th>0</th>\n",
       "      <td>2141543</td>\n",
       "      <td>11440</td>\n",
       "      <td>17.0</td>\n",
       "      <td>0</td>\n",
       "    </tr>\n",
       "    <tr>\n",
       "      <th>1</th>\n",
       "      <td>567889</td>\n",
       "      <td>1560</td>\n",
       "      <td>1.0</td>\n",
       "      <td>1</td>\n",
       "    </tr>\n",
       "    <tr>\n",
       "      <th>2</th>\n",
       "      <td>2261212</td>\n",
       "      <td>26683</td>\n",
       "      <td>1.0</td>\n",
       "      <td>1</td>\n",
       "    </tr>\n",
       "    <tr>\n",
       "      <th>3</th>\n",
       "      <td>491251</td>\n",
       "      <td>8670</td>\n",
       "      <td>35.0</td>\n",
       "      <td>1</td>\n",
       "    </tr>\n",
       "    <tr>\n",
       "      <th>4</th>\n",
       "      <td>2571142</td>\n",
       "      <td>1940</td>\n",
       "      <td>5.0</td>\n",
       "      <td>1</td>\n",
       "    </tr>\n",
       "  </tbody>\n",
       "</table>\n",
       "</div>"
      ],
      "text/plain": [
       "   order_id  product_id  add_to_cart_order  reordered\n",
       "0   2141543       11440               17.0          0\n",
       "1    567889        1560                1.0          1\n",
       "2   2261212       26683                1.0          1\n",
       "3    491251        8670               35.0          1\n",
       "4   2571142        1940                5.0          1"
      ]
     },
     "execution_count": 18,
     "metadata": {},
     "output_type": "execute_result"
    }
   ],
   "source": [
    "# order_products\n",
    "df_order_products.info()\n",
    "df_order_products.head()"
   ]
  },
  {
   "cell_type": "markdown",
   "id": "t75BD19oaR5f",
   "metadata": {
    "id": "t75BD19oaR5f"
   },
   "source": [
    "### Note\n",
    "\n",
    " We have some missing items."
   ]
  },
  {
   "cell_type": "markdown",
   "id": "8RJHqxVmaVsF",
   "metadata": {
    "id": "8RJHqxVmaVsF"
   },
   "source": [
    "# Step 2. Data Preparation\n",
    "\n",
    "- Checking and correcting data types (e.g., make sure ID columns are integers)\n",
    "- Identifying and filling in missing values\n",
    "- Identifying and removing duplicate values"
   ]
  },
  {
   "cell_type": "markdown",
   "id": "f179f0a9",
   "metadata": {
    "id": "f179f0a9"
   },
   "source": [
    "### DataFrame `instacart_orders`"
   ]
  },
  {
   "cell_type": "code",
   "execution_count": null,
   "id": "b99297a5-405a-463d-8535-9adc3da4ad74",
   "metadata": {
    "id": "b99297a5-405a-463d-8535-9adc3da4ad74"
   },
   "outputs": [
    {
     "data": {
      "text/html": [
       "<div>\n",
       "<style scoped>\n",
       "    .dataframe tbody tr th:only-of-type {\n",
       "        vertical-align: middle;\n",
       "    }\n",
       "\n",
       "    .dataframe tbody tr th {\n",
       "        vertical-align: top;\n",
       "    }\n",
       "\n",
       "    .dataframe thead th {\n",
       "        text-align: right;\n",
       "    }\n",
       "</style>\n",
       "<table border=\"1\" class=\"dataframe\">\n",
       "  <thead>\n",
       "    <tr style=\"text-align: right;\">\n",
       "      <th></th>\n",
       "      <th>order_id</th>\n",
       "      <th>user_id</th>\n",
       "      <th>order_number</th>\n",
       "      <th>order_dow</th>\n",
       "      <th>order_hour_of_day</th>\n",
       "      <th>days_since_prior_order</th>\n",
       "    </tr>\n",
       "  </thead>\n",
       "  <tbody>\n",
       "    <tr>\n",
       "      <th>145574</th>\n",
       "      <td>794638</td>\n",
       "      <td>50898</td>\n",
       "      <td>24</td>\n",
       "      <td>3</td>\n",
       "      <td>2</td>\n",
       "      <td>2.0</td>\n",
       "    </tr>\n",
       "    <tr>\n",
       "      <th>223105</th>\n",
       "      <td>2160484</td>\n",
       "      <td>107525</td>\n",
       "      <td>16</td>\n",
       "      <td>3</td>\n",
       "      <td>2</td>\n",
       "      <td>30.0</td>\n",
       "    </tr>\n",
       "    <tr>\n",
       "      <th>230807</th>\n",
       "      <td>1918001</td>\n",
       "      <td>188546</td>\n",
       "      <td>14</td>\n",
       "      <td>3</td>\n",
       "      <td>2</td>\n",
       "      <td>16.0</td>\n",
       "    </tr>\n",
       "    <tr>\n",
       "      <th>266232</th>\n",
       "      <td>1782114</td>\n",
       "      <td>106752</td>\n",
       "      <td>1</td>\n",
       "      <td>3</td>\n",
       "      <td>2</td>\n",
       "      <td>NaN</td>\n",
       "    </tr>\n",
       "    <tr>\n",
       "      <th>273805</th>\n",
       "      <td>1112182</td>\n",
       "      <td>202304</td>\n",
       "      <td>84</td>\n",
       "      <td>3</td>\n",
       "      <td>2</td>\n",
       "      <td>6.0</td>\n",
       "    </tr>\n",
       "    <tr>\n",
       "      <th>284038</th>\n",
       "      <td>2845099</td>\n",
       "      <td>31189</td>\n",
       "      <td>11</td>\n",
       "      <td>3</td>\n",
       "      <td>2</td>\n",
       "      <td>7.0</td>\n",
       "    </tr>\n",
       "    <tr>\n",
       "      <th>311713</th>\n",
       "      <td>1021560</td>\n",
       "      <td>53767</td>\n",
       "      <td>3</td>\n",
       "      <td>3</td>\n",
       "      <td>2</td>\n",
       "      <td>9.0</td>\n",
       "    </tr>\n",
       "    <tr>\n",
       "      <th>321100</th>\n",
       "      <td>408114</td>\n",
       "      <td>68324</td>\n",
       "      <td>4</td>\n",
       "      <td>3</td>\n",
       "      <td>2</td>\n",
       "      <td>18.0</td>\n",
       "    </tr>\n",
       "    <tr>\n",
       "      <th>323900</th>\n",
       "      <td>1919531</td>\n",
       "      <td>191501</td>\n",
       "      <td>32</td>\n",
       "      <td>3</td>\n",
       "      <td>2</td>\n",
       "      <td>7.0</td>\n",
       "    </tr>\n",
       "    <tr>\n",
       "      <th>345917</th>\n",
       "      <td>2232988</td>\n",
       "      <td>82565</td>\n",
       "      <td>1</td>\n",
       "      <td>3</td>\n",
       "      <td>2</td>\n",
       "      <td>NaN</td>\n",
       "    </tr>\n",
       "    <tr>\n",
       "      <th>371905</th>\n",
       "      <td>391768</td>\n",
       "      <td>57671</td>\n",
       "      <td>19</td>\n",
       "      <td>3</td>\n",
       "      <td>2</td>\n",
       "      <td>10.0</td>\n",
       "    </tr>\n",
       "    <tr>\n",
       "      <th>394347</th>\n",
       "      <td>467134</td>\n",
       "      <td>63189</td>\n",
       "      <td>21</td>\n",
       "      <td>3</td>\n",
       "      <td>2</td>\n",
       "      <td>2.0</td>\n",
       "    </tr>\n",
       "    <tr>\n",
       "      <th>411408</th>\n",
       "      <td>1286742</td>\n",
       "      <td>183220</td>\n",
       "      <td>48</td>\n",
       "      <td>3</td>\n",
       "      <td>2</td>\n",
       "      <td>4.0</td>\n",
       "    </tr>\n",
       "    <tr>\n",
       "      <th>415163</th>\n",
       "      <td>2282673</td>\n",
       "      <td>86751</td>\n",
       "      <td>49</td>\n",
       "      <td>3</td>\n",
       "      <td>2</td>\n",
       "      <td>2.0</td>\n",
       "    </tr>\n",
       "    <tr>\n",
       "      <th>441599</th>\n",
       "      <td>2125197</td>\n",
       "      <td>14050</td>\n",
       "      <td>48</td>\n",
       "      <td>3</td>\n",
       "      <td>2</td>\n",
       "      <td>3.0</td>\n",
       "    </tr>\n",
       "  </tbody>\n",
       "</table>\n",
       "</div>"
      ],
      "text/plain": [
       "        order_id  user_id  order_number  order_dow  order_hour_of_day  \\\n",
       "145574    794638    50898            24          3                  2   \n",
       "223105   2160484   107525            16          3                  2   \n",
       "230807   1918001   188546            14          3                  2   \n",
       "266232   1782114   106752             1          3                  2   \n",
       "273805   1112182   202304            84          3                  2   \n",
       "284038   2845099    31189            11          3                  2   \n",
       "311713   1021560    53767             3          3                  2   \n",
       "321100    408114    68324             4          3                  2   \n",
       "323900   1919531   191501            32          3                  2   \n",
       "345917   2232988    82565             1          3                  2   \n",
       "371905    391768    57671            19          3                  2   \n",
       "394347    467134    63189            21          3                  2   \n",
       "411408   1286742   183220            48          3                  2   \n",
       "415163   2282673    86751            49          3                  2   \n",
       "441599   2125197    14050            48          3                  2   \n",
       "\n",
       "        days_since_prior_order  \n",
       "145574                     2.0  \n",
       "223105                    30.0  \n",
       "230807                    16.0  \n",
       "266232                     NaN  \n",
       "273805                     6.0  \n",
       "284038                     7.0  \n",
       "311713                     9.0  \n",
       "321100                    18.0  \n",
       "323900                     7.0  \n",
       "345917                     NaN  \n",
       "371905                    10.0  \n",
       "394347                     2.0  \n",
       "411408                     4.0  \n",
       "415163                     2.0  \n",
       "441599                     3.0  "
      ]
     },
     "execution_count": 19,
     "metadata": {},
     "output_type": "execute_result"
    }
   ],
   "source": [
    "# Checking for duplicate orders\n",
    "df_instacart_orders[df_instacart_orders.duplicated()]"
   ]
  },
  {
   "cell_type": "markdown",
   "id": "PEkwUX_gvt5A",
   "metadata": {
    "id": "PEkwUX_gvt5A"
   },
   "source": [
    "Note\n",
    "\n",
    "- We can see that we have duplicates on the 3rd, which is a Wednesday at 2 am."
   ]
  },
  {
   "cell_type": "code",
   "execution_count": null,
   "id": "0d44de5d",
   "metadata": {
    "id": "0d44de5d"
   },
   "outputs": [
    {
     "data": {
      "text/html": [
       "<div>\n",
       "<style scoped>\n",
       "    .dataframe tbody tr th:only-of-type {\n",
       "        vertical-align: middle;\n",
       "    }\n",
       "\n",
       "    .dataframe tbody tr th {\n",
       "        vertical-align: top;\n",
       "    }\n",
       "\n",
       "    .dataframe thead th {\n",
       "        text-align: right;\n",
       "    }\n",
       "</style>\n",
       "<table border=\"1\" class=\"dataframe\">\n",
       "  <thead>\n",
       "    <tr style=\"text-align: right;\">\n",
       "      <th></th>\n",
       "      <th>order_id</th>\n",
       "      <th>user_id</th>\n",
       "      <th>order_number</th>\n",
       "      <th>order_dow</th>\n",
       "      <th>order_hour_of_day</th>\n",
       "      <th>days_since_prior_order</th>\n",
       "    </tr>\n",
       "  </thead>\n",
       "  <tbody>\n",
       "    <tr>\n",
       "      <th>4838</th>\n",
       "      <td>2766110</td>\n",
       "      <td>162084</td>\n",
       "      <td>41</td>\n",
       "      <td>3</td>\n",
       "      <td>2</td>\n",
       "      <td>16.0</td>\n",
       "    </tr>\n",
       "    <tr>\n",
       "      <th>5156</th>\n",
       "      <td>2190225</td>\n",
       "      <td>138285</td>\n",
       "      <td>18</td>\n",
       "      <td>3</td>\n",
       "      <td>2</td>\n",
       "      <td>11.0</td>\n",
       "    </tr>\n",
       "    <tr>\n",
       "      <th>15506</th>\n",
       "      <td>553049</td>\n",
       "      <td>58599</td>\n",
       "      <td>13</td>\n",
       "      <td>3</td>\n",
       "      <td>2</td>\n",
       "      <td>7.0</td>\n",
       "    </tr>\n",
       "    <tr>\n",
       "      <th>18420</th>\n",
       "      <td>382357</td>\n",
       "      <td>120200</td>\n",
       "      <td>19</td>\n",
       "      <td>3</td>\n",
       "      <td>2</td>\n",
       "      <td>11.0</td>\n",
       "    </tr>\n",
       "    <tr>\n",
       "      <th>24691</th>\n",
       "      <td>690242</td>\n",
       "      <td>77357</td>\n",
       "      <td>2</td>\n",
       "      <td>3</td>\n",
       "      <td>2</td>\n",
       "      <td>9.0</td>\n",
       "    </tr>\n",
       "    <tr>\n",
       "      <th>...</th>\n",
       "      <td>...</td>\n",
       "      <td>...</td>\n",
       "      <td>...</td>\n",
       "      <td>...</td>\n",
       "      <td>...</td>\n",
       "      <td>...</td>\n",
       "    </tr>\n",
       "    <tr>\n",
       "      <th>457013</th>\n",
       "      <td>3384021</td>\n",
       "      <td>14881</td>\n",
       "      <td>6</td>\n",
       "      <td>3</td>\n",
       "      <td>2</td>\n",
       "      <td>30.0</td>\n",
       "    </tr>\n",
       "    <tr>\n",
       "      <th>458816</th>\n",
       "      <td>910166</td>\n",
       "      <td>164782</td>\n",
       "      <td>18</td>\n",
       "      <td>3</td>\n",
       "      <td>2</td>\n",
       "      <td>4.0</td>\n",
       "    </tr>\n",
       "    <tr>\n",
       "      <th>459635</th>\n",
       "      <td>1680532</td>\n",
       "      <td>106435</td>\n",
       "      <td>6</td>\n",
       "      <td>3</td>\n",
       "      <td>2</td>\n",
       "      <td>21.0</td>\n",
       "    </tr>\n",
       "    <tr>\n",
       "      <th>468324</th>\n",
       "      <td>222962</td>\n",
       "      <td>54979</td>\n",
       "      <td>59</td>\n",
       "      <td>3</td>\n",
       "      <td>2</td>\n",
       "      <td>3.0</td>\n",
       "    </tr>\n",
       "    <tr>\n",
       "      <th>477526</th>\n",
       "      <td>2592344</td>\n",
       "      <td>46860</td>\n",
       "      <td>38</td>\n",
       "      <td>3</td>\n",
       "      <td>2</td>\n",
       "      <td>3.0</td>\n",
       "    </tr>\n",
       "  </tbody>\n",
       "</table>\n",
       "<p>121 rows × 6 columns</p>\n",
       "</div>"
      ],
      "text/plain": [
       "        order_id  user_id  order_number  order_dow  order_hour_of_day  \\\n",
       "4838     2766110   162084            41          3                  2   \n",
       "5156     2190225   138285            18          3                  2   \n",
       "15506     553049    58599            13          3                  2   \n",
       "18420     382357   120200            19          3                  2   \n",
       "24691     690242    77357             2          3                  2   \n",
       "...          ...      ...           ...        ...                ...   \n",
       "457013   3384021    14881             6          3                  2   \n",
       "458816    910166   164782            18          3                  2   \n",
       "459635   1680532   106435             6          3                  2   \n",
       "468324    222962    54979            59          3                  2   \n",
       "477526   2592344    46860            38          3                  2   \n",
       "\n",
       "        days_since_prior_order  \n",
       "4838                      16.0  \n",
       "5156                      11.0  \n",
       "15506                      7.0  \n",
       "18420                     11.0  \n",
       "24691                      9.0  \n",
       "...                        ...  \n",
       "457013                    30.0  \n",
       "458816                     4.0  \n",
       "459635                    21.0  \n",
       "468324                     3.0  \n",
       "477526                     3.0  \n",
       "\n",
       "[121 rows x 6 columns]"
      ]
     },
     "execution_count": 20,
     "metadata": {},
     "output_type": "execute_result"
    }
   ],
   "source": [
    "# Checking all orders placed at 2am on Wednesdays\n",
    "df_instacart_orders[(df_instacart_orders['order_dow'] == 3) & (df_instacart_orders['order_hour_of_day'] == 2)]"
   ]
  },
  {
   "cell_type": "markdown",
   "id": "vu2OWyoqwOx5",
   "metadata": {
    "id": "vu2OWyoqwOx5"
   },
   "source": [
    "Note\n",
    "- indicates a probable bug in the system when computing the data"
   ]
  },
  {
   "cell_type": "code",
   "execution_count": 21,
   "id": "480563c7",
   "metadata": {
    "id": "480563c7"
   },
   "outputs": [
    {
     "data": {
      "text/html": [
       "<div>\n",
       "<style scoped>\n",
       "    .dataframe tbody tr th:only-of-type {\n",
       "        vertical-align: middle;\n",
       "    }\n",
       "\n",
       "    .dataframe tbody tr th {\n",
       "        vertical-align: top;\n",
       "    }\n",
       "\n",
       "    .dataframe thead th {\n",
       "        text-align: right;\n",
       "    }\n",
       "</style>\n",
       "<table border=\"1\" class=\"dataframe\">\n",
       "  <thead>\n",
       "    <tr style=\"text-align: right;\">\n",
       "      <th></th>\n",
       "      <th>order_id</th>\n",
       "      <th>user_id</th>\n",
       "      <th>order_number</th>\n",
       "      <th>order_dow</th>\n",
       "      <th>order_hour_of_day</th>\n",
       "      <th>days_since_prior_order</th>\n",
       "    </tr>\n",
       "  </thead>\n",
       "  <tbody>\n",
       "  </tbody>\n",
       "</table>\n",
       "</div>"
      ],
      "text/plain": [
       "Empty DataFrame\n",
       "Columns: [order_id, user_id, order_number, order_dow, order_hour_of_day, days_since_prior_order]\n",
       "Index: []"
      ]
     },
     "execution_count": 21,
     "metadata": {},
     "output_type": "execute_result"
    }
   ],
   "source": [
    "# Removing duplicate orders and rechecking the DataFrame\n",
    "df_instacart_orders = df_instacart_orders.drop_duplicates()\n",
    "df_instacart_orders[df_instacart_orders.duplicated()]"
   ]
  },
  {
   "cell_type": "code",
   "execution_count": 22,
   "id": "f6113ef1",
   "metadata": {
    "id": "f6113ef1"
   },
   "outputs": [
    {
     "name": "stdout",
     "output_type": "stream",
     "text": [
      "Empty DataFrame\n",
      "Columns: [order_id, user_id, order_number, order_dow, order_hour_of_day, days_since_prior_order]\n",
      "Index: []\n"
     ]
    }
   ],
   "source": [
    "# Rechecking only duplicate order IDs\n",
    "print(df_instacart_orders[df_instacart_orders.duplicated('order_id')])"
   ]
  },
  {
   "cell_type": "markdown",
   "id": "5e8905ae",
   "metadata": {
    "id": "5e8905ae"
   },
   "source": [
    "Note\n",
    "- By eliminating duplicates we can continue with the analysis without any problems."
   ]
  },
  {
   "cell_type": "markdown",
   "id": "45e6bc46",
   "metadata": {
    "id": "45e6bc46"
   },
   "source": [
    "### DataFrame `products`"
   ]
  },
  {
   "cell_type": "code",
   "execution_count": 23,
   "id": "5f526b5b-8175-46fa-a0fd-441767d50e64",
   "metadata": {
    "id": "5f526b5b-8175-46fa-a0fd-441767d50e64"
   },
   "outputs": [
    {
     "name": "stdout",
     "output_type": "stream",
     "text": [
      "Empty DataFrame\n",
      "Columns: [product_id, product_name, aisle_id, department_id]\n",
      "Index: []\n"
     ]
    }
   ],
   "source": [
    "# Checking for completely duplicate rows\n",
    "print(df_products[df_products.duplicated()])"
   ]
  },
  {
   "cell_type": "code",
   "execution_count": 24,
   "id": "88daa4f4",
   "metadata": {
    "id": "88daa4f4"
   },
   "outputs": [
    {
     "name": "stdout",
     "output_type": "stream",
     "text": [
      "Empty DataFrame\n",
      "Columns: [product_id, product_name, aisle_id, department_id]\n",
      "Index: []\n"
     ]
    }
   ],
   "source": [
    "# Checking only duplicate product IDs\n",
    "print(df_products[df_products['product_id'].duplicated()])"
   ]
  },
  {
   "cell_type": "code",
   "execution_count": 25,
   "id": "c773f0bf",
   "metadata": {
    "id": "c773f0bf"
   },
   "outputs": [
    {
     "data": {
      "text/html": [
       "<div>\n",
       "<style scoped>\n",
       "    .dataframe tbody tr th:only-of-type {\n",
       "        vertical-align: middle;\n",
       "    }\n",
       "\n",
       "    .dataframe tbody tr th {\n",
       "        vertical-align: top;\n",
       "    }\n",
       "\n",
       "    .dataframe thead th {\n",
       "        text-align: right;\n",
       "    }\n",
       "</style>\n",
       "<table border=\"1\" class=\"dataframe\">\n",
       "  <thead>\n",
       "    <tr style=\"text-align: right;\">\n",
       "      <th></th>\n",
       "      <th>product_id</th>\n",
       "      <th>product_name</th>\n",
       "      <th>aisle_id</th>\n",
       "      <th>department_id</th>\n",
       "    </tr>\n",
       "  </thead>\n",
       "  <tbody>\n",
       "    <tr>\n",
       "      <th>71</th>\n",
       "      <td>72</td>\n",
       "      <td>NaN</td>\n",
       "      <td>100</td>\n",
       "      <td>21</td>\n",
       "    </tr>\n",
       "    <tr>\n",
       "      <th>109</th>\n",
       "      <td>110</td>\n",
       "      <td>NaN</td>\n",
       "      <td>100</td>\n",
       "      <td>21</td>\n",
       "    </tr>\n",
       "    <tr>\n",
       "      <th>296</th>\n",
       "      <td>297</td>\n",
       "      <td>NaN</td>\n",
       "      <td>100</td>\n",
       "      <td>21</td>\n",
       "    </tr>\n",
       "    <tr>\n",
       "      <th>416</th>\n",
       "      <td>417</td>\n",
       "      <td>NaN</td>\n",
       "      <td>100</td>\n",
       "      <td>21</td>\n",
       "    </tr>\n",
       "    <tr>\n",
       "      <th>436</th>\n",
       "      <td>437</td>\n",
       "      <td>NaN</td>\n",
       "      <td>100</td>\n",
       "      <td>21</td>\n",
       "    </tr>\n",
       "    <tr>\n",
       "      <th>...</th>\n",
       "      <td>...</td>\n",
       "      <td>...</td>\n",
       "      <td>...</td>\n",
       "      <td>...</td>\n",
       "    </tr>\n",
       "    <tr>\n",
       "      <th>49689</th>\n",
       "      <td>49690</td>\n",
       "      <td>high performance energy drink</td>\n",
       "      <td>64</td>\n",
       "      <td>7</td>\n",
       "    </tr>\n",
       "    <tr>\n",
       "      <th>49690</th>\n",
       "      <td>49691</td>\n",
       "      <td>original pancake &amp; waffle mix</td>\n",
       "      <td>130</td>\n",
       "      <td>14</td>\n",
       "    </tr>\n",
       "    <tr>\n",
       "      <th>49691</th>\n",
       "      <td>49692</td>\n",
       "      <td>organic instant oatmeal light maple brown sugar</td>\n",
       "      <td>130</td>\n",
       "      <td>14</td>\n",
       "    </tr>\n",
       "    <tr>\n",
       "      <th>49692</th>\n",
       "      <td>49693</td>\n",
       "      <td>spring water body wash</td>\n",
       "      <td>127</td>\n",
       "      <td>11</td>\n",
       "    </tr>\n",
       "    <tr>\n",
       "      <th>49693</th>\n",
       "      <td>49694</td>\n",
       "      <td>burrito- steak &amp; cheese</td>\n",
       "      <td>38</td>\n",
       "      <td>1</td>\n",
       "    </tr>\n",
       "  </tbody>\n",
       "</table>\n",
       "<p>1361 rows × 4 columns</p>\n",
       "</div>"
      ],
      "text/plain": [
       "       product_id                                     product_name  aisle_id  \\\n",
       "71             72                                              NaN       100   \n",
       "109           110                                              NaN       100   \n",
       "296           297                                              NaN       100   \n",
       "416           417                                              NaN       100   \n",
       "436           437                                              NaN       100   \n",
       "...           ...                                              ...       ...   \n",
       "49689       49690                    high performance energy drink        64   \n",
       "49690       49691                    original pancake & waffle mix       130   \n",
       "49691       49692  organic instant oatmeal light maple brown sugar       130   \n",
       "49692       49693                           spring water body wash       127   \n",
       "49693       49694                          burrito- steak & cheese        38   \n",
       "\n",
       "       department_id  \n",
       "71                21  \n",
       "109               21  \n",
       "296               21  \n",
       "416               21  \n",
       "436               21  \n",
       "...              ...  \n",
       "49689              7  \n",
       "49690             14  \n",
       "49691             14  \n",
       "49692             11  \n",
       "49693              1  \n",
       "\n",
       "[1361 rows x 4 columns]"
      ]
     },
     "execution_count": 25,
     "metadata": {},
     "output_type": "execute_result"
    }
   ],
   "source": [
    "# Checking only for duplicate product names and converting the names to lowercase for better comparison.\n",
    "df_products['product_name'] = df_products['product_name'].str.lower()\n",
    "df_products[df_products['product_name'].duplicated()]"
   ]
  },
  {
   "cell_type": "code",
   "execution_count": 26,
   "id": "01efd02e",
   "metadata": {
    "id": "01efd02e"
   },
   "outputs": [
    {
     "data": {
      "text/html": [
       "<div>\n",
       "<style scoped>\n",
       "    .dataframe tbody tr th:only-of-type {\n",
       "        vertical-align: middle;\n",
       "    }\n",
       "\n",
       "    .dataframe tbody tr th {\n",
       "        vertical-align: top;\n",
       "    }\n",
       "\n",
       "    .dataframe thead th {\n",
       "        text-align: right;\n",
       "    }\n",
       "</style>\n",
       "<table border=\"1\" class=\"dataframe\">\n",
       "  <thead>\n",
       "    <tr style=\"text-align: right;\">\n",
       "      <th></th>\n",
       "      <th>product_id</th>\n",
       "      <th>product_name</th>\n",
       "      <th>aisle_id</th>\n",
       "      <th>department_id</th>\n",
       "    </tr>\n",
       "  </thead>\n",
       "  <tbody>\n",
       "    <tr>\n",
       "      <th>2058</th>\n",
       "      <td>2059</td>\n",
       "      <td>biotin 1000 mcg</td>\n",
       "      <td>47</td>\n",
       "      <td>11</td>\n",
       "    </tr>\n",
       "    <tr>\n",
       "      <th>5455</th>\n",
       "      <td>5456</td>\n",
       "      <td>green tea with ginseng and honey</td>\n",
       "      <td>96</td>\n",
       "      <td>20</td>\n",
       "    </tr>\n",
       "    <tr>\n",
       "      <th>5558</th>\n",
       "      <td>5559</td>\n",
       "      <td>cream of mushroom soup</td>\n",
       "      <td>69</td>\n",
       "      <td>15</td>\n",
       "    </tr>\n",
       "    <tr>\n",
       "      <th>7558</th>\n",
       "      <td>7559</td>\n",
       "      <td>cinnamon rolls with icing</td>\n",
       "      <td>105</td>\n",
       "      <td>13</td>\n",
       "    </tr>\n",
       "    <tr>\n",
       "      <th>9037</th>\n",
       "      <td>9038</td>\n",
       "      <td>american cheese slices</td>\n",
       "      <td>21</td>\n",
       "      <td>16</td>\n",
       "    </tr>\n",
       "    <tr>\n",
       "      <th>...</th>\n",
       "      <td>...</td>\n",
       "      <td>...</td>\n",
       "      <td>...</td>\n",
       "      <td>...</td>\n",
       "    </tr>\n",
       "    <tr>\n",
       "      <th>49689</th>\n",
       "      <td>49690</td>\n",
       "      <td>high performance energy drink</td>\n",
       "      <td>64</td>\n",
       "      <td>7</td>\n",
       "    </tr>\n",
       "    <tr>\n",
       "      <th>49690</th>\n",
       "      <td>49691</td>\n",
       "      <td>original pancake &amp; waffle mix</td>\n",
       "      <td>130</td>\n",
       "      <td>14</td>\n",
       "    </tr>\n",
       "    <tr>\n",
       "      <th>49691</th>\n",
       "      <td>49692</td>\n",
       "      <td>organic instant oatmeal light maple brown sugar</td>\n",
       "      <td>130</td>\n",
       "      <td>14</td>\n",
       "    </tr>\n",
       "    <tr>\n",
       "      <th>49692</th>\n",
       "      <td>49693</td>\n",
       "      <td>spring water body wash</td>\n",
       "      <td>127</td>\n",
       "      <td>11</td>\n",
       "    </tr>\n",
       "    <tr>\n",
       "      <th>49693</th>\n",
       "      <td>49694</td>\n",
       "      <td>burrito- steak &amp; cheese</td>\n",
       "      <td>38</td>\n",
       "      <td>1</td>\n",
       "    </tr>\n",
       "  </tbody>\n",
       "</table>\n",
       "<p>104 rows × 4 columns</p>\n",
       "</div>"
      ],
      "text/plain": [
       "       product_id                                     product_name  aisle_id  \\\n",
       "2058         2059                                  biotin 1000 mcg        47   \n",
       "5455         5456                 green tea with ginseng and honey        96   \n",
       "5558         5559                           cream of mushroom soup        69   \n",
       "7558         7559                        cinnamon rolls with icing       105   \n",
       "9037         9038                           american cheese slices        21   \n",
       "...           ...                                              ...       ...   \n",
       "49689       49690                    high performance energy drink        64   \n",
       "49690       49691                    original pancake & waffle mix       130   \n",
       "49691       49692  organic instant oatmeal light maple brown sugar       130   \n",
       "49692       49693                           spring water body wash       127   \n",
       "49693       49694                          burrito- steak & cheese        38   \n",
       "\n",
       "       department_id  \n",
       "2058              11  \n",
       "5455              20  \n",
       "5558              15  \n",
       "7558              13  \n",
       "9037              16  \n",
       "...              ...  \n",
       "49689              7  \n",
       "49690             14  \n",
       "49691             14  \n",
       "49692             11  \n",
       "49693              1  \n",
       "\n",
       "[104 rows x 4 columns]"
      ]
     },
     "execution_count": 26,
     "metadata": {},
     "output_type": "execute_result"
    }
   ],
   "source": [
    "# Checking for duplicate product names that are not missing.\n",
    "filter_name = df_products['product_name'].notna()\n",
    "df_products[(filter_name) & (df_products['product_name'].duplicated())]"
   ]
  },
  {
   "cell_type": "markdown",
   "id": "9da8d293",
   "metadata": {
    "id": "9da8d293"
   },
   "source": [
    "Note\n",
    "- In this DataFrame we found several products without names. The correct thing to do would be to check with the person who provided the data before removing them."
   ]
  },
  {
   "cell_type": "markdown",
   "id": "60f30db1",
   "metadata": {
    "id": "60f30db1"
   },
   "source": [
    "### DataFrame `departments`"
   ]
  },
  {
   "cell_type": "code",
   "execution_count": 27,
   "id": "fb410ad4-0fbf-4b80-bb09-23fdea79afe3",
   "metadata": {
    "id": "fb410ad4-0fbf-4b80-bb09-23fdea79afe3"
   },
   "outputs": [
    {
     "data": {
      "text/html": [
       "<div>\n",
       "<style scoped>\n",
       "    .dataframe tbody tr th:only-of-type {\n",
       "        vertical-align: middle;\n",
       "    }\n",
       "\n",
       "    .dataframe tbody tr th {\n",
       "        vertical-align: top;\n",
       "    }\n",
       "\n",
       "    .dataframe thead th {\n",
       "        text-align: right;\n",
       "    }\n",
       "</style>\n",
       "<table border=\"1\" class=\"dataframe\">\n",
       "  <thead>\n",
       "    <tr style=\"text-align: right;\">\n",
       "      <th></th>\n",
       "      <th>department_id</th>\n",
       "      <th>department</th>\n",
       "    </tr>\n",
       "  </thead>\n",
       "  <tbody>\n",
       "  </tbody>\n",
       "</table>\n",
       "</div>"
      ],
      "text/plain": [
       "Empty DataFrame\n",
       "Columns: [department_id, department]\n",
       "Index: []"
      ]
     },
     "execution_count": 27,
     "metadata": {},
     "output_type": "execute_result"
    }
   ],
   "source": [
    "# Check for completely duplicate rows\n",
    "df_departments[df_departments.duplicated()]"
   ]
  },
  {
   "cell_type": "code",
   "execution_count": 28,
   "id": "332b12bb",
   "metadata": {
    "id": "332b12bb"
   },
   "outputs": [
    {
     "data": {
      "text/html": [
       "<div>\n",
       "<style scoped>\n",
       "    .dataframe tbody tr th:only-of-type {\n",
       "        vertical-align: middle;\n",
       "    }\n",
       "\n",
       "    .dataframe tbody tr th {\n",
       "        vertical-align: top;\n",
       "    }\n",
       "\n",
       "    .dataframe thead th {\n",
       "        text-align: right;\n",
       "    }\n",
       "</style>\n",
       "<table border=\"1\" class=\"dataframe\">\n",
       "  <thead>\n",
       "    <tr style=\"text-align: right;\">\n",
       "      <th></th>\n",
       "      <th>department_id</th>\n",
       "      <th>department</th>\n",
       "    </tr>\n",
       "  </thead>\n",
       "  <tbody>\n",
       "  </tbody>\n",
       "</table>\n",
       "</div>"
      ],
      "text/plain": [
       "Empty DataFrame\n",
       "Columns: [department_id, department]\n",
       "Index: []"
      ]
     },
     "execution_count": 28,
     "metadata": {},
     "output_type": "execute_result"
    }
   ],
   "source": [
    "# Only check for duplicate product IDs\n",
    "df_departments[df_departments['department_id'].duplicated()]"
   ]
  },
  {
   "cell_type": "markdown",
   "id": "bd30d78e",
   "metadata": {
    "id": "bd30d78e"
   },
   "source": [
    "Note\n",
    "- In this DataFrame we do not have duplicate data."
   ]
  },
  {
   "cell_type": "markdown",
   "id": "889349c1",
   "metadata": {
    "id": "889349c1"
   },
   "source": [
    "### DataFrame `aisles`"
   ]
  },
  {
   "cell_type": "code",
   "execution_count": 29,
   "id": "9da89fb9-4679-40f5-ad0d-c34df753a3f8",
   "metadata": {
    "id": "9da89fb9-4679-40f5-ad0d-c34df753a3f8"
   },
   "outputs": [
    {
     "data": {
      "text/html": [
       "<div>\n",
       "<style scoped>\n",
       "    .dataframe tbody tr th:only-of-type {\n",
       "        vertical-align: middle;\n",
       "    }\n",
       "\n",
       "    .dataframe tbody tr th {\n",
       "        vertical-align: top;\n",
       "    }\n",
       "\n",
       "    .dataframe thead th {\n",
       "        text-align: right;\n",
       "    }\n",
       "</style>\n",
       "<table border=\"1\" class=\"dataframe\">\n",
       "  <thead>\n",
       "    <tr style=\"text-align: right;\">\n",
       "      <th></th>\n",
       "      <th>aisle_id</th>\n",
       "      <th>aisle</th>\n",
       "    </tr>\n",
       "  </thead>\n",
       "  <tbody>\n",
       "  </tbody>\n",
       "</table>\n",
       "</div>"
      ],
      "text/plain": [
       "Empty DataFrame\n",
       "Columns: [aisle_id, aisle]\n",
       "Index: []"
      ]
     },
     "execution_count": 29,
     "metadata": {},
     "output_type": "execute_result"
    }
   ],
   "source": [
    "# Check for completely duplicate rows\n",
    "df_aisles[df_aisles.duplicated()]"
   ]
  },
  {
   "cell_type": "code",
   "execution_count": 30,
   "id": "da7c2822",
   "metadata": {
    "id": "da7c2822"
   },
   "outputs": [
    {
     "data": {
      "text/html": [
       "<div>\n",
       "<style scoped>\n",
       "    .dataframe tbody tr th:only-of-type {\n",
       "        vertical-align: middle;\n",
       "    }\n",
       "\n",
       "    .dataframe tbody tr th {\n",
       "        vertical-align: top;\n",
       "    }\n",
       "\n",
       "    .dataframe thead th {\n",
       "        text-align: right;\n",
       "    }\n",
       "</style>\n",
       "<table border=\"1\" class=\"dataframe\">\n",
       "  <thead>\n",
       "    <tr style=\"text-align: right;\">\n",
       "      <th></th>\n",
       "      <th>aisle_id</th>\n",
       "      <th>aisle</th>\n",
       "    </tr>\n",
       "  </thead>\n",
       "  <tbody>\n",
       "  </tbody>\n",
       "</table>\n",
       "</div>"
      ],
      "text/plain": [
       "Empty DataFrame\n",
       "Columns: [aisle_id, aisle]\n",
       "Index: []"
      ]
     },
     "execution_count": 30,
     "metadata": {},
     "output_type": "execute_result"
    }
   ],
   "source": [
    "# Only check for duplicate product IDs\n",
    "df_aisles[df_aisles['aisle_id'].duplicated()]"
   ]
  },
  {
   "cell_type": "markdown",
   "id": "ac63826f",
   "metadata": {
    "id": "ac63826f"
   },
   "source": [
    "Note\n",
    "- In this DataFrame we also did not find duplicate data."
   ]
  },
  {
   "cell_type": "markdown",
   "id": "274cd06a",
   "metadata": {
    "id": "274cd06a"
   },
   "source": [
    "### DataFrame `order_products`"
   ]
  },
  {
   "cell_type": "code",
   "execution_count": 31,
   "id": "52326689-84a8-4b8f-a881-7c68780f62c9",
   "metadata": {
    "id": "52326689-84a8-4b8f-a881-7c68780f62c9"
   },
   "outputs": [
    {
     "data": {
      "text/html": [
       "<div>\n",
       "<style scoped>\n",
       "    .dataframe tbody tr th:only-of-type {\n",
       "        vertical-align: middle;\n",
       "    }\n",
       "\n",
       "    .dataframe tbody tr th {\n",
       "        vertical-align: top;\n",
       "    }\n",
       "\n",
       "    .dataframe thead th {\n",
       "        text-align: right;\n",
       "    }\n",
       "</style>\n",
       "<table border=\"1\" class=\"dataframe\">\n",
       "  <thead>\n",
       "    <tr style=\"text-align: right;\">\n",
       "      <th></th>\n",
       "      <th>order_id</th>\n",
       "      <th>product_id</th>\n",
       "      <th>add_to_cart_order</th>\n",
       "      <th>reordered</th>\n",
       "    </tr>\n",
       "  </thead>\n",
       "  <tbody>\n",
       "  </tbody>\n",
       "</table>\n",
       "</div>"
      ],
      "text/plain": [
       "Empty DataFrame\n",
       "Columns: [order_id, product_id, add_to_cart_order, reordered]\n",
       "Index: []"
      ]
     },
     "execution_count": 31,
     "metadata": {},
     "output_type": "execute_result"
    }
   ],
   "source": [
    "# Check for completely duplicate rows\n",
    "df_order_products[df_order_products.duplicated()]"
   ]
  },
  {
   "cell_type": "code",
   "execution_count": 32,
   "id": "7b861391",
   "metadata": {
    "id": "7b861391",
    "scrolled": false
   },
   "outputs": [
    {
     "data": {
      "text/html": [
       "<div>\n",
       "<style scoped>\n",
       "    .dataframe tbody tr th:only-of-type {\n",
       "        vertical-align: middle;\n",
       "    }\n",
       "\n",
       "    .dataframe tbody tr th {\n",
       "        vertical-align: top;\n",
       "    }\n",
       "\n",
       "    .dataframe thead th {\n",
       "        text-align: right;\n",
       "    }\n",
       "</style>\n",
       "<table border=\"1\" class=\"dataframe\">\n",
       "  <thead>\n",
       "    <tr style=\"text-align: right;\">\n",
       "      <th></th>\n",
       "      <th>order_id</th>\n",
       "      <th>product_id</th>\n",
       "      <th>add_to_cart_order</th>\n",
       "      <th>reordered</th>\n",
       "    </tr>\n",
       "  </thead>\n",
       "  <tbody>\n",
       "    <tr>\n",
       "      <th>824</th>\n",
       "      <td>844425</td>\n",
       "      <td>39408</td>\n",
       "      <td>10.0</td>\n",
       "      <td>1</td>\n",
       "    </tr>\n",
       "    <tr>\n",
       "      <th>1303</th>\n",
       "      <td>2825714</td>\n",
       "      <td>44632</td>\n",
       "      <td>16.0</td>\n",
       "      <td>1</td>\n",
       "    </tr>\n",
       "    <tr>\n",
       "      <th>1723</th>\n",
       "      <td>2658937</td>\n",
       "      <td>15740</td>\n",
       "      <td>23.0</td>\n",
       "      <td>1</td>\n",
       "    </tr>\n",
       "    <tr>\n",
       "      <th>1837</th>\n",
       "      <td>1945917</td>\n",
       "      <td>19348</td>\n",
       "      <td>1.0</td>\n",
       "      <td>1</td>\n",
       "    </tr>\n",
       "    <tr>\n",
       "      <th>2013</th>\n",
       "      <td>1914624</td>\n",
       "      <td>46175</td>\n",
       "      <td>13.0</td>\n",
       "      <td>0</td>\n",
       "    </tr>\n",
       "    <tr>\n",
       "      <th>...</th>\n",
       "      <td>...</td>\n",
       "      <td>...</td>\n",
       "      <td>...</td>\n",
       "      <td>...</td>\n",
       "    </tr>\n",
       "    <tr>\n",
       "      <th>4545002</th>\n",
       "      <td>577211</td>\n",
       "      <td>15290</td>\n",
       "      <td>12.0</td>\n",
       "      <td>1</td>\n",
       "    </tr>\n",
       "    <tr>\n",
       "      <th>4545003</th>\n",
       "      <td>1219554</td>\n",
       "      <td>21914</td>\n",
       "      <td>9.0</td>\n",
       "      <td>0</td>\n",
       "    </tr>\n",
       "    <tr>\n",
       "      <th>4545004</th>\n",
       "      <td>692640</td>\n",
       "      <td>47766</td>\n",
       "      <td>4.0</td>\n",
       "      <td>1</td>\n",
       "    </tr>\n",
       "    <tr>\n",
       "      <th>4545005</th>\n",
       "      <td>319435</td>\n",
       "      <td>691</td>\n",
       "      <td>8.0</td>\n",
       "      <td>1</td>\n",
       "    </tr>\n",
       "    <tr>\n",
       "      <th>4545006</th>\n",
       "      <td>1398151</td>\n",
       "      <td>28733</td>\n",
       "      <td>9.0</td>\n",
       "      <td>0</td>\n",
       "    </tr>\n",
       "  </tbody>\n",
       "</table>\n",
       "<p>4072526 rows × 4 columns</p>\n",
       "</div>"
      ],
      "text/plain": [
       "         order_id  product_id  add_to_cart_order  reordered\n",
       "824        844425       39408               10.0          1\n",
       "1303      2825714       44632               16.0          1\n",
       "1723      2658937       15740               23.0          1\n",
       "1837      1945917       19348                1.0          1\n",
       "2013      1914624       46175               13.0          0\n",
       "...           ...         ...                ...        ...\n",
       "4545002    577211       15290               12.0          1\n",
       "4545003   1219554       21914                9.0          0\n",
       "4545004    692640       47766                4.0          1\n",
       "4545005    319435         691                8.0          1\n",
       "4545006   1398151       28733                9.0          0\n",
       "\n",
       "[4072526 rows x 4 columns]"
      ]
     },
     "execution_count": 32,
     "metadata": {},
     "output_type": "execute_result"
    }
   ],
   "source": [
    "# Double check for other complicated duplicate cases.\n",
    "\n",
    "df_order_products[(df_order_products['order_id'].duplicated()) & (df_order_products['product_id'].duplicated())]"
   ]
  },
  {
   "cell_type": "markdown",
   "id": "0b890492",
   "metadata": {
    "id": "0b890492"
   },
   "source": [
    "Note\n",
    "- We don't have any duplicates here either."
   ]
  },
  {
   "cell_type": "markdown",
   "id": "1e46de76",
   "metadata": {
    "id": "1e46de76"
   },
   "source": [
    "## Searching for and Removing Missing Values\n",
    "\n",
    "While processing duplicate values, we notice that we also have missing values ​​that we need to investigate in the following columns:\n",
    "\n",
    "* The `'product_name'` column from the products table.\n",
    "* The `'days_since_prior_order'` column from the orders table.\n",
    "* The `'add_to_cart_order'` column from the order_products table.\n"
   ]
  },
  {
   "cell_type": "markdown",
   "id": "c0aebd78",
   "metadata": {
    "id": "c0aebd78"
   },
   "source": [
    "### DataFrame `products`"
   ]
  },
  {
   "cell_type": "code",
   "execution_count": 33,
   "id": "fe4a8b0f",
   "metadata": {
    "id": "fe4a8b0f"
   },
   "outputs": [
    {
     "data": {
      "text/html": [
       "<div>\n",
       "<style scoped>\n",
       "    .dataframe tbody tr th:only-of-type {\n",
       "        vertical-align: middle;\n",
       "    }\n",
       "\n",
       "    .dataframe tbody tr th {\n",
       "        vertical-align: top;\n",
       "    }\n",
       "\n",
       "    .dataframe thead th {\n",
       "        text-align: right;\n",
       "    }\n",
       "</style>\n",
       "<table border=\"1\" class=\"dataframe\">\n",
       "  <thead>\n",
       "    <tr style=\"text-align: right;\">\n",
       "      <th></th>\n",
       "      <th>product_id</th>\n",
       "      <th>product_name</th>\n",
       "      <th>aisle_id</th>\n",
       "      <th>department_id</th>\n",
       "    </tr>\n",
       "  </thead>\n",
       "  <tbody>\n",
       "    <tr>\n",
       "      <th>37</th>\n",
       "      <td>38</td>\n",
       "      <td>NaN</td>\n",
       "      <td>100</td>\n",
       "      <td>21</td>\n",
       "    </tr>\n",
       "    <tr>\n",
       "      <th>71</th>\n",
       "      <td>72</td>\n",
       "      <td>NaN</td>\n",
       "      <td>100</td>\n",
       "      <td>21</td>\n",
       "    </tr>\n",
       "    <tr>\n",
       "      <th>109</th>\n",
       "      <td>110</td>\n",
       "      <td>NaN</td>\n",
       "      <td>100</td>\n",
       "      <td>21</td>\n",
       "    </tr>\n",
       "    <tr>\n",
       "      <th>296</th>\n",
       "      <td>297</td>\n",
       "      <td>NaN</td>\n",
       "      <td>100</td>\n",
       "      <td>21</td>\n",
       "    </tr>\n",
       "    <tr>\n",
       "      <th>416</th>\n",
       "      <td>417</td>\n",
       "      <td>NaN</td>\n",
       "      <td>100</td>\n",
       "      <td>21</td>\n",
       "    </tr>\n",
       "    <tr>\n",
       "      <th>...</th>\n",
       "      <td>...</td>\n",
       "      <td>...</td>\n",
       "      <td>...</td>\n",
       "      <td>...</td>\n",
       "    </tr>\n",
       "    <tr>\n",
       "      <th>49552</th>\n",
       "      <td>49553</td>\n",
       "      <td>NaN</td>\n",
       "      <td>100</td>\n",
       "      <td>21</td>\n",
       "    </tr>\n",
       "    <tr>\n",
       "      <th>49574</th>\n",
       "      <td>49575</td>\n",
       "      <td>NaN</td>\n",
       "      <td>100</td>\n",
       "      <td>21</td>\n",
       "    </tr>\n",
       "    <tr>\n",
       "      <th>49640</th>\n",
       "      <td>49641</td>\n",
       "      <td>NaN</td>\n",
       "      <td>100</td>\n",
       "      <td>21</td>\n",
       "    </tr>\n",
       "    <tr>\n",
       "      <th>49663</th>\n",
       "      <td>49664</td>\n",
       "      <td>NaN</td>\n",
       "      <td>100</td>\n",
       "      <td>21</td>\n",
       "    </tr>\n",
       "    <tr>\n",
       "      <th>49668</th>\n",
       "      <td>49669</td>\n",
       "      <td>NaN</td>\n",
       "      <td>100</td>\n",
       "      <td>21</td>\n",
       "    </tr>\n",
       "  </tbody>\n",
       "</table>\n",
       "<p>1258 rows × 4 columns</p>\n",
       "</div>"
      ],
      "text/plain": [
       "       product_id product_name  aisle_id  department_id\n",
       "37             38          NaN       100             21\n",
       "71             72          NaN       100             21\n",
       "109           110          NaN       100             21\n",
       "296           297          NaN       100             21\n",
       "416           417          NaN       100             21\n",
       "...           ...          ...       ...            ...\n",
       "49552       49553          NaN       100             21\n",
       "49574       49575          NaN       100             21\n",
       "49640       49641          NaN       100             21\n",
       "49663       49664          NaN       100             21\n",
       "49668       49669          NaN       100             21\n",
       "\n",
       "[1258 rows x 4 columns]"
      ]
     },
     "execution_count": 33,
     "metadata": {},
     "output_type": "execute_result"
    }
   ],
   "source": [
    "# Finding missing values ​​in column 'product_name'\n",
    "df_products[df_products['product_name'].isna()]"
   ]
  },
  {
   "cell_type": "markdown",
   "id": "-A6x1AbJhjkp",
   "metadata": {
    "id": "-A6x1AbJhjkp"
   },
   "source": [
    "Note\n",
    "- The unnamed products probably come from the addition of aisle number 100"
   ]
  },
  {
   "cell_type": "code",
   "execution_count": 34,
   "id": "e96167bc",
   "metadata": {
    "id": "e96167bc"
   },
   "outputs": [
    {
     "data": {
      "text/html": [
       "<div>\n",
       "<style scoped>\n",
       "    .dataframe tbody tr th:only-of-type {\n",
       "        vertical-align: middle;\n",
       "    }\n",
       "\n",
       "    .dataframe tbody tr th {\n",
       "        vertical-align: top;\n",
       "    }\n",
       "\n",
       "    .dataframe thead th {\n",
       "        text-align: right;\n",
       "    }\n",
       "</style>\n",
       "<table border=\"1\" class=\"dataframe\">\n",
       "  <thead>\n",
       "    <tr style=\"text-align: right;\">\n",
       "      <th></th>\n",
       "      <th>product_id</th>\n",
       "      <th>product_name</th>\n",
       "      <th>aisle_id</th>\n",
       "      <th>department_id</th>\n",
       "    </tr>\n",
       "  </thead>\n",
       "  <tbody>\n",
       "    <tr>\n",
       "      <th>37</th>\n",
       "      <td>38</td>\n",
       "      <td>NaN</td>\n",
       "      <td>100</td>\n",
       "      <td>21</td>\n",
       "    </tr>\n",
       "    <tr>\n",
       "      <th>71</th>\n",
       "      <td>72</td>\n",
       "      <td>NaN</td>\n",
       "      <td>100</td>\n",
       "      <td>21</td>\n",
       "    </tr>\n",
       "    <tr>\n",
       "      <th>109</th>\n",
       "      <td>110</td>\n",
       "      <td>NaN</td>\n",
       "      <td>100</td>\n",
       "      <td>21</td>\n",
       "    </tr>\n",
       "    <tr>\n",
       "      <th>296</th>\n",
       "      <td>297</td>\n",
       "      <td>NaN</td>\n",
       "      <td>100</td>\n",
       "      <td>21</td>\n",
       "    </tr>\n",
       "    <tr>\n",
       "      <th>416</th>\n",
       "      <td>417</td>\n",
       "      <td>NaN</td>\n",
       "      <td>100</td>\n",
       "      <td>21</td>\n",
       "    </tr>\n",
       "    <tr>\n",
       "      <th>...</th>\n",
       "      <td>...</td>\n",
       "      <td>...</td>\n",
       "      <td>...</td>\n",
       "      <td>...</td>\n",
       "    </tr>\n",
       "    <tr>\n",
       "      <th>49552</th>\n",
       "      <td>49553</td>\n",
       "      <td>NaN</td>\n",
       "      <td>100</td>\n",
       "      <td>21</td>\n",
       "    </tr>\n",
       "    <tr>\n",
       "      <th>49574</th>\n",
       "      <td>49575</td>\n",
       "      <td>NaN</td>\n",
       "      <td>100</td>\n",
       "      <td>21</td>\n",
       "    </tr>\n",
       "    <tr>\n",
       "      <th>49640</th>\n",
       "      <td>49641</td>\n",
       "      <td>NaN</td>\n",
       "      <td>100</td>\n",
       "      <td>21</td>\n",
       "    </tr>\n",
       "    <tr>\n",
       "      <th>49663</th>\n",
       "      <td>49664</td>\n",
       "      <td>NaN</td>\n",
       "      <td>100</td>\n",
       "      <td>21</td>\n",
       "    </tr>\n",
       "    <tr>\n",
       "      <th>49668</th>\n",
       "      <td>49669</td>\n",
       "      <td>NaN</td>\n",
       "      <td>100</td>\n",
       "      <td>21</td>\n",
       "    </tr>\n",
       "  </tbody>\n",
       "</table>\n",
       "<p>1258 rows × 4 columns</p>\n",
       "</div>"
      ],
      "text/plain": [
       "       product_id product_name  aisle_id  department_id\n",
       "37             38          NaN       100             21\n",
       "71             72          NaN       100             21\n",
       "109           110          NaN       100             21\n",
       "296           297          NaN       100             21\n",
       "416           417          NaN       100             21\n",
       "...           ...          ...       ...            ...\n",
       "49552       49553          NaN       100             21\n",
       "49574       49575          NaN       100             21\n",
       "49640       49641          NaN       100             21\n",
       "49663       49664          NaN       100             21\n",
       "49668       49669          NaN       100             21\n",
       "\n",
       "[1258 rows x 4 columns]"
      ]
     },
     "execution_count": 34,
     "metadata": {},
     "output_type": "execute_result"
    }
   ],
   "source": [
    "# Are all missing product names associated with aisle ID 100?\n",
    "aisle_100 = df_products[(df_products['product_name'].isna()) & (df_products['aisle_id'] == 100)]\n",
    "aisle_100"
   ]
  },
  {
   "cell_type": "markdown",
   "id": "WRpIfXRphpSL",
   "metadata": {
    "id": "WRpIfXRphpSL"
   },
   "source": [
    "Note\n",
    "- This corridor may have been added by mistake or may still be created."
   ]
  },
  {
   "cell_type": "code",
   "execution_count": 35,
   "id": "8fd0a541",
   "metadata": {
    "id": "8fd0a541"
   },
   "outputs": [
    {
     "data": {
      "text/html": [
       "<div>\n",
       "<style scoped>\n",
       "    .dataframe tbody tr th:only-of-type {\n",
       "        vertical-align: middle;\n",
       "    }\n",
       "\n",
       "    .dataframe tbody tr th {\n",
       "        vertical-align: top;\n",
       "    }\n",
       "\n",
       "    .dataframe thead th {\n",
       "        text-align: right;\n",
       "    }\n",
       "</style>\n",
       "<table border=\"1\" class=\"dataframe\">\n",
       "  <thead>\n",
       "    <tr style=\"text-align: right;\">\n",
       "      <th></th>\n",
       "      <th>product_id</th>\n",
       "      <th>product_name</th>\n",
       "      <th>aisle_id</th>\n",
       "      <th>department_id</th>\n",
       "    </tr>\n",
       "  </thead>\n",
       "  <tbody>\n",
       "    <tr>\n",
       "      <th>37</th>\n",
       "      <td>38</td>\n",
       "      <td>NaN</td>\n",
       "      <td>100</td>\n",
       "      <td>21</td>\n",
       "    </tr>\n",
       "    <tr>\n",
       "      <th>71</th>\n",
       "      <td>72</td>\n",
       "      <td>NaN</td>\n",
       "      <td>100</td>\n",
       "      <td>21</td>\n",
       "    </tr>\n",
       "    <tr>\n",
       "      <th>109</th>\n",
       "      <td>110</td>\n",
       "      <td>NaN</td>\n",
       "      <td>100</td>\n",
       "      <td>21</td>\n",
       "    </tr>\n",
       "    <tr>\n",
       "      <th>296</th>\n",
       "      <td>297</td>\n",
       "      <td>NaN</td>\n",
       "      <td>100</td>\n",
       "      <td>21</td>\n",
       "    </tr>\n",
       "    <tr>\n",
       "      <th>416</th>\n",
       "      <td>417</td>\n",
       "      <td>NaN</td>\n",
       "      <td>100</td>\n",
       "      <td>21</td>\n",
       "    </tr>\n",
       "    <tr>\n",
       "      <th>...</th>\n",
       "      <td>...</td>\n",
       "      <td>...</td>\n",
       "      <td>...</td>\n",
       "      <td>...</td>\n",
       "    </tr>\n",
       "    <tr>\n",
       "      <th>49552</th>\n",
       "      <td>49553</td>\n",
       "      <td>NaN</td>\n",
       "      <td>100</td>\n",
       "      <td>21</td>\n",
       "    </tr>\n",
       "    <tr>\n",
       "      <th>49574</th>\n",
       "      <td>49575</td>\n",
       "      <td>NaN</td>\n",
       "      <td>100</td>\n",
       "      <td>21</td>\n",
       "    </tr>\n",
       "    <tr>\n",
       "      <th>49640</th>\n",
       "      <td>49641</td>\n",
       "      <td>NaN</td>\n",
       "      <td>100</td>\n",
       "      <td>21</td>\n",
       "    </tr>\n",
       "    <tr>\n",
       "      <th>49663</th>\n",
       "      <td>49664</td>\n",
       "      <td>NaN</td>\n",
       "      <td>100</td>\n",
       "      <td>21</td>\n",
       "    </tr>\n",
       "    <tr>\n",
       "      <th>49668</th>\n",
       "      <td>49669</td>\n",
       "      <td>NaN</td>\n",
       "      <td>100</td>\n",
       "      <td>21</td>\n",
       "    </tr>\n",
       "  </tbody>\n",
       "</table>\n",
       "<p>1258 rows × 4 columns</p>\n",
       "</div>"
      ],
      "text/plain": [
       "       product_id product_name  aisle_id  department_id\n",
       "37             38          NaN       100             21\n",
       "71             72          NaN       100             21\n",
       "109           110          NaN       100             21\n",
       "296           297          NaN       100             21\n",
       "416           417          NaN       100             21\n",
       "...           ...          ...       ...            ...\n",
       "49552       49553          NaN       100             21\n",
       "49574       49575          NaN       100             21\n",
       "49640       49641          NaN       100             21\n",
       "49663       49664          NaN       100             21\n",
       "49668       49669          NaN       100             21\n",
       "\n",
       "[1258 rows x 4 columns]"
      ]
     },
     "execution_count": 35,
     "metadata": {},
     "output_type": "execute_result"
    }
   ],
   "source": [
    "# Are all missing product names associated with department ID 21?\n",
    "df_products[(df_products['product_name'].isna()) & (df_products['department_id'] == 21)]"
   ]
  },
  {
   "cell_type": "markdown",
   "id": "qDpdYn1Fht_I",
   "metadata": {
    "id": "qDpdYn1Fht_I"
   },
   "source": [
    "Note\n",
    "- Perhaps this aisle was created in the system for a future addition as the product IDs are apparently different."
   ]
  },
  {
   "cell_type": "code",
   "execution_count": 36,
   "id": "325c3464",
   "metadata": {
    "id": "325c3464"
   },
   "outputs": [
    {
     "data": {
      "text/html": [
       "<div>\n",
       "<style scoped>\n",
       "    .dataframe tbody tr th:only-of-type {\n",
       "        vertical-align: middle;\n",
       "    }\n",
       "\n",
       "    .dataframe tbody tr th {\n",
       "        vertical-align: top;\n",
       "    }\n",
       "\n",
       "    .dataframe thead th {\n",
       "        text-align: right;\n",
       "    }\n",
       "</style>\n",
       "<table border=\"1\" class=\"dataframe\">\n",
       "  <thead>\n",
       "    <tr style=\"text-align: right;\">\n",
       "      <th></th>\n",
       "      <th>product_id</th>\n",
       "      <th>product_name</th>\n",
       "      <th>aisle_id</th>\n",
       "      <th>department_id</th>\n",
       "    </tr>\n",
       "  </thead>\n",
       "  <tbody>\n",
       "    <tr>\n",
       "      <th>37</th>\n",
       "      <td>38</td>\n",
       "      <td>NaN</td>\n",
       "      <td>100</td>\n",
       "      <td>21</td>\n",
       "    </tr>\n",
       "    <tr>\n",
       "      <th>71</th>\n",
       "      <td>72</td>\n",
       "      <td>NaN</td>\n",
       "      <td>100</td>\n",
       "      <td>21</td>\n",
       "    </tr>\n",
       "    <tr>\n",
       "      <th>109</th>\n",
       "      <td>110</td>\n",
       "      <td>NaN</td>\n",
       "      <td>100</td>\n",
       "      <td>21</td>\n",
       "    </tr>\n",
       "    <tr>\n",
       "      <th>296</th>\n",
       "      <td>297</td>\n",
       "      <td>NaN</td>\n",
       "      <td>100</td>\n",
       "      <td>21</td>\n",
       "    </tr>\n",
       "    <tr>\n",
       "      <th>416</th>\n",
       "      <td>417</td>\n",
       "      <td>NaN</td>\n",
       "      <td>100</td>\n",
       "      <td>21</td>\n",
       "    </tr>\n",
       "    <tr>\n",
       "      <th>...</th>\n",
       "      <td>...</td>\n",
       "      <td>...</td>\n",
       "      <td>...</td>\n",
       "      <td>...</td>\n",
       "    </tr>\n",
       "    <tr>\n",
       "      <th>49552</th>\n",
       "      <td>49553</td>\n",
       "      <td>NaN</td>\n",
       "      <td>100</td>\n",
       "      <td>21</td>\n",
       "    </tr>\n",
       "    <tr>\n",
       "      <th>49574</th>\n",
       "      <td>49575</td>\n",
       "      <td>NaN</td>\n",
       "      <td>100</td>\n",
       "      <td>21</td>\n",
       "    </tr>\n",
       "    <tr>\n",
       "      <th>49640</th>\n",
       "      <td>49641</td>\n",
       "      <td>NaN</td>\n",
       "      <td>100</td>\n",
       "      <td>21</td>\n",
       "    </tr>\n",
       "    <tr>\n",
       "      <th>49663</th>\n",
       "      <td>49664</td>\n",
       "      <td>NaN</td>\n",
       "      <td>100</td>\n",
       "      <td>21</td>\n",
       "    </tr>\n",
       "    <tr>\n",
       "      <th>49668</th>\n",
       "      <td>49669</td>\n",
       "      <td>NaN</td>\n",
       "      <td>100</td>\n",
       "      <td>21</td>\n",
       "    </tr>\n",
       "  </tbody>\n",
       "</table>\n",
       "<p>1258 rows × 4 columns</p>\n",
       "</div>"
      ],
      "text/plain": [
       "       product_id product_name  aisle_id  department_id\n",
       "37             38          NaN       100             21\n",
       "71             72          NaN       100             21\n",
       "109           110          NaN       100             21\n",
       "296           297          NaN       100             21\n",
       "416           417          NaN       100             21\n",
       "...           ...          ...       ...            ...\n",
       "49552       49553          NaN       100             21\n",
       "49574       49575          NaN       100             21\n",
       "49640       49641          NaN       100             21\n",
       "49663       49664          NaN       100             21\n",
       "49668       49669          NaN       100             21\n",
       "\n",
       "[1258 rows x 4 columns]"
      ]
     },
     "execution_count": 36,
     "metadata": {},
     "output_type": "execute_result"
    }
   ],
   "source": [
    "# Using the department and aisle tables to check the data for the aisle with ID 100 and the department with ID 21.\n",
    "df_products[(df_products['aisle_id'] == 100) & (df_products['department_id'] == 21)]"
   ]
  },
  {
   "cell_type": "markdown",
   "id": "nqhSTUPhhvEJ",
   "metadata": {
    "id": "nqhSTUPhhvEJ"
   },
   "source": [
    "Note\n",
    "- Comparing all the columns we can see that this data does not actually exist."
   ]
  },
  {
   "cell_type": "code",
   "execution_count": 27,
   "id": "6b295120",
   "metadata": {
    "id": "6b295120"
   },
   "outputs": [],
   "source": [
    "# Filling missing product names with 'Unknown'\n",
    "df_products['product_name'] = df_products['product_name'].fillna('Unknown')"
   ]
  },
  {
   "cell_type": "markdown",
   "id": "fc70e5ad",
   "metadata": {
    "id": "fc70e5ad"
   },
   "source": [
    "Note\n",
    "- We have replaced the unnamed products with 'unknown' as we do not want to remove them."
   ]
  },
  {
   "cell_type": "markdown",
   "id": "7eb45c86",
   "metadata": {
    "id": "7eb45c86"
   },
   "source": [
    "### DataFrame `orders`"
   ]
  },
  {
   "cell_type": "code",
   "execution_count": 37,
   "id": "93e41d96",
   "metadata": {
    "id": "93e41d96"
   },
   "outputs": [
    {
     "data": {
      "text/plain": [
       "order_id                      0\n",
       "user_id                       0\n",
       "order_number                  0\n",
       "order_dow                     0\n",
       "order_hour_of_day             0\n",
       "days_since_prior_order    28817\n",
       "dtype: int64"
      ]
     },
     "execution_count": 37,
     "metadata": {},
     "output_type": "execute_result"
    }
   ],
   "source": [
    "# Finding missing values\n",
    "df_instacart_orders.isna().sum()"
   ]
  },
  {
   "cell_type": "code",
   "execution_count": 38,
   "id": "166e5a86",
   "metadata": {
    "id": "166e5a86"
   },
   "outputs": [
    {
     "data": {
      "text/plain": [
       "Series([], Name: count, dtype: int64)"
      ]
     },
     "execution_count": 38,
     "metadata": {},
     "output_type": "execute_result"
    }
   ],
   "source": [
    "# Are there missing values ​​for customers who are not placing their first order?\n",
    "finding_nan = df_instacart_orders[(df_instacart_orders['order_number'] == 1) & (df_instacart_orders['days_since_prior_order'].isna())]\n",
    "finding_nan.value_counts()"
   ]
  },
  {
   "cell_type": "markdown",
   "id": "4e23d089",
   "metadata": {
    "id": "4e23d089"
   },
   "source": [
    "Note\n",
    "- We only have missing values ​​for people who place their first order."
   ]
  },
  {
   "cell_type": "markdown",
   "id": "69dc9ca4",
   "metadata": {
    "id": "69dc9ca4"
   },
   "source": [
    "### DataFrame `order_products`"
   ]
  },
  {
   "cell_type": "code",
   "execution_count": 39,
   "id": "b8240253",
   "metadata": {
    "id": "b8240253"
   },
   "outputs": [
    {
     "data": {
      "text/plain": [
       "order_id               0\n",
       "product_id             0\n",
       "add_to_cart_order    836\n",
       "reordered              0\n",
       "dtype: int64"
      ]
     },
     "execution_count": 39,
     "metadata": {},
     "output_type": "execute_result"
    }
   ],
   "source": [
    "# Searching for missing values\n",
    "df_order_products.isna().sum()\n"
   ]
  },
  {
   "cell_type": "code",
   "execution_count": 40,
   "id": "9a78e5ee",
   "metadata": {
    "id": "9a78e5ee"
   },
   "outputs": [
    {
     "data": {
      "text/plain": [
       "(1.0, 64.0)"
      ]
     },
     "execution_count": 40,
     "metadata": {},
     "output_type": "execute_result"
    }
   ],
   "source": [
    "# What are the minimum and maximum values ​​for this column?\n",
    "min_and_max = df_order_products['add_to_cart_order'].min(), df_order_products['add_to_cart_order'].max()\n",
    "min_and_max"
   ]
  },
  {
   "cell_type": "markdown",
   "id": "-Z2Ja215jW78",
   "metadata": {
    "id": "-Z2Ja215jW78"
   },
   "source": [
    "Note\n",
    "- We found missing values ​​only in the add to cart order column."
   ]
  },
  {
   "cell_type": "code",
   "execution_count": 41,
   "id": "ab9d0c2b",
   "metadata": {
    "id": "ab9d0c2b"
   },
   "outputs": [
    {
     "data": {
      "text/plain": [
       "737        2449164\n",
       "9926       1968313\n",
       "14394      2926893\n",
       "16418      1717990\n",
       "30114      1959075\n",
       "            ...   \n",
       "4505662    1800005\n",
       "4511400    1633337\n",
       "4517562     404157\n",
       "4534112    1673227\n",
       "4535739    1832957\n",
       "Name: order_id, Length: 836, dtype: int64"
      ]
     },
     "execution_count": 41,
     "metadata": {},
     "output_type": "execute_result"
    }
   ],
   "source": [
    "# Save all order IDs with at least one missing value in 'add_to_cart_order'\n",
    "id_missing_value = df_order_products[df_order_products['add_to_cart_order'].isnull()]['order_id']\n",
    "id_missing_value\n"
   ]
  },
  {
   "cell_type": "code",
   "execution_count": null,
   "id": "4e9547cf",
   "metadata": {},
   "outputs": [
    {
     "data": {
      "text/plain": [
       "75"
      ]
     },
     "execution_count": 42,
     "metadata": {},
     "output_type": "execute_result"
    }
   ],
   "source": [
    "# Filtering orders where 'add_to_cart_order' is 64\n",
    "filter_itens = df_order_products[df_order_products['add_to_cart_order'] == 64]\n",
    "filter_null = filter_itens['add_to_cart_order'].isna()\n",
    "filter_null.count()"
   ]
  },
  {
   "cell_type": "code",
   "execution_count": 43,
   "id": "54c31695",
   "metadata": {
    "id": "54c31695"
   },
   "outputs": [
    {
     "data": {
      "text/plain": [
       "75"
      ]
     },
     "execution_count": 43,
     "metadata": {},
     "output_type": "execute_result"
    }
   ],
   "source": [
    "# Do all orders with missing values ​​contain more than 64 products?\n",
    "# Group orders with missing data by order ID and counting the number of 'product_id' in each order and checking the minimum value of the count\n",
    "group_id_add = df_order_products.groupby('add_to_cart_order')['order_id'].count()\n",
    "group_id_add.min()"
   ]
  },
  {
   "cell_type": "code",
   "execution_count": 44,
   "id": "7a987d08",
   "metadata": {
    "id": "7a987d08"
   },
   "outputs": [],
   "source": [
    "#Replace missing values ​​in column 'add_to_cart_order' with 999 and convert the column to integer type\n",
    "df_order_products = df_order_products.fillna('999').astype(int)"
   ]
  },
  {
   "cell_type": "markdown",
   "id": "RnplPFY1gSrb",
   "metadata": {
    "id": "RnplPFY1gSrb"
   },
   "source": [
    "# Conclusion\n",
    "\n",
    "In this step we did a lot of things! The main thing was to investigate why the values ​​were missing and we found a problem with aisle id 100."
   ]
  },
  {
   "cell_type": "markdown",
   "id": "UjrOIwTcz3ri",
   "metadata": {
    "id": "UjrOIwTcz3ri"
   },
   "source": [
    "# Step 3. Data analysis"
   ]
  },
  {
   "cell_type": "markdown",
   "id": "short-capability",
   "metadata": {
    "id": "short-capability"
   },
   "source": [
    "### Check if the values ​​in the 'order hour_of_day' and 'order_dow' column make sense"
   ]
  },
  {
   "cell_type": "code",
   "execution_count": 45,
   "id": "growing-fruit",
   "metadata": {
    "id": "growing-fruit"
   },
   "outputs": [
    {
     "data": {
      "text/plain": [
       "(0, 23)"
      ]
     },
     "execution_count": 45,
     "metadata": {},
     "output_type": "execute_result"
    }
   ],
   "source": [
    "df_instacart_orders['order_hour_of_day'].min(), df_instacart_orders['order_hour_of_day'].max()"
   ]
  },
  {
   "cell_type": "code",
   "execution_count": 46,
   "id": "accessory-malaysia",
   "metadata": {
    "id": "accessory-malaysia"
   },
   "outputs": [
    {
     "data": {
      "text/plain": [
       "(0, 6)"
      ]
     },
     "execution_count": 46,
     "metadata": {},
     "output_type": "execute_result"
    }
   ],
   "source": [
    "df_instacart_orders['order_dow'].min(), df_instacart_orders['order_dow'].max()"
   ]
  },
  {
   "cell_type": "markdown",
   "id": "hmR2GNQ6lCsX",
   "metadata": {
    "id": "hmR2GNQ6lCsX"
   },
   "source": [
    "Note\n",
    "- The time and days are correct."
   ]
  },
  {
   "cell_type": "markdown",
   "id": "a6743a70",
   "metadata": {
    "id": "a6743a70"
   },
   "source": [
    "### How many people make requests every hour of the day?"
   ]
  },
  {
   "cell_type": "code",
   "execution_count": 47,
   "id": "a36cca27",
   "metadata": {
    "id": "a36cca27"
   },
   "outputs": [
    {
     "data": {
      "image/png": "[encoded data removed]",
      "text/plain": [
       "<Figure size 640x480 with 1 Axes>"
      ]
     },
     "metadata": {},
     "output_type": "display_data"
    }
   ],
   "source": [
    "df_instacart_orders.groupby('order_hour_of_day')['user_id'].count().plot(kind='bar');\n",
    "plt.title('Volume of Orders by Hour')\n",
    "plt.xlabel('Hour of the Day')\n",
    "plt.ylabel('Volume');"
   ]
  },
  {
   "cell_type": "markdown",
   "id": "11270eed",
   "metadata": {
    "id": "11270eed"
   },
   "source": [
    "Note\n",
    "- The time when we receive the most orders is around lunchtime. Going to the supermarket when you're hungry is never a good idea!"
   ]
  },
  {
   "cell_type": "markdown",
   "id": "documented-command",
   "metadata": {
    "id": "documented-command"
   },
   "source": [
    "### What day of the week do people shop?"
   ]
  },
  {
   "cell_type": "code",
   "execution_count": 62,
   "id": "c70d3014",
   "metadata": {},
   "outputs": [
    {
     "data": {
      "image/png": "[encoded data removed]",
      "text/plain": [
       "<Figure size 800x600 with 1 Axes>"
      ]
     },
     "metadata": {},
     "output_type": "display_data"
    }
   ],
   "source": [
    "plot_data = df_instacart_orders.groupby('order_dow').user_id.count()\n",
    "day_week = {\n",
    "    0: 'Sunday',\n",
    "    1: 'Monday',\n",
    "    2: 'Tuesday',\n",
    "    3: 'Wednesday',\n",
    "    4: 'Thursday',\n",
    "    5: 'Friday',\n",
    "    6: 'Saturday'\n",
    "}\n",
    "df_instacart_orders['day_week'] = df_instacart_orders['order_dow'].map(day_week)\n",
    "orders_by_day = df_instacart_orders['day_week'].value_counts()\n",
    "orders_by_day = orders_by_day.reindex(['Sunday','Monday','Tuesday','Wednesday','Thursday','Friday','Saturday'])\n",
    "fig, ax = plt.subplots(figsize=(8, 6))\n",
    "ax.bar(orders_by_day.index, orders_by_day.values, color='skyblue')\n",
    "ax.set_title('Day of the Week that People Order')\n",
    "ax.set_xlabel('Order by Day')\n",
    "ax.set_ylabel('Volume');"
   ]
  },
  {
   "cell_type": "markdown",
   "id": "97d6608a",
   "metadata": {},
   "source": [
    "Note\n",
    "- On Sundays people are usually off work and do more shopping, but we noticed that on Mondays too, being the second day that people do more shopping."
   ]
  },
  {
   "cell_type": "markdown",
   "id": "cutting-concert",
   "metadata": {
    "id": "cutting-concert"
   },
   "source": [
    "### How long do people wait before placing another order?\n"
   ]
  },
  {
   "cell_type": "code",
   "execution_count": 61,
   "id": "75762887",
   "metadata": {
    "scrolled": false
   },
   "outputs": [
    {
     "data": {
      "image/png": "[encoded data removed]",
      "text/plain": [
       "<Figure size 640x480 with 1 Axes>"
      ]
     },
     "metadata": {},
     "output_type": "display_data"
    }
   ],
   "source": [
    "df_instacart_orders.groupby('days_since_prior_order')['user_id'].count().plot(kind='bar')\n",
    "plt.title('Days Since PriorOrder')\n",
    "plt.xlabel('Days')\n",
    "plt.ylabel('Volume');"
   ]
  },
  {
   "cell_type": "markdown",
   "id": "discrete-vertex",
   "metadata": {
    "id": "discrete-vertex"
   },
   "source": [
    "Note\n",
    "- We can see that there are people who shop every week, while others wait an average of 30 days."
   ]
  },
  {
   "cell_type": "markdown",
   "id": "packed-classic",
   "metadata": {
    "id": "packed-classic"
   },
   "source": [
    "### Differences on Wednesdays and Saturdays in `'order_hour_of_day'`."
   ]
  },
  {
   "cell_type": "code",
   "execution_count": 63,
   "id": "d89b8403",
   "metadata": {
    "id": "d89b8403"
   },
   "outputs": [],
   "source": [
    "saturday = df_instacart_orders[df_instacart_orders['order_dow'] == 6]\n",
    "wednesday = df_instacart_orders[df_instacart_orders['order_dow'] == 3]"
   ]
  },
  {
   "cell_type": "code",
   "execution_count": 105,
   "id": "797c90a8",
   "metadata": {
    "id": "797c90a8"
   },
   "outputs": [
    {
     "data": {
      "image/png": "[encoded data removed]",
      "text/plain": [
       "<Figure size 640x480 with 1 Axes>"
      ]
     },
     "metadata": {},
     "output_type": "display_data"
    }
   ],
   "source": [
    "# Saturday and Wednesday frequency\n",
    "freq_wednesday = wednesday['order_hour_of_day'].value_counts().sort_index()\n",
    "freq_saturday = saturday['order_hour_of_day'].value_counts().sort_index()\n",
    "\n",
    "# Creating a new DataFrame to plot the graph\n",
    "df_by_hour = pd.DataFrame({'Wednesday': freq_wednesday, 'Saturday': freq_saturday})\n",
    "df_by_hour\n",
    "\n",
    "df_by_hour.plot(title='Distribution of purchases by hour',\n",
    "                               xlabel='Hour',\n",
    "                               ylabel='frequency',\n",
    "                               rot=360,\n",
    "                               kind='bar',\n",
    "                               color= ['violet', 'blue'])\n",
    "\n",
    "plt.legend(['Wednesday', 'Saturday'])\n",
    "plt.show()"
   ]
  },
  {
   "cell_type": "markdown",
   "id": "charitable-congo",
   "metadata": {
    "id": "charitable-congo"
   },
   "source": [
    "Note\n",
    "- The differences are not significant."
   ]
  },
  {
   "cell_type": "markdown",
   "id": "e3891143",
   "metadata": {
    "id": "e3891143"
   },
   "source": [
    "### What is the distribution of the number of orders per customer?"
   ]
  },
  {
   "cell_type": "code",
   "execution_count": 69,
   "id": "d8c26c23",
   "metadata": {
    "id": "d8c26c23"
   },
   "outputs": [
    {
     "data": {
      "image/png": "[encoded data removed]",
      "text/plain": [
       "<Figure size 640x480 with 1 Axes>"
      ]
     },
     "metadata": {},
     "output_type": "display_data"
    }
   ],
   "source": [
    "order_clients = df_instacart_orders.groupby('user_id')['order_number'].count().plot(kind='hist', bins=15)\n",
    "plt.xlabel('Number of Orders')\n",
    "plt.title('Orders Per Customer');"
   ]
  },
  {
   "cell_type": "markdown",
   "id": "d2eff7d5",
   "metadata": {
    "id": "d2eff7d5"
   },
   "source": [
    "Note\n",
    "- Most customers place 1 order."
   ]
  },
  {
   "cell_type": "markdown",
   "id": "54a0319c",
   "metadata": {
    "id": "54a0319c"
   },
   "source": [
    "### What are the top 20 most popular products? Display IDs and names."
   ]
  },
  {
   "cell_type": "code",
   "execution_count": 84,
   "id": "1e1314fa",
   "metadata": {},
   "outputs": [
    {
     "data": {
      "image/png": "[encoded data removed]",
      "text/plain": [
       "<Figure size 1200x800 with 1 Axes>"
      ]
     },
     "metadata": {},
     "output_type": "display_data"
    }
   ],
   "source": [
    "products = df_order_products.merge(df_products,\n",
    "                                   left_on = 'product_id',\n",
    "                                   right_on = 'product_id'\n",
    "                                  )\n",
    "popular = products['product_name'].value_counts().head(20)\n",
    "popular_organized = popular.sort_values(ascending=False)\n",
    "\n",
    "plt.subplots(figsize=(12, 8))\n",
    "popular_organized.plot(kind='bar',\n",
    "                       title='Top 20 Most Popular Products',\n",
    "                               xlabel='Product Name',\n",
    "                               ylabel='Sales Count',\n",
    "                               rot=75,\n",
    "                               color= 'blue');"
   ]
  },
  {
   "cell_type": "markdown",
   "id": "7df00f47",
   "metadata": {
    "id": "7df00f47"
   },
   "source": [
    "Note\n",
    "- Organic products are the best-selling products."
   ]
  },
  {
   "cell_type": "markdown",
   "id": "romantic-deposit",
   "metadata": {
    "id": "romantic-deposit"
   },
   "source": [
    "### How many items do people typically buy in one order? How is the distribution?"
   ]
  },
  {
   "cell_type": "code",
   "execution_count": 87,
   "id": "190a1331",
   "metadata": {
    "id": "virtual-punch"
   },
   "outputs": [
    {
     "data": {
      "image/png": "[encoded data removed]",
      "text/plain": [
       "<Figure size 1000x600 with 1 Axes>"
      ]
     },
     "metadata": {},
     "output_type": "display_data"
    }
   ],
   "source": [
    "# Counting the number of items per order\n",
    "items_per_order = df_order_products.groupby('order_id').size()\n",
    "\n",
    "# histogram\n",
    "plt.figure(figsize=(10, 6))\n",
    "plt.hist(items_per_order, bins=50, color='skyblue', edgecolor='black')\n",
    "plt.title('Distribution of Number of Items per Order')\n",
    "plt.xlabel('Number of Items')\n",
    "plt.ylabel('Number of Orders')\n",
    "\n",
    "plt.grid(axis='y', linestyle='--', alpha=0.7)"
   ]
  },
  {
   "cell_type": "markdown",
   "id": "designed-mortality",
   "metadata": {
    "id": "designed-mortality"
   },
   "source": [
    "Note\n",
    "- Each person orders an average of 10 items per order."
   ]
  },
  {
   "cell_type": "markdown",
   "id": "5e6b5537",
   "metadata": {
    "id": "5e6b5537"
   },
   "source": [
    "### What are the top 20 items most frequently included in repeat orders? Display the IDs and names."
   ]
  },
  {
   "cell_type": "code",
   "execution_count": 98,
   "id": "9374e55a",
   "metadata": {
    "id": "9374e55a"
   },
   "outputs": [
    {
     "data": {
      "text/html": [
       "<div>\n",
       "<style scoped>\n",
       "    .dataframe tbody tr th:only-of-type {\n",
       "        vertical-align: middle;\n",
       "    }\n",
       "\n",
       "    .dataframe tbody tr th {\n",
       "        vertical-align: top;\n",
       "    }\n",
       "\n",
       "    .dataframe thead th {\n",
       "        text-align: right;\n",
       "    }\n",
       "</style>\n",
       "<table border=\"1\" class=\"dataframe\">\n",
       "  <thead>\n",
       "    <tr style=\"text-align: right;\">\n",
       "      <th></th>\n",
       "      <th>product_name</th>\n",
       "      <th>count</th>\n",
       "    </tr>\n",
       "  </thead>\n",
       "  <tbody>\n",
       "    <tr>\n",
       "      <th>0</th>\n",
       "      <td>banana</td>\n",
       "      <td>55763</td>\n",
       "    </tr>\n",
       "    <tr>\n",
       "      <th>1</th>\n",
       "      <td>bag of organic bananas</td>\n",
       "      <td>44450</td>\n",
       "    </tr>\n",
       "    <tr>\n",
       "      <th>2</th>\n",
       "      <td>organic strawberries</td>\n",
       "      <td>28639</td>\n",
       "    </tr>\n",
       "    <tr>\n",
       "      <th>3</th>\n",
       "      <td>organic baby spinach</td>\n",
       "      <td>26233</td>\n",
       "    </tr>\n",
       "    <tr>\n",
       "      <th>4</th>\n",
       "      <td>organic hass avocado</td>\n",
       "      <td>23629</td>\n",
       "    </tr>\n",
       "    <tr>\n",
       "      <th>5</th>\n",
       "      <td>organic avocado</td>\n",
       "      <td>18743</td>\n",
       "    </tr>\n",
       "    <tr>\n",
       "      <th>6</th>\n",
       "      <td>organic whole milk</td>\n",
       "      <td>16251</td>\n",
       "    </tr>\n",
       "    <tr>\n",
       "      <th>7</th>\n",
       "      <td>large lemon</td>\n",
       "      <td>15044</td>\n",
       "    </tr>\n",
       "    <tr>\n",
       "      <th>8</th>\n",
       "      <td>organic raspberries</td>\n",
       "      <td>14748</td>\n",
       "    </tr>\n",
       "    <tr>\n",
       "      <th>9</th>\n",
       "      <td>strawberries</td>\n",
       "      <td>13945</td>\n",
       "    </tr>\n",
       "    <tr>\n",
       "      <th>10</th>\n",
       "      <td>limes</td>\n",
       "      <td>13327</td>\n",
       "    </tr>\n",
       "    <tr>\n",
       "      <th>11</th>\n",
       "      <td>organic yellow onion</td>\n",
       "      <td>11145</td>\n",
       "    </tr>\n",
       "    <tr>\n",
       "      <th>12</th>\n",
       "      <td>organic garlic</td>\n",
       "      <td>10411</td>\n",
       "    </tr>\n",
       "    <tr>\n",
       "      <th>13</th>\n",
       "      <td>organic zucchini</td>\n",
       "      <td>10076</td>\n",
       "    </tr>\n",
       "    <tr>\n",
       "      <th>14</th>\n",
       "      <td>cucumber kirby</td>\n",
       "      <td>9538</td>\n",
       "    </tr>\n",
       "    <tr>\n",
       "      <th>15</th>\n",
       "      <td>organic fuji apple</td>\n",
       "      <td>8989</td>\n",
       "    </tr>\n",
       "    <tr>\n",
       "      <th>16</th>\n",
       "      <td>apple honeycrisp organic</td>\n",
       "      <td>8836</td>\n",
       "    </tr>\n",
       "    <tr>\n",
       "      <th>17</th>\n",
       "      <td>organic blueberries</td>\n",
       "      <td>8799</td>\n",
       "    </tr>\n",
       "    <tr>\n",
       "      <th>18</th>\n",
       "      <td>organic lemon</td>\n",
       "      <td>8412</td>\n",
       "    </tr>\n",
       "    <tr>\n",
       "      <th>19</th>\n",
       "      <td>organic half &amp; half</td>\n",
       "      <td>8389</td>\n",
       "    </tr>\n",
       "  </tbody>\n",
       "</table>\n",
       "</div>"
      ],
      "text/plain": [
       "                product_name  count\n",
       "0                     banana  55763\n",
       "1     bag of organic bananas  44450\n",
       "2       organic strawberries  28639\n",
       "3       organic baby spinach  26233\n",
       "4       organic hass avocado  23629\n",
       "5            organic avocado  18743\n",
       "6         organic whole milk  16251\n",
       "7                large lemon  15044\n",
       "8        organic raspberries  14748\n",
       "9               strawberries  13945\n",
       "10                     limes  13327\n",
       "11      organic yellow onion  11145\n",
       "12            organic garlic  10411\n",
       "13          organic zucchini  10076\n",
       "14            cucumber kirby   9538\n",
       "15        organic fuji apple   8989\n",
       "16  apple honeycrisp organic   8836\n",
       "17       organic blueberries   8799\n",
       "18             organic lemon   8412\n",
       "19       organic half & half   8389"
      ]
     },
     "execution_count": 98,
     "metadata": {},
     "output_type": "execute_result"
    }
   ],
   "source": [
    "reordered = products[products['reordered'] == 1]\n",
    "popular = reordered['product_name'].value_counts().reset_index().head(20)\n",
    "popular_organized = popular.sort_values(by='count', ascending=False)\n",
    "popular_organized"
   ]
  },
  {
   "cell_type": "markdown",
   "id": "80e70c74",
   "metadata": {
    "id": "80e70c74"
   },
   "source": [
    "Note\n",
    "- Organic products continue to be the most popular."
   ]
  },
  {
   "cell_type": "markdown",
   "id": "9d312b14",
   "metadata": {
    "id": "9d312b14"
   },
   "source": [
    "### For each product, what proportion of all orders for it are repeat orders?"
   ]
  },
  {
   "cell_type": "code",
   "execution_count": 101,
   "id": "45397232",
   "metadata": {
    "id": "8ae9f4b1"
   },
   "outputs": [
    {
     "data": {
      "text/html": [
       "<div>\n",
       "<style scoped>\n",
       "    .dataframe tbody tr th:only-of-type {\n",
       "        vertical-align: middle;\n",
       "    }\n",
       "\n",
       "    .dataframe tbody tr th {\n",
       "        vertical-align: top;\n",
       "    }\n",
       "\n",
       "    .dataframe thead th {\n",
       "        text-align: right;\n",
       "    }\n",
       "</style>\n",
       "<table border=\"1\" class=\"dataframe\">\n",
       "  <thead>\n",
       "    <tr style=\"text-align: right;\">\n",
       "      <th></th>\n",
       "      <th>product_name</th>\n",
       "      <th>proportion_repeated</th>\n",
       "    </tr>\n",
       "    <tr>\n",
       "      <th>product_id</th>\n",
       "      <th></th>\n",
       "      <th></th>\n",
       "    </tr>\n",
       "  </thead>\n",
       "  <tbody>\n",
       "    <tr>\n",
       "      <th>1</th>\n",
       "      <td>chocolate sandwich cookies</td>\n",
       "      <td>0.564286</td>\n",
       "    </tr>\n",
       "    <tr>\n",
       "      <th>2</th>\n",
       "      <td>all-seasons salt</td>\n",
       "      <td>NaN</td>\n",
       "    </tr>\n",
       "    <tr>\n",
       "      <th>3</th>\n",
       "      <td>robust golden unsweetened oolong tea</td>\n",
       "      <td>0.738095</td>\n",
       "    </tr>\n",
       "    <tr>\n",
       "      <th>4</th>\n",
       "      <td>smart ones classic favorites mini rigatoni wit...</td>\n",
       "      <td>0.510204</td>\n",
       "    </tr>\n",
       "    <tr>\n",
       "      <th>7</th>\n",
       "      <td>pure coconut water with orange</td>\n",
       "      <td>0.500000</td>\n",
       "    </tr>\n",
       "    <tr>\n",
       "      <th>...</th>\n",
       "      <td>...</td>\n",
       "      <td>...</td>\n",
       "    </tr>\n",
       "    <tr>\n",
       "      <th>49690</th>\n",
       "      <td>high performance energy drink</td>\n",
       "      <td>0.800000</td>\n",
       "    </tr>\n",
       "    <tr>\n",
       "      <th>49691</th>\n",
       "      <td>original pancake &amp; waffle mix</td>\n",
       "      <td>0.430556</td>\n",
       "    </tr>\n",
       "    <tr>\n",
       "      <th>49692</th>\n",
       "      <td>organic instant oatmeal light maple brown sugar</td>\n",
       "      <td>0.416667</td>\n",
       "    </tr>\n",
       "    <tr>\n",
       "      <th>49693</th>\n",
       "      <td>spring water body wash</td>\n",
       "      <td>0.440000</td>\n",
       "    </tr>\n",
       "    <tr>\n",
       "      <th>49694</th>\n",
       "      <td>burrito- steak &amp; cheese</td>\n",
       "      <td>0.333333</td>\n",
       "    </tr>\n",
       "  </tbody>\n",
       "</table>\n",
       "<p>45573 rows × 2 columns</p>\n",
       "</div>"
      ],
      "text/plain": [
       "                                                 product_name  \\\n",
       "product_id                                                      \n",
       "1                                  chocolate sandwich cookies   \n",
       "2                                            all-seasons salt   \n",
       "3                        robust golden unsweetened oolong tea   \n",
       "4           smart ones classic favorites mini rigatoni wit...   \n",
       "7                              pure coconut water with orange   \n",
       "...                                                       ...   \n",
       "49690                           high performance energy drink   \n",
       "49691                           original pancake & waffle mix   \n",
       "49692         organic instant oatmeal light maple brown sugar   \n",
       "49693                                  spring water body wash   \n",
       "49694                                 burrito- steak & cheese   \n",
       "\n",
       "            proportion_repeated  \n",
       "product_id                       \n",
       "1                      0.564286  \n",
       "2                           NaN  \n",
       "3                      0.738095  \n",
       "4                      0.510204  \n",
       "7                      0.500000  \n",
       "...                         ...  \n",
       "49690                  0.800000  \n",
       "49691                  0.430556  \n",
       "49692                  0.416667  \n",
       "49693                  0.440000  \n",
       "49694                  0.333333  \n",
       "\n",
       "[45573 rows x 2 columns]"
      ]
     },
     "execution_count": 101,
     "metadata": {},
     "output_type": "execute_result"
    }
   ],
   "source": [
    "# Counting the total number of orders for each product\n",
    "total_orders_per_product = df_order_products['product_id'].value_counts()\n",
    "\n",
    "# Counting the number of repeat orders for each product\n",
    "repeat_orders_by_product = df_order_products[df_order_products['reordered'] == 1]['product_id'].value_counts()\n",
    "\n",
    "# Calculating the proportion of repeat orders for each product\n",
    "proportion = repeat_orders_by_product / total_orders_per_product\n",
    "\n",
    "# Create a DataFrame with the product ID and name columns and the proportion of repeat orders\n",
    "repeated_proportion_table = pd.DataFrame({\n",
    "    'product_name': df_products.set_index('product_id').loc[proportion.index, 'product_name'],\n",
    "    'proportion_repeated': proportion.values\n",
    "})\n",
    "\n",
    "repeated_proportion_table\n"
   ]
  },
  {
   "cell_type": "markdown",
   "id": "subject-boxing",
   "metadata": {
    "id": "subject-boxing"
   },
   "source": [
    "### For each customer, what proportion of all their orders are repeat?"
   ]
  },
  {
   "cell_type": "code",
   "execution_count": 102,
   "id": "84027f30",
   "metadata": {
    "id": "medical-couple",
    "scrolled": true
   },
   "outputs": [
    {
     "data": {
      "text/html": [
       "<div>\n",
       "<style scoped>\n",
       "    .dataframe tbody tr th:only-of-type {\n",
       "        vertical-align: middle;\n",
       "    }\n",
       "\n",
       "    .dataframe tbody tr th {\n",
       "        vertical-align: top;\n",
       "    }\n",
       "\n",
       "    .dataframe thead th {\n",
       "        text-align: right;\n",
       "    }\n",
       "</style>\n",
       "<table border=\"1\" class=\"dataframe\">\n",
       "  <thead>\n",
       "    <tr style=\"text-align: right;\">\n",
       "      <th></th>\n",
       "      <th>user_id</th>\n",
       "      <th>proporcao_repetidos</th>\n",
       "    </tr>\n",
       "  </thead>\n",
       "  <tbody>\n",
       "    <tr>\n",
       "      <th>0</th>\n",
       "      <td>2</td>\n",
       "      <td>NaN</td>\n",
       "    </tr>\n",
       "    <tr>\n",
       "      <th>1</th>\n",
       "      <td>4</td>\n",
       "      <td>6.0</td>\n",
       "    </tr>\n",
       "    <tr>\n",
       "      <th>2</th>\n",
       "      <td>5</td>\n",
       "      <td>NaN</td>\n",
       "    </tr>\n",
       "    <tr>\n",
       "      <th>3</th>\n",
       "      <td>6</td>\n",
       "      <td>NaN</td>\n",
       "    </tr>\n",
       "    <tr>\n",
       "      <th>4</th>\n",
       "      <td>7</td>\n",
       "      <td>NaN</td>\n",
       "    </tr>\n",
       "    <tr>\n",
       "      <th>...</th>\n",
       "      <td>...</td>\n",
       "      <td>...</td>\n",
       "    </tr>\n",
       "    <tr>\n",
       "      <th>535073</th>\n",
       "      <td>3421013</td>\n",
       "      <td>NaN</td>\n",
       "    </tr>\n",
       "    <tr>\n",
       "      <th>535074</th>\n",
       "      <td>3421018</td>\n",
       "      <td>NaN</td>\n",
       "    </tr>\n",
       "    <tr>\n",
       "      <th>535075</th>\n",
       "      <td>3421034</td>\n",
       "      <td>NaN</td>\n",
       "    </tr>\n",
       "    <tr>\n",
       "      <th>535076</th>\n",
       "      <td>3421053</td>\n",
       "      <td>NaN</td>\n",
       "    </tr>\n",
       "    <tr>\n",
       "      <th>535077</th>\n",
       "      <td>3421071</td>\n",
       "      <td>NaN</td>\n",
       "    </tr>\n",
       "  </tbody>\n",
       "</table>\n",
       "<p>535078 rows × 2 columns</p>\n",
       "</div>"
      ],
      "text/plain": [
       "        user_id  proporcao_repetidos\n",
       "0             2                  NaN\n",
       "1             4                  6.0\n",
       "2             5                  NaN\n",
       "3             6                  NaN\n",
       "4             7                  NaN\n",
       "...         ...                  ...\n",
       "535073  3421013                  NaN\n",
       "535074  3421018                  NaN\n",
       "535075  3421034                  NaN\n",
       "535076  3421053                  NaN\n",
       "535077  3421071                  NaN\n",
       "\n",
       "[535078 rows x 2 columns]"
      ]
     },
     "execution_count": 102,
     "metadata": {},
     "output_type": "execute_result"
    }
   ],
   "source": [
    "# Counting the total number of orders for each customer\n",
    "total_orders_per_customer = df_instacart_orders['user_id'].value_counts()\n",
    "\n",
    "# Counting the number of repeat orders for each customer\n",
    "repeat_orders_by_customer = df_order_products[df_order_products['reordered'] == 1]['order_id'].value_counts()\n",
    "\n",
    "# Calculating the proportion of repeat orders for each customer\n",
    "proportion = repeat_orders_by_customer / total_orders_per_customer\n",
    "\n",
    "# Creating a table with customer ID columns and repeat order ratio\n",
    "table_proportion_repeated_customer = pd.DataFrame({\n",
    "    'user_id': proportion.index,\n",
    "    'proporcao_repetidos': proportion.values\n",
    "})\n",
    "\n",
    "table_proportion_repeated_customer"
   ]
  },
  {
   "cell_type": "markdown",
   "id": "92d35137",
   "metadata": {
    "id": "92d35137"
   },
   "source": [
    "### What are the top 20 items that people put in their carts before all other items?"
   ]
  },
  {
   "cell_type": "code",
   "execution_count": 103,
   "id": "c4d66682",
   "metadata": {},
   "outputs": [
    {
     "data": {
      "text/html": [
       "<div>\n",
       "<style scoped>\n",
       "    .dataframe tbody tr th:only-of-type {\n",
       "        vertical-align: middle;\n",
       "    }\n",
       "\n",
       "    .dataframe tbody tr th {\n",
       "        vertical-align: top;\n",
       "    }\n",
       "\n",
       "    .dataframe thead th {\n",
       "        text-align: right;\n",
       "    }\n",
       "</style>\n",
       "<table border=\"1\" class=\"dataframe\">\n",
       "  <thead>\n",
       "    <tr style=\"text-align: right;\">\n",
       "      <th></th>\n",
       "      <th>add_to_cart_order</th>\n",
       "      <th>product_name</th>\n",
       "      <th>count</th>\n",
       "    </tr>\n",
       "  </thead>\n",
       "  <tbody>\n",
       "    <tr>\n",
       "      <th>0</th>\n",
       "      <td>1</td>\n",
       "      <td>banana</td>\n",
       "      <td>15562</td>\n",
       "    </tr>\n",
       "    <tr>\n",
       "      <th>1</th>\n",
       "      <td>1</td>\n",
       "      <td>bag of organic bananas</td>\n",
       "      <td>11026</td>\n",
       "    </tr>\n",
       "    <tr>\n",
       "      <th>2</th>\n",
       "      <td>1</td>\n",
       "      <td>organic whole milk</td>\n",
       "      <td>4363</td>\n",
       "    </tr>\n",
       "    <tr>\n",
       "      <th>3</th>\n",
       "      <td>1</td>\n",
       "      <td>organic strawberries</td>\n",
       "      <td>3946</td>\n",
       "    </tr>\n",
       "    <tr>\n",
       "      <th>4</th>\n",
       "      <td>1</td>\n",
       "      <td>organic hass avocado</td>\n",
       "      <td>3390</td>\n",
       "    </tr>\n",
       "    <tr>\n",
       "      <th>5</th>\n",
       "      <td>1</td>\n",
       "      <td>organic baby spinach</td>\n",
       "      <td>3336</td>\n",
       "    </tr>\n",
       "    <tr>\n",
       "      <th>6</th>\n",
       "      <td>1</td>\n",
       "      <td>organic avocado</td>\n",
       "      <td>3044</td>\n",
       "    </tr>\n",
       "    <tr>\n",
       "      <th>7</th>\n",
       "      <td>1</td>\n",
       "      <td>spring water</td>\n",
       "      <td>2336</td>\n",
       "    </tr>\n",
       "    <tr>\n",
       "      <th>8</th>\n",
       "      <td>1</td>\n",
       "      <td>strawberries</td>\n",
       "      <td>2308</td>\n",
       "    </tr>\n",
       "    <tr>\n",
       "      <th>9</th>\n",
       "      <td>1</td>\n",
       "      <td>organic raspberries</td>\n",
       "      <td>2024</td>\n",
       "    </tr>\n",
       "    <tr>\n",
       "      <th>10</th>\n",
       "      <td>1</td>\n",
       "      <td>sparkling water grapefruit</td>\n",
       "      <td>1914</td>\n",
       "    </tr>\n",
       "    <tr>\n",
       "      <th>11</th>\n",
       "      <td>1</td>\n",
       "      <td>organic half &amp; half</td>\n",
       "      <td>1797</td>\n",
       "    </tr>\n",
       "    <tr>\n",
       "      <th>12</th>\n",
       "      <td>1</td>\n",
       "      <td>large lemon</td>\n",
       "      <td>1737</td>\n",
       "    </tr>\n",
       "    <tr>\n",
       "      <th>13</th>\n",
       "      <td>1</td>\n",
       "      <td>soda</td>\n",
       "      <td>1733</td>\n",
       "    </tr>\n",
       "    <tr>\n",
       "      <th>14</th>\n",
       "      <td>1</td>\n",
       "      <td>organic reduced fat milk</td>\n",
       "      <td>1397</td>\n",
       "    </tr>\n",
       "    <tr>\n",
       "      <th>15</th>\n",
       "      <td>1</td>\n",
       "      <td>limes</td>\n",
       "      <td>1370</td>\n",
       "    </tr>\n",
       "    <tr>\n",
       "      <th>16</th>\n",
       "      <td>1</td>\n",
       "      <td>hass avocados</td>\n",
       "      <td>1340</td>\n",
       "    </tr>\n",
       "    <tr>\n",
       "      <th>17</th>\n",
       "      <td>1</td>\n",
       "      <td>organic reduced fat 2% milk</td>\n",
       "      <td>1310</td>\n",
       "    </tr>\n",
       "    <tr>\n",
       "      <th>18</th>\n",
       "      <td>1</td>\n",
       "      <td>half &amp; half</td>\n",
       "      <td>1309</td>\n",
       "    </tr>\n",
       "    <tr>\n",
       "      <th>19</th>\n",
       "      <td>1</td>\n",
       "      <td>organic yellow onion</td>\n",
       "      <td>1246</td>\n",
       "    </tr>\n",
       "  </tbody>\n",
       "</table>\n",
       "</div>"
      ],
      "text/plain": [
       "    add_to_cart_order                 product_name  count\n",
       "0                   1                       banana  15562\n",
       "1                   1       bag of organic bananas  11026\n",
       "2                   1           organic whole milk   4363\n",
       "3                   1         organic strawberries   3946\n",
       "4                   1         organic hass avocado   3390\n",
       "5                   1         organic baby spinach   3336\n",
       "6                   1              organic avocado   3044\n",
       "7                   1                 spring water   2336\n",
       "8                   1                 strawberries   2308\n",
       "9                   1          organic raspberries   2024\n",
       "10                  1   sparkling water grapefruit   1914\n",
       "11                  1          organic half & half   1797\n",
       "12                  1                  large lemon   1737\n",
       "13                  1                         soda   1733\n",
       "14                  1     organic reduced fat milk   1397\n",
       "15                  1                        limes   1370\n",
       "16                  1                hass avocados   1340\n",
       "17                  1  organic reduced fat 2% milk   1310\n",
       "18                  1                  half & half   1309\n",
       "19                  1         organic yellow onion   1246"
      ]
     },
     "execution_count": 103,
     "metadata": {},
     "output_type": "execute_result"
    }
   ],
   "source": [
    "organaizing = products.groupby('add_to_cart_order')['product_name'].value_counts().reset_index().head(20)\n",
    "organaizing"
   ]
  },
  {
   "cell_type": "markdown",
   "id": "28ce9872",
   "metadata": {
    "id": "28ce9872"
   },
   "source": [
    "Note\n",
    "- These are usually fruits and vegetables, especially organic ones."
   ]
  },
  {
   "cell_type": "markdown",
   "id": "TisH_5Cp3wAi",
   "metadata": {
    "id": "TisH_5Cp3wAi"
   },
   "source": [
    "# Final Conclusion\n",
    "\n",
    "After the analysis, we can conclude that people prefer to do their shopping on Sundays and Mondays. Their preferences are organic products. We also found an aisle where the company will possibly add products in the future."
   ]
  }
 ],
 "metadata": {
  "ExecuteTimeLog": [
   {
    "duration": 309,
    "start_time": "2024-08-16T11:35:43.635Z"
   },
   {
    "duration": 448,
    "start_time": "2024-08-16T11:35:53.440Z"
   },
   {
    "duration": 8,
    "start_time": "2024-08-16T11:38:11.853Z"
   },
   {
    "duration": 7,
    "start_time": "2024-08-16T11:41:36.180Z"
   },
   {
    "duration": 3909,
    "start_time": "2024-08-16T11:42:29.810Z"
   },
   {
    "duration": 32,
    "start_time": "2024-08-16T11:43:15.956Z"
   },
   {
    "duration": 8,
    "start_time": "2024-08-16T11:47:01.404Z"
   },
   {
    "duration": 3562,
    "start_time": "2024-08-16T11:47:11.648Z"
   },
   {
    "duration": 23,
    "start_time": "2024-08-16T11:47:15.213Z"
   },
   {
    "duration": 64,
    "start_time": "2024-08-16T11:47:43.268Z"
   },
   {
    "duration": 4,
    "start_time": "2024-08-16T11:47:53.528Z"
   },
   {
    "duration": 28,
    "start_time": "2024-08-16T11:48:07.676Z"
   },
   {
    "duration": 3546,
    "start_time": "2024-08-16T11:51:33.961Z"
   },
   {
    "duration": 32,
    "start_time": "2024-08-16T11:51:37.510Z"
   },
   {
    "duration": 23,
    "start_time": "2024-08-16T11:51:37.544Z"
   },
   {
    "duration": 54,
    "start_time": "2024-08-16T11:51:37.570Z"
   },
   {
    "duration": 23,
    "start_time": "2024-08-16T11:51:37.627Z"
   },
   {
    "duration": 0,
    "start_time": "2024-08-16T11:51:37.654Z"
   },
   {
    "duration": 0,
    "start_time": "2024-08-16T11:51:37.656Z"
   },
   {
    "duration": 0,
    "start_time": "2024-08-16T11:51:37.659Z"
   },
   {
    "duration": 0,
    "start_time": "2024-08-16T11:51:37.661Z"
   },
   {
    "duration": 0,
    "start_time": "2024-08-16T11:51:37.662Z"
   },
   {
    "duration": 0,
    "start_time": "2024-08-16T11:51:37.664Z"
   },
   {
    "duration": 0,
    "start_time": "2024-08-16T11:51:37.666Z"
   },
   {
    "duration": 0,
    "start_time": "2024-08-16T11:51:37.669Z"
   },
   {
    "duration": 0,
    "start_time": "2024-08-16T11:51:37.670Z"
   },
   {
    "duration": 1,
    "start_time": "2024-08-16T11:51:37.671Z"
   },
   {
    "duration": 0,
    "start_time": "2024-08-16T11:51:37.673Z"
   },
   {
    "duration": 0,
    "start_time": "2024-08-16T11:51:37.675Z"
   },
   {
    "duration": 0,
    "start_time": "2024-08-16T11:51:37.722Z"
   },
   {
    "duration": 0,
    "start_time": "2024-08-16T11:51:37.723Z"
   },
   {
    "duration": 0,
    "start_time": "2024-08-16T11:51:37.726Z"
   },
   {
    "duration": 0,
    "start_time": "2024-08-16T11:51:37.728Z"
   },
   {
    "duration": 0,
    "start_time": "2024-08-16T11:51:37.730Z"
   },
   {
    "duration": 0,
    "start_time": "2024-08-16T11:51:37.732Z"
   },
   {
    "duration": 0,
    "start_time": "2024-08-16T11:51:37.734Z"
   },
   {
    "duration": 0,
    "start_time": "2024-08-16T11:51:37.736Z"
   },
   {
    "duration": 0,
    "start_time": "2024-08-16T11:51:37.738Z"
   },
   {
    "duration": 0,
    "start_time": "2024-08-16T11:51:37.740Z"
   },
   {
    "duration": 0,
    "start_time": "2024-08-16T11:51:37.741Z"
   },
   {
    "duration": 0,
    "start_time": "2024-08-16T11:51:37.744Z"
   },
   {
    "duration": 0,
    "start_time": "2024-08-16T11:51:37.747Z"
   },
   {
    "duration": 0,
    "start_time": "2024-08-16T11:51:37.749Z"
   },
   {
    "duration": 0,
    "start_time": "2024-08-16T11:51:37.752Z"
   },
   {
    "duration": 0,
    "start_time": "2024-08-16T11:51:37.754Z"
   },
   {
    "duration": 0,
    "start_time": "2024-08-16T11:51:37.756Z"
   },
   {
    "duration": 22,
    "start_time": "2024-08-16T11:52:56.447Z"
   },
   {
    "duration": 3528,
    "start_time": "2024-08-16T11:53:08.825Z"
   },
   {
    "duration": 1549,
    "start_time": "2024-08-16T11:53:20.892Z"
   },
   {
    "duration": 25,
    "start_time": "2024-08-16T11:53:22.444Z"
   },
   {
    "duration": 51,
    "start_time": "2024-08-16T11:53:22.472Z"
   },
   {
    "duration": 20,
    "start_time": "2024-08-16T11:53:22.527Z"
   },
   {
    "duration": 20,
    "start_time": "2024-08-16T11:53:22.550Z"
   },
   {
    "duration": 55,
    "start_time": "2024-08-16T11:53:22.575Z"
   },
   {
    "duration": 0,
    "start_time": "2024-08-16T11:53:22.635Z"
   },
   {
    "duration": 0,
    "start_time": "2024-08-16T11:53:22.637Z"
   },
   {
    "duration": 0,
    "start_time": "2024-08-16T11:53:22.639Z"
   },
   {
    "duration": 0,
    "start_time": "2024-08-16T11:53:22.642Z"
   },
   {
    "duration": 0,
    "start_time": "2024-08-16T11:53:22.645Z"
   },
   {
    "duration": 0,
    "start_time": "2024-08-16T11:53:22.646Z"
   },
   {
    "duration": 0,
    "start_time": "2024-08-16T11:53:22.649Z"
   },
   {
    "duration": 0,
    "start_time": "2024-08-16T11:53:22.651Z"
   },
   {
    "duration": 0,
    "start_time": "2024-08-16T11:53:22.653Z"
   },
   {
    "duration": 0,
    "start_time": "2024-08-16T11:53:22.656Z"
   },
   {
    "duration": 0,
    "start_time": "2024-08-16T11:53:22.658Z"
   },
   {
    "duration": 0,
    "start_time": "2024-08-16T11:53:22.660Z"
   },
   {
    "duration": 0,
    "start_time": "2024-08-16T11:53:22.664Z"
   },
   {
    "duration": 0,
    "start_time": "2024-08-16T11:53:22.667Z"
   },
   {
    "duration": 0,
    "start_time": "2024-08-16T11:53:22.669Z"
   },
   {
    "duration": 0,
    "start_time": "2024-08-16T11:53:22.723Z"
   },
   {
    "duration": 0,
    "start_time": "2024-08-16T11:53:22.726Z"
   },
   {
    "duration": 0,
    "start_time": "2024-08-16T11:53:22.728Z"
   },
   {
    "duration": 0,
    "start_time": "2024-08-16T11:53:22.730Z"
   },
   {
    "duration": 0,
    "start_time": "2024-08-16T11:53:22.733Z"
   },
   {
    "duration": 0,
    "start_time": "2024-08-16T11:53:22.735Z"
   },
   {
    "duration": 0,
    "start_time": "2024-08-16T11:53:22.738Z"
   },
   {
    "duration": 0,
    "start_time": "2024-08-16T11:53:22.740Z"
   },
   {
    "duration": 0,
    "start_time": "2024-08-16T11:53:22.743Z"
   },
   {
    "duration": 0,
    "start_time": "2024-08-16T11:53:22.744Z"
   },
   {
    "duration": 0,
    "start_time": "2024-08-16T11:53:22.747Z"
   },
   {
    "duration": 0,
    "start_time": "2024-08-16T11:53:22.750Z"
   },
   {
    "duration": 0,
    "start_time": "2024-08-16T11:53:22.752Z"
   },
   {
    "duration": 19,
    "start_time": "2024-08-16T11:54:19.932Z"
   },
   {
    "duration": 3366,
    "start_time": "2024-08-16T11:55:11.829Z"
   },
   {
    "duration": 16,
    "start_time": "2024-08-16T11:55:18.684Z"
   },
   {
    "duration": 1417,
    "start_time": "2024-08-16T11:55:43.353Z"
   },
   {
    "duration": 18,
    "start_time": "2024-08-16T11:55:50.723Z"
   },
   {
    "duration": 789,
    "start_time": "2024-08-16T12:00:20.290Z"
   },
   {
    "duration": 1069,
    "start_time": "2024-08-16T15:38:42.795Z"
   },
   {
    "duration": 734,
    "start_time": "2024-08-16T15:38:58.138Z"
   },
   {
    "duration": 4,
    "start_time": "2024-08-16T15:41:00.452Z"
   },
   {
    "duration": 1455,
    "start_time": "2024-08-16T15:41:00.462Z"
   },
   {
    "duration": 24,
    "start_time": "2024-08-16T15:41:01.922Z"
   },
   {
    "duration": 22,
    "start_time": "2024-08-16T15:41:01.949Z"
   },
   {
    "duration": 55,
    "start_time": "2024-08-16T15:41:01.975Z"
   },
   {
    "duration": 19,
    "start_time": "2024-08-16T15:41:02.034Z"
   },
   {
    "duration": 19,
    "start_time": "2024-08-16T15:41:02.056Z"
   },
   {
    "duration": 4,
    "start_time": "2024-08-16T15:41:02.079Z"
   },
   {
    "duration": 3,
    "start_time": "2024-08-16T15:41:02.124Z"
   },
   {
    "duration": 3,
    "start_time": "2024-08-16T15:41:02.131Z"
   },
   {
    "duration": 3,
    "start_time": "2024-08-16T15:41:02.140Z"
   },
   {
    "duration": 3,
    "start_time": "2024-08-16T15:41:02.147Z"
   },
   {
    "duration": 4,
    "start_time": "2024-08-16T15:41:02.153Z"
   },
   {
    "duration": 4,
    "start_time": "2024-08-16T15:41:02.160Z"
   },
   {
    "duration": 57,
    "start_time": "2024-08-16T15:41:02.168Z"
   },
   {
    "duration": 4,
    "start_time": "2024-08-16T15:41:02.228Z"
   },
   {
    "duration": 4,
    "start_time": "2024-08-16T15:41:02.235Z"
   },
   {
    "duration": 4,
    "start_time": "2024-08-16T15:41:02.242Z"
   },
   {
    "duration": 4,
    "start_time": "2024-08-16T15:41:02.249Z"
   },
   {
    "duration": 4,
    "start_time": "2024-08-16T15:41:02.257Z"
   },
   {
    "duration": 60,
    "start_time": "2024-08-16T15:41:02.264Z"
   },
   {
    "duration": 4,
    "start_time": "2024-08-16T15:41:02.328Z"
   },
   {
    "duration": 4,
    "start_time": "2024-08-16T15:41:02.336Z"
   },
   {
    "duration": 4,
    "start_time": "2024-08-16T15:41:02.345Z"
   },
   {
    "duration": 4,
    "start_time": "2024-08-16T15:41:02.352Z"
   },
   {
    "duration": 3,
    "start_time": "2024-08-16T15:41:02.360Z"
   },
   {
    "duration": 4,
    "start_time": "2024-08-16T15:41:02.366Z"
   },
   {
    "duration": 53,
    "start_time": "2024-08-16T15:41:02.372Z"
   },
   {
    "duration": 3,
    "start_time": "2024-08-16T15:41:02.432Z"
   },
   {
    "duration": 4,
    "start_time": "2024-08-16T15:41:02.438Z"
   },
   {
    "duration": 3,
    "start_time": "2024-08-16T15:41:02.445Z"
   },
   {
    "duration": 4,
    "start_time": "2024-08-16T15:41:02.451Z"
   },
   {
    "duration": 4,
    "start_time": "2024-08-16T15:41:02.458Z"
   },
   {
    "duration": 4,
    "start_time": "2024-08-16T15:41:02.522Z"
   },
   {
    "duration": 4,
    "start_time": "2024-08-16T15:43:27.952Z"
   },
   {
    "duration": 18,
    "start_time": "2024-08-16T15:52:53.847Z"
   },
   {
    "duration": 4,
    "start_time": "2024-08-16T15:53:10.102Z"
   },
   {
    "duration": 1475,
    "start_time": "2024-08-16T15:53:10.110Z"
   },
   {
    "duration": 24,
    "start_time": "2024-08-16T15:53:11.587Z"
   },
   {
    "duration": 23,
    "start_time": "2024-08-16T15:53:11.623Z"
   },
   {
    "duration": 20,
    "start_time": "2024-08-16T15:53:11.650Z"
   },
   {
    "duration": 60,
    "start_time": "2024-08-16T15:53:11.674Z"
   },
   {
    "duration": 20,
    "start_time": "2024-08-16T15:53:11.736Z"
   },
   {
    "duration": 18,
    "start_time": "2024-08-16T15:53:11.760Z"
   },
   {
    "duration": 0,
    "start_time": "2024-08-16T15:53:11.783Z"
   },
   {
    "duration": 0,
    "start_time": "2024-08-16T15:53:11.786Z"
   },
   {
    "duration": 0,
    "start_time": "2024-08-16T15:53:11.822Z"
   },
   {
    "duration": 0,
    "start_time": "2024-08-16T15:53:11.825Z"
   },
   {
    "duration": 0,
    "start_time": "2024-08-16T15:53:11.827Z"
   },
   {
    "duration": 0,
    "start_time": "2024-08-16T15:53:11.829Z"
   },
   {
    "duration": 0,
    "start_time": "2024-08-16T15:53:11.831Z"
   },
   {
    "duration": 0,
    "start_time": "2024-08-16T15:53:11.835Z"
   },
   {
    "duration": 0,
    "start_time": "2024-08-16T15:53:11.837Z"
   },
   {
    "duration": 0,
    "start_time": "2024-08-16T15:53:11.839Z"
   },
   {
    "duration": 0,
    "start_time": "2024-08-16T15:53:11.840Z"
   },
   {
    "duration": 0,
    "start_time": "2024-08-16T15:53:11.842Z"
   },
   {
    "duration": 0,
    "start_time": "2024-08-16T15:53:11.844Z"
   },
   {
    "duration": 0,
    "start_time": "2024-08-16T15:53:11.846Z"
   },
   {
    "duration": 0,
    "start_time": "2024-08-16T15:53:11.847Z"
   },
   {
    "duration": 0,
    "start_time": "2024-08-16T15:53:11.849Z"
   },
   {
    "duration": 0,
    "start_time": "2024-08-16T15:53:11.850Z"
   },
   {
    "duration": 0,
    "start_time": "2024-08-16T15:53:11.852Z"
   },
   {
    "duration": 0,
    "start_time": "2024-08-16T15:53:11.855Z"
   },
   {
    "duration": 0,
    "start_time": "2024-08-16T15:53:11.857Z"
   },
   {
    "duration": 0,
    "start_time": "2024-08-16T15:53:11.860Z"
   },
   {
    "duration": 0,
    "start_time": "2024-08-16T15:53:11.862Z"
   },
   {
    "duration": 1,
    "start_time": "2024-08-16T15:53:11.863Z"
   },
   {
    "duration": 0,
    "start_time": "2024-08-16T15:53:11.864Z"
   },
   {
    "duration": 57,
    "start_time": "2024-08-16T15:53:11.865Z"
   },
   {
    "duration": 0,
    "start_time": "2024-08-16T15:53:11.925Z"
   },
   {
    "duration": 21,
    "start_time": "2024-08-16T15:53:36.874Z"
   },
   {
    "duration": 99,
    "start_time": "2024-08-16T15:53:47.051Z"
   },
   {
    "duration": 161,
    "start_time": "2024-08-16T15:54:25.220Z"
   },
   {
    "duration": 7,
    "start_time": "2024-08-16T15:54:37.816Z"
   },
   {
    "duration": 30,
    "start_time": "2024-08-16T15:54:48.885Z"
   },
   {
    "duration": 164,
    "start_time": "2024-08-16T15:55:01.308Z"
   },
   {
    "duration": 189,
    "start_time": "2024-08-16T15:55:25.033Z"
   },
   {
    "duration": 49,
    "start_time": "2024-08-16T15:56:13.368Z"
   },
   {
    "duration": 73,
    "start_time": "2024-08-16T15:56:49.552Z"
   },
   {
    "duration": 5,
    "start_time": "2024-08-16T15:56:58.581Z"
   },
   {
    "duration": 42,
    "start_time": "2024-08-16T15:57:02.399Z"
   },
   {
    "duration": 874,
    "start_time": "2024-08-16T16:00:00.370Z"
   },
   {
    "duration": 158,
    "start_time": "2024-08-16T16:00:24.118Z"
   },
   {
    "duration": 25,
    "start_time": "2024-08-16T16:00:58.018Z"
   },
   {
    "duration": 174,
    "start_time": "2024-08-16T16:01:40.525Z"
   },
   {
    "duration": 36,
    "start_time": "2024-08-16T16:12:33.733Z"
   },
   {
    "duration": 20,
    "start_time": "2024-08-16T16:12:56.470Z"
   },
   {
    "duration": 443,
    "start_time": "2024-08-16T16:14:35.854Z"
   },
   {
    "duration": 1696,
    "start_time": "2024-08-16T16:14:36.301Z"
   },
   {
    "duration": 40,
    "start_time": "2024-08-16T16:14:38.000Z"
   },
   {
    "duration": 25,
    "start_time": "2024-08-16T16:14:38.044Z"
   },
   {
    "duration": 50,
    "start_time": "2024-08-16T16:14:38.072Z"
   },
   {
    "duration": 20,
    "start_time": "2024-08-16T16:14:38.125Z"
   },
   {
    "duration": 19,
    "start_time": "2024-08-16T16:14:38.148Z"
   },
   {
    "duration": 225,
    "start_time": "2024-08-16T16:14:38.170Z"
   },
   {
    "duration": 439,
    "start_time": "2024-08-16T16:15:17.465Z"
   },
   {
    "duration": 1643,
    "start_time": "2024-08-16T16:15:17.908Z"
   },
   {
    "duration": 32,
    "start_time": "2024-08-16T16:15:19.553Z"
   },
   {
    "duration": 46,
    "start_time": "2024-08-16T16:15:19.589Z"
   },
   {
    "duration": 23,
    "start_time": "2024-08-16T16:15:19.639Z"
   },
   {
    "duration": 28,
    "start_time": "2024-08-16T16:15:19.666Z"
   },
   {
    "duration": 22,
    "start_time": "2024-08-16T16:15:19.728Z"
   },
   {
    "duration": 199,
    "start_time": "2024-08-16T16:15:19.752Z"
   },
   {
    "duration": 315,
    "start_time": "2024-08-16T16:17:02.724Z"
   },
   {
    "duration": 441,
    "start_time": "2024-08-16T16:17:13.754Z"
   },
   {
    "duration": 1652,
    "start_time": "2024-08-16T16:17:14.198Z"
   },
   {
    "duration": 32,
    "start_time": "2024-08-16T16:17:15.853Z"
   },
   {
    "duration": 43,
    "start_time": "2024-08-16T16:17:15.888Z"
   },
   {
    "duration": 18,
    "start_time": "2024-08-16T16:17:15.936Z"
   },
   {
    "duration": 19,
    "start_time": "2024-08-16T16:17:15.957Z"
   },
   {
    "duration": 59,
    "start_time": "2024-08-16T16:17:15.979Z"
   },
   {
    "duration": 192,
    "start_time": "2024-08-16T16:17:16.041Z"
   },
   {
    "duration": 438,
    "start_time": "2024-08-16T16:18:04.393Z"
   },
   {
    "duration": 1679,
    "start_time": "2024-08-16T16:18:04.836Z"
   },
   {
    "duration": 34,
    "start_time": "2024-08-16T16:18:06.518Z"
   },
   {
    "duration": 22,
    "start_time": "2024-08-16T16:18:06.556Z"
   },
   {
    "duration": 55,
    "start_time": "2024-08-16T16:18:06.581Z"
   },
   {
    "duration": 19,
    "start_time": "2024-08-16T16:18:06.639Z"
   },
   {
    "duration": 19,
    "start_time": "2024-08-16T16:18:06.661Z"
   },
   {
    "duration": 216,
    "start_time": "2024-08-16T16:18:06.683Z"
   },
   {
    "duration": 431,
    "start_time": "2024-08-16T16:21:25.468Z"
   },
   {
    "duration": 1794,
    "start_time": "2024-08-16T16:21:25.902Z"
   },
   {
    "duration": 49,
    "start_time": "2024-08-16T16:21:27.700Z"
   },
   {
    "duration": 27,
    "start_time": "2024-08-16T16:21:27.754Z"
   },
   {
    "duration": 56,
    "start_time": "2024-08-16T16:21:27.785Z"
   },
   {
    "duration": 25,
    "start_time": "2024-08-16T16:21:27.845Z"
   },
   {
    "duration": 59,
    "start_time": "2024-08-16T16:21:27.874Z"
   },
   {
    "duration": 216,
    "start_time": "2024-08-16T16:21:27.936Z"
   },
   {
    "duration": 444,
    "start_time": "2024-08-16T16:31:40.154Z"
   },
   {
    "duration": 1686,
    "start_time": "2024-08-16T16:31:40.601Z"
   },
   {
    "duration": 44,
    "start_time": "2024-08-16T16:31:42.290Z"
   },
   {
    "duration": 25,
    "start_time": "2024-08-16T16:31:42.338Z"
   },
   {
    "duration": 55,
    "start_time": "2024-08-16T16:31:42.367Z"
   },
   {
    "duration": 20,
    "start_time": "2024-08-16T16:31:42.426Z"
   },
   {
    "duration": 19,
    "start_time": "2024-08-16T16:31:42.448Z"
   },
   {
    "duration": 225,
    "start_time": "2024-08-16T16:31:42.471Z"
   },
   {
    "duration": 435,
    "start_time": "2024-08-16T16:36:04.860Z"
   },
   {
    "duration": 1640,
    "start_time": "2024-08-16T16:36:05.299Z"
   },
   {
    "duration": 33,
    "start_time": "2024-08-16T16:36:06.942Z"
   },
   {
    "duration": 49,
    "start_time": "2024-08-16T16:36:06.978Z"
   },
   {
    "duration": 20,
    "start_time": "2024-08-16T16:36:07.031Z"
   },
   {
    "duration": 68,
    "start_time": "2024-08-16T16:36:07.055Z"
   },
   {
    "duration": 18,
    "start_time": "2024-08-16T16:36:07.126Z"
   },
   {
    "duration": 205,
    "start_time": "2024-08-16T16:36:07.148Z"
   },
   {
    "duration": 433,
    "start_time": "2024-08-16T16:53:12.690Z"
   },
   {
    "duration": 1678,
    "start_time": "2024-08-16T16:53:13.126Z"
   },
   {
    "duration": 42,
    "start_time": "2024-08-16T16:53:14.808Z"
   },
   {
    "duration": 24,
    "start_time": "2024-08-16T16:53:14.854Z"
   },
   {
    "duration": 49,
    "start_time": "2024-08-16T16:53:14.881Z"
   },
   {
    "duration": 20,
    "start_time": "2024-08-16T16:53:14.933Z"
   },
   {
    "duration": 18,
    "start_time": "2024-08-16T16:53:14.956Z"
   },
   {
    "duration": 216,
    "start_time": "2024-08-16T16:53:14.978Z"
   },
   {
    "duration": 308,
    "start_time": "2024-08-16T17:01:18.463Z"
   },
   {
    "duration": 415,
    "start_time": "2024-08-16T17:01:32.276Z"
   },
   {
    "duration": 1691,
    "start_time": "2024-08-16T17:01:34.391Z"
   },
   {
    "duration": 1526,
    "start_time": "2024-08-16T17:01:39.224Z"
   },
   {
    "duration": 318,
    "start_time": "2024-08-16T17:01:55.598Z"
   },
   {
    "duration": 21,
    "start_time": "2024-08-16T17:02:25.902Z"
   },
   {
    "duration": 449,
    "start_time": "2024-08-16T17:02:29.903Z"
   },
   {
    "duration": 1671,
    "start_time": "2024-08-16T17:02:30.355Z"
   },
   {
    "duration": 35,
    "start_time": "2024-08-16T17:02:32.028Z"
   },
   {
    "duration": 23,
    "start_time": "2024-08-16T17:02:32.067Z"
   },
   {
    "duration": 47,
    "start_time": "2024-08-16T17:02:32.093Z"
   },
   {
    "duration": 19,
    "start_time": "2024-08-16T17:02:32.143Z"
   },
   {
    "duration": 18,
    "start_time": "2024-08-16T17:02:32.165Z"
   },
   {
    "duration": 238,
    "start_time": "2024-08-16T17:02:32.185Z"
   },
   {
    "duration": 309,
    "start_time": "2024-08-16T17:02:44.723Z"
   },
   {
    "duration": 24,
    "start_time": "2024-08-16T17:03:01.947Z"
   },
   {
    "duration": 416,
    "start_time": "2024-08-16T17:03:07.076Z"
   },
   {
    "duration": 1737,
    "start_time": "2024-08-16T17:03:09.530Z"
   },
   {
    "duration": 303,
    "start_time": "2024-08-16T17:03:56.662Z"
   },
   {
    "duration": 14,
    "start_time": "2024-08-16T18:25:13.482Z"
   },
   {
    "duration": 308,
    "start_time": "2024-08-16T18:26:14.232Z"
   },
   {
    "duration": 444,
    "start_time": "2024-08-16T18:26:20.341Z"
   },
   {
    "duration": 1691,
    "start_time": "2024-08-16T18:26:20.789Z"
   },
   {
    "duration": 46,
    "start_time": "2024-08-16T18:26:22.483Z"
   },
   {
    "duration": 29,
    "start_time": "2024-08-16T18:26:22.532Z"
   },
   {
    "duration": 47,
    "start_time": "2024-08-16T18:26:22.567Z"
   },
   {
    "duration": 22,
    "start_time": "2024-08-16T18:26:22.618Z"
   },
   {
    "duration": 59,
    "start_time": "2024-08-16T18:26:22.643Z"
   },
   {
    "duration": 214,
    "start_time": "2024-08-16T18:26:22.705Z"
   },
   {
    "duration": 9,
    "start_time": "2024-08-16T18:26:22.922Z"
   },
   {
    "duration": 3,
    "start_time": "2024-08-16T18:26:22.934Z"
   },
   {
    "duration": 5,
    "start_time": "2024-08-16T18:26:22.940Z"
   },
   {
    "duration": 3,
    "start_time": "2024-08-16T18:26:22.949Z"
   },
   {
    "duration": 47,
    "start_time": "2024-08-16T18:26:22.956Z"
   },
   {
    "duration": 3,
    "start_time": "2024-08-16T18:26:23.012Z"
   },
   {
    "duration": 4,
    "start_time": "2024-08-16T18:26:23.018Z"
   },
   {
    "duration": 4,
    "start_time": "2024-08-16T18:26:23.025Z"
   },
   {
    "duration": 3,
    "start_time": "2024-08-16T18:26:23.035Z"
   },
   {
    "duration": 4,
    "start_time": "2024-08-16T18:26:23.041Z"
   },
   {
    "duration": 53,
    "start_time": "2024-08-16T18:26:23.049Z"
   },
   {
    "duration": 4,
    "start_time": "2024-08-16T18:26:23.106Z"
   },
   {
    "duration": 3,
    "start_time": "2024-08-16T18:26:23.114Z"
   },
   {
    "duration": 4,
    "start_time": "2024-08-16T18:26:23.121Z"
   },
   {
    "duration": 3,
    "start_time": "2024-08-16T18:26:23.130Z"
   },
   {
    "duration": 4,
    "start_time": "2024-08-16T18:26:23.137Z"
   },
   {
    "duration": 3,
    "start_time": "2024-08-16T18:26:23.201Z"
   },
   {
    "duration": 4,
    "start_time": "2024-08-16T18:26:23.208Z"
   },
   {
    "duration": 4,
    "start_time": "2024-08-16T18:26:23.216Z"
   },
   {
    "duration": 3,
    "start_time": "2024-08-16T18:26:23.224Z"
   },
   {
    "duration": 3,
    "start_time": "2024-08-16T18:26:23.231Z"
   },
   {
    "duration": 4,
    "start_time": "2024-08-16T18:26:23.238Z"
   },
   {
    "duration": 3,
    "start_time": "2024-08-16T18:26:23.301Z"
   },
   {
    "duration": 3,
    "start_time": "2024-08-16T18:26:23.308Z"
   },
   {
    "duration": 4,
    "start_time": "2024-08-16T18:26:23.314Z"
   },
   {
    "duration": 4,
    "start_time": "2024-08-16T18:26:23.322Z"
   },
   {
    "duration": 7,
    "start_time": "2024-08-16T18:26:33.645Z"
   },
   {
    "duration": 20,
    "start_time": "2024-08-16T18:26:50.274Z"
   },
   {
    "duration": 468,
    "start_time": "2024-08-17T13:58:53.919Z"
   },
   {
    "duration": 1758,
    "start_time": "2024-08-17T13:58:54.390Z"
   },
   {
    "duration": 49,
    "start_time": "2024-08-17T13:58:56.152Z"
   },
   {
    "duration": 27,
    "start_time": "2024-08-17T13:58:56.206Z"
   },
   {
    "duration": 21,
    "start_time": "2024-08-17T13:58:56.238Z"
   },
   {
    "duration": 70,
    "start_time": "2024-08-17T13:58:56.262Z"
   },
   {
    "duration": 22,
    "start_time": "2024-08-17T13:58:56.335Z"
   },
   {
    "duration": 234,
    "start_time": "2024-08-17T13:58:56.361Z"
   },
   {
    "duration": 23,
    "start_time": "2024-08-17T13:58:56.601Z"
   },
   {
    "duration": 4,
    "start_time": "2024-08-17T13:58:56.627Z"
   },
   {
    "duration": 5,
    "start_time": "2024-08-17T13:58:56.634Z"
   },
   {
    "duration": 4,
    "start_time": "2024-08-17T13:58:56.643Z"
   },
   {
    "duration": 4,
    "start_time": "2024-08-17T13:58:56.650Z"
   },
   {
    "duration": 7,
    "start_time": "2024-08-17T13:58:56.707Z"
   },
   {
    "duration": 4,
    "start_time": "2024-08-17T13:58:56.718Z"
   },
   {
    "duration": 4,
    "start_time": "2024-08-17T13:58:56.725Z"
   },
   {
    "duration": 4,
    "start_time": "2024-08-17T13:58:56.732Z"
   },
   {
    "duration": 4,
    "start_time": "2024-08-17T13:58:56.739Z"
   },
   {
    "duration": 4,
    "start_time": "2024-08-17T13:58:56.746Z"
   },
   {
    "duration": 5,
    "start_time": "2024-08-17T13:58:56.803Z"
   },
   {
    "duration": 4,
    "start_time": "2024-08-17T13:58:56.812Z"
   },
   {
    "duration": 5,
    "start_time": "2024-08-17T13:58:56.819Z"
   },
   {
    "duration": 4,
    "start_time": "2024-08-17T13:58:56.827Z"
   },
   {
    "duration": 4,
    "start_time": "2024-08-17T13:58:56.835Z"
   },
   {
    "duration": 4,
    "start_time": "2024-08-17T13:58:56.843Z"
   },
   {
    "duration": 4,
    "start_time": "2024-08-17T13:58:56.902Z"
   },
   {
    "duration": 6,
    "start_time": "2024-08-17T13:58:56.909Z"
   },
   {
    "duration": 5,
    "start_time": "2024-08-17T13:58:56.919Z"
   },
   {
    "duration": 4,
    "start_time": "2024-08-17T13:58:56.928Z"
   },
   {
    "duration": 4,
    "start_time": "2024-08-17T13:58:56.937Z"
   },
   {
    "duration": 55,
    "start_time": "2024-08-17T13:58:56.945Z"
   },
   {
    "duration": 4,
    "start_time": "2024-08-17T13:58:57.004Z"
   },
   {
    "duration": 4,
    "start_time": "2024-08-17T13:58:57.013Z"
   },
   {
    "duration": 10,
    "start_time": "2024-08-17T13:58:57.021Z"
   },
   {
    "duration": 31,
    "start_time": "2024-08-17T13:59:41.130Z"
   },
   {
    "duration": 373,
    "start_time": "2024-08-17T13:59:56.331Z"
   },
   {
    "duration": 24,
    "start_time": "2024-08-17T14:00:46.814Z"
   },
   {
    "duration": 19,
    "start_time": "2024-08-17T14:01:00.360Z"
   },
   {
    "duration": 25,
    "start_time": "2024-08-17T14:02:51.603Z"
   },
   {
    "duration": 22,
    "start_time": "2024-08-17T14:04:57.103Z"
   },
   {
    "duration": 3,
    "start_time": "2024-08-17T14:05:07.889Z"
   },
   {
    "duration": 1563,
    "start_time": "2024-08-17T14:05:07.897Z"
   },
   {
    "duration": 41,
    "start_time": "2024-08-17T14:05:09.463Z"
   },
   {
    "duration": 28,
    "start_time": "2024-08-17T14:05:09.510Z"
   },
   {
    "duration": 21,
    "start_time": "2024-08-17T14:05:09.543Z"
   },
   {
    "duration": 57,
    "start_time": "2024-08-17T14:05:09.568Z"
   },
   {
    "duration": 20,
    "start_time": "2024-08-17T14:05:09.628Z"
   },
   {
    "duration": 206,
    "start_time": "2024-08-17T14:05:09.651Z"
   },
   {
    "duration": 18,
    "start_time": "2024-08-17T14:05:09.861Z"
   },
   {
    "duration": 50,
    "start_time": "2024-08-17T14:05:09.882Z"
   },
   {
    "duration": 23,
    "start_time": "2024-08-17T14:05:09.936Z"
   },
   {
    "duration": 0,
    "start_time": "2024-08-17T14:05:09.964Z"
   },
   {
    "duration": 0,
    "start_time": "2024-08-17T14:05:09.966Z"
   },
   {
    "duration": 0,
    "start_time": "2024-08-17T14:05:09.969Z"
   },
   {
    "duration": 0,
    "start_time": "2024-08-17T14:05:09.972Z"
   },
   {
    "duration": 0,
    "start_time": "2024-08-17T14:05:10.003Z"
   },
   {
    "duration": 0,
    "start_time": "2024-08-17T14:05:10.004Z"
   },
   {
    "duration": 0,
    "start_time": "2024-08-17T14:05:10.005Z"
   },
   {
    "duration": 0,
    "start_time": "2024-08-17T14:05:10.006Z"
   },
   {
    "duration": 0,
    "start_time": "2024-08-17T14:05:10.008Z"
   },
   {
    "duration": 0,
    "start_time": "2024-08-17T14:05:10.009Z"
   },
   {
    "duration": 0,
    "start_time": "2024-08-17T14:05:10.011Z"
   },
   {
    "duration": 0,
    "start_time": "2024-08-17T14:05:10.012Z"
   },
   {
    "duration": 0,
    "start_time": "2024-08-17T14:05:10.013Z"
   },
   {
    "duration": 0,
    "start_time": "2024-08-17T14:05:10.015Z"
   },
   {
    "duration": 0,
    "start_time": "2024-08-17T14:05:10.016Z"
   },
   {
    "duration": 0,
    "start_time": "2024-08-17T14:05:10.017Z"
   },
   {
    "duration": 0,
    "start_time": "2024-08-17T14:05:10.019Z"
   },
   {
    "duration": 0,
    "start_time": "2024-08-17T14:05:10.020Z"
   },
   {
    "duration": 0,
    "start_time": "2024-08-17T14:05:10.026Z"
   },
   {
    "duration": 0,
    "start_time": "2024-08-17T14:05:10.028Z"
   },
   {
    "duration": 0,
    "start_time": "2024-08-17T14:05:10.031Z"
   },
   {
    "duration": 0,
    "start_time": "2024-08-17T14:05:10.033Z"
   },
   {
    "duration": 0,
    "start_time": "2024-08-17T14:05:10.035Z"
   },
   {
    "duration": 34,
    "start_time": "2024-08-17T14:05:32.586Z"
   },
   {
    "duration": 23,
    "start_time": "2024-08-17T14:05:47.639Z"
   },
   {
    "duration": 1531,
    "start_time": "2024-08-17T14:05:59.638Z"
   },
   {
    "duration": 196,
    "start_time": "2024-08-17T14:06:06.727Z"
   },
   {
    "duration": 190,
    "start_time": "2024-08-17T14:06:21.365Z"
   },
   {
    "duration": 30,
    "start_time": "2024-08-17T14:06:27.269Z"
   },
   {
    "duration": 27,
    "start_time": "2024-08-17T14:06:31.687Z"
   },
   {
    "duration": 23,
    "start_time": "2024-08-17T14:06:54.161Z"
   },
   {
    "duration": 4,
    "start_time": "2024-08-17T14:07:12.827Z"
   },
   {
    "duration": 1534,
    "start_time": "2024-08-17T14:07:12.835Z"
   },
   {
    "duration": 40,
    "start_time": "2024-08-17T14:07:14.372Z"
   },
   {
    "duration": 23,
    "start_time": "2024-08-17T14:07:14.414Z"
   },
   {
    "duration": 20,
    "start_time": "2024-08-17T14:07:14.442Z"
   },
   {
    "duration": 67,
    "start_time": "2024-08-17T14:07:14.465Z"
   },
   {
    "duration": 19,
    "start_time": "2024-08-17T14:07:14.535Z"
   },
   {
    "duration": 170,
    "start_time": "2024-08-17T14:07:14.557Z"
   },
   {
    "duration": 20,
    "start_time": "2024-08-17T14:07:14.729Z"
   },
   {
    "duration": 27,
    "start_time": "2024-08-17T14:07:14.753Z"
   },
   {
    "duration": 32,
    "start_time": "2024-08-17T14:07:14.809Z"
   },
   {
    "duration": 0,
    "start_time": "2024-08-17T14:07:14.844Z"
   },
   {
    "duration": 0,
    "start_time": "2024-08-17T14:07:14.847Z"
   },
   {
    "duration": 0,
    "start_time": "2024-08-17T14:07:14.849Z"
   },
   {
    "duration": 0,
    "start_time": "2024-08-17T14:07:14.853Z"
   },
   {
    "duration": 0,
    "start_time": "2024-08-17T14:07:14.856Z"
   },
   {
    "duration": 0,
    "start_time": "2024-08-17T14:07:14.858Z"
   },
   {
    "duration": 0,
    "start_time": "2024-08-17T14:07:14.861Z"
   },
   {
    "duration": 0,
    "start_time": "2024-08-17T14:07:14.864Z"
   },
   {
    "duration": 0,
    "start_time": "2024-08-17T14:07:14.866Z"
   },
   {
    "duration": 0,
    "start_time": "2024-08-17T14:07:14.868Z"
   },
   {
    "duration": 0,
    "start_time": "2024-08-17T14:07:14.904Z"
   },
   {
    "duration": 0,
    "start_time": "2024-08-17T14:07:14.908Z"
   },
   {
    "duration": 0,
    "start_time": "2024-08-17T14:07:14.909Z"
   },
   {
    "duration": 0,
    "start_time": "2024-08-17T14:07:14.910Z"
   },
   {
    "duration": 0,
    "start_time": "2024-08-17T14:07:14.912Z"
   },
   {
    "duration": 0,
    "start_time": "2024-08-17T14:07:14.915Z"
   },
   {
    "duration": 0,
    "start_time": "2024-08-17T14:07:14.917Z"
   },
   {
    "duration": 0,
    "start_time": "2024-08-17T14:07:14.919Z"
   },
   {
    "duration": 0,
    "start_time": "2024-08-17T14:07:14.921Z"
   },
   {
    "duration": 0,
    "start_time": "2024-08-17T14:07:14.923Z"
   },
   {
    "duration": 0,
    "start_time": "2024-08-17T14:07:14.925Z"
   },
   {
    "duration": 0,
    "start_time": "2024-08-17T14:07:14.927Z"
   },
   {
    "duration": 0,
    "start_time": "2024-08-17T14:07:14.929Z"
   },
   {
    "duration": 23,
    "start_time": "2024-08-17T14:07:51.497Z"
   },
   {
    "duration": 21,
    "start_time": "2024-08-17T14:08:04.523Z"
   },
   {
    "duration": 3,
    "start_time": "2024-08-17T14:08:14.483Z"
   },
   {
    "duration": 1548,
    "start_time": "2024-08-17T14:08:14.491Z"
   },
   {
    "duration": 25,
    "start_time": "2024-08-17T14:08:16.044Z"
   },
   {
    "duration": 45,
    "start_time": "2024-08-17T14:08:16.073Z"
   },
   {
    "duration": 19,
    "start_time": "2024-08-17T14:08:16.121Z"
   },
   {
    "duration": 20,
    "start_time": "2024-08-17T14:08:16.142Z"
   },
   {
    "duration": 59,
    "start_time": "2024-08-17T14:08:16.165Z"
   },
   {
    "duration": 173,
    "start_time": "2024-08-17T14:08:16.226Z"
   },
   {
    "duration": 26,
    "start_time": "2024-08-17T14:08:16.404Z"
   },
   {
    "duration": 31,
    "start_time": "2024-08-17T14:08:16.432Z"
   },
   {
    "duration": 42,
    "start_time": "2024-08-17T14:08:16.470Z"
   },
   {
    "duration": 0,
    "start_time": "2024-08-17T14:08:16.519Z"
   },
   {
    "duration": 0,
    "start_time": "2024-08-17T14:08:16.522Z"
   },
   {
    "duration": 0,
    "start_time": "2024-08-17T14:08:16.524Z"
   },
   {
    "duration": 0,
    "start_time": "2024-08-17T14:08:16.527Z"
   },
   {
    "duration": 0,
    "start_time": "2024-08-17T14:08:16.529Z"
   },
   {
    "duration": 0,
    "start_time": "2024-08-17T14:08:16.532Z"
   },
   {
    "duration": 0,
    "start_time": "2024-08-17T14:08:16.534Z"
   },
   {
    "duration": 0,
    "start_time": "2024-08-17T14:08:16.536Z"
   },
   {
    "duration": 0,
    "start_time": "2024-08-17T14:08:16.539Z"
   },
   {
    "duration": 0,
    "start_time": "2024-08-17T14:08:16.541Z"
   },
   {
    "duration": 0,
    "start_time": "2024-08-17T14:08:16.543Z"
   },
   {
    "duration": 0,
    "start_time": "2024-08-17T14:08:16.545Z"
   },
   {
    "duration": 0,
    "start_time": "2024-08-17T14:08:16.548Z"
   },
   {
    "duration": 0,
    "start_time": "2024-08-17T14:08:16.550Z"
   },
   {
    "duration": 0,
    "start_time": "2024-08-17T14:08:16.553Z"
   },
   {
    "duration": 0,
    "start_time": "2024-08-17T14:08:16.555Z"
   },
   {
    "duration": 0,
    "start_time": "2024-08-17T14:08:16.557Z"
   },
   {
    "duration": 0,
    "start_time": "2024-08-17T14:08:16.559Z"
   },
   {
    "duration": 0,
    "start_time": "2024-08-17T14:08:16.605Z"
   },
   {
    "duration": 0,
    "start_time": "2024-08-17T14:08:16.610Z"
   },
   {
    "duration": 0,
    "start_time": "2024-08-17T14:08:16.613Z"
   },
   {
    "duration": 0,
    "start_time": "2024-08-17T14:08:16.617Z"
   },
   {
    "duration": 0,
    "start_time": "2024-08-17T14:08:16.623Z"
   },
   {
    "duration": 21,
    "start_time": "2024-08-17T14:08:47.338Z"
   },
   {
    "duration": 29,
    "start_time": "2024-08-17T14:16:13.475Z"
   },
   {
    "duration": 4,
    "start_time": "2024-08-17T14:16:25.989Z"
   },
   {
    "duration": 1595,
    "start_time": "2024-08-17T14:16:25.998Z"
   },
   {
    "duration": 37,
    "start_time": "2024-08-17T14:16:27.596Z"
   },
   {
    "duration": 30,
    "start_time": "2024-08-17T14:16:27.635Z"
   },
   {
    "duration": 53,
    "start_time": "2024-08-17T14:16:27.670Z"
   },
   {
    "duration": 20,
    "start_time": "2024-08-17T14:16:27.728Z"
   },
   {
    "duration": 20,
    "start_time": "2024-08-17T14:16:27.752Z"
   },
   {
    "duration": 175,
    "start_time": "2024-08-17T14:16:27.805Z"
   },
   {
    "duration": 32,
    "start_time": "2024-08-17T14:16:27.984Z"
   },
   {
    "duration": 31,
    "start_time": "2024-08-17T14:16:28.020Z"
   },
   {
    "duration": 209,
    "start_time": "2024-08-17T14:16:28.054Z"
   },
   {
    "duration": 5,
    "start_time": "2024-08-17T14:16:28.266Z"
   },
   {
    "duration": 4,
    "start_time": "2024-08-17T14:16:28.274Z"
   },
   {
    "duration": 6,
    "start_time": "2024-08-17T14:16:28.304Z"
   },
   {
    "duration": 5,
    "start_time": "2024-08-17T14:16:28.313Z"
   },
   {
    "duration": 6,
    "start_time": "2024-08-17T14:16:28.326Z"
   },
   {
    "duration": 3,
    "start_time": "2024-08-17T14:16:28.339Z"
   },
   {
    "duration": 2,
    "start_time": "2024-08-17T14:16:28.346Z"
   },
   {
    "duration": 8,
    "start_time": "2024-08-17T14:16:28.350Z"
   },
   {
    "duration": 7,
    "start_time": "2024-08-17T14:16:28.361Z"
   },
   {
    "duration": 32,
    "start_time": "2024-08-17T14:16:28.371Z"
   },
   {
    "duration": 7,
    "start_time": "2024-08-17T14:16:28.407Z"
   },
   {
    "duration": 6,
    "start_time": "2024-08-17T14:16:28.416Z"
   },
   {
    "duration": 5,
    "start_time": "2024-08-17T14:16:28.426Z"
   },
   {
    "duration": 6,
    "start_time": "2024-08-17T14:16:28.435Z"
   },
   {
    "duration": 5,
    "start_time": "2024-08-17T14:16:28.446Z"
   },
   {
    "duration": 4,
    "start_time": "2024-08-17T14:16:28.456Z"
   },
   {
    "duration": 5,
    "start_time": "2024-08-17T14:16:28.506Z"
   },
   {
    "duration": 4,
    "start_time": "2024-08-17T14:16:28.515Z"
   },
   {
    "duration": 5,
    "start_time": "2024-08-17T14:16:28.523Z"
   },
   {
    "duration": 6,
    "start_time": "2024-08-17T14:16:28.531Z"
   },
   {
    "duration": 8,
    "start_time": "2024-08-17T14:16:28.539Z"
   },
   {
    "duration": 5,
    "start_time": "2024-08-17T14:16:28.550Z"
   },
   {
    "duration": 4,
    "start_time": "2024-08-17T14:16:28.558Z"
   },
   {
    "duration": 31,
    "start_time": "2024-08-17T14:16:42.809Z"
   },
   {
    "duration": 161,
    "start_time": "2024-08-17T14:16:47.453Z"
   },
   {
    "duration": 173,
    "start_time": "2024-08-17T14:17:50.613Z"
   },
   {
    "duration": 161,
    "start_time": "2024-08-17T14:17:53.853Z"
   },
   {
    "duration": 10,
    "start_time": "2024-08-17T14:24:46.964Z"
   },
   {
    "duration": 439,
    "start_time": "2024-08-18T11:03:11.460Z"
   },
   {
    "duration": 1639,
    "start_time": "2024-08-18T11:03:11.902Z"
   },
   {
    "duration": 32,
    "start_time": "2024-08-18T11:03:13.544Z"
   },
   {
    "duration": 47,
    "start_time": "2024-08-18T11:03:13.580Z"
   },
   {
    "duration": 18,
    "start_time": "2024-08-18T11:03:13.630Z"
   },
   {
    "duration": 20,
    "start_time": "2024-08-18T11:03:13.651Z"
   },
   {
    "duration": 58,
    "start_time": "2024-08-18T11:03:13.674Z"
   },
   {
    "duration": 189,
    "start_time": "2024-08-18T11:03:13.735Z"
   },
   {
    "duration": 18,
    "start_time": "2024-08-18T11:03:13.927Z"
   },
   {
    "duration": 206,
    "start_time": "2024-08-18T11:03:13.952Z"
   },
   {
    "duration": 191,
    "start_time": "2024-08-18T11:03:14.161Z"
   },
   {
    "duration": 10,
    "start_time": "2024-08-18T11:03:14.354Z"
   },
   {
    "duration": 3,
    "start_time": "2024-08-18T11:03:14.367Z"
   },
   {
    "duration": 4,
    "start_time": "2024-08-18T11:03:14.374Z"
   },
   {
    "duration": 41,
    "start_time": "2024-08-18T11:03:14.381Z"
   },
   {
    "duration": 3,
    "start_time": "2024-08-18T11:03:14.426Z"
   },
   {
    "duration": 4,
    "start_time": "2024-08-18T11:03:14.432Z"
   },
   {
    "duration": 4,
    "start_time": "2024-08-18T11:03:14.438Z"
   },
   {
    "duration": 3,
    "start_time": "2024-08-18T11:03:14.445Z"
   },
   {
    "duration": 4,
    "start_time": "2024-08-18T11:03:14.451Z"
   },
   {
    "duration": 4,
    "start_time": "2024-08-18T11:03:14.457Z"
   },
   {
    "duration": 59,
    "start_time": "2024-08-18T11:03:14.465Z"
   },
   {
    "duration": 4,
    "start_time": "2024-08-18T11:03:14.527Z"
   },
   {
    "duration": 3,
    "start_time": "2024-08-18T11:03:14.534Z"
   },
   {
    "duration": 4,
    "start_time": "2024-08-18T11:03:14.540Z"
   },
   {
    "duration": 3,
    "start_time": "2024-08-18T11:03:14.547Z"
   },
   {
    "duration": 4,
    "start_time": "2024-08-18T11:03:14.554Z"
   },
   {
    "duration": 3,
    "start_time": "2024-08-18T11:03:14.566Z"
   },
   {
    "duration": 4,
    "start_time": "2024-08-18T11:03:14.624Z"
   },
   {
    "duration": 3,
    "start_time": "2024-08-18T11:03:14.631Z"
   },
   {
    "duration": 4,
    "start_time": "2024-08-18T11:03:14.637Z"
   },
   {
    "duration": 3,
    "start_time": "2024-08-18T11:03:14.644Z"
   },
   {
    "duration": 3,
    "start_time": "2024-08-18T11:03:14.650Z"
   },
   {
    "duration": 6,
    "start_time": "2024-08-18T11:03:14.656Z"
   },
   {
    "duration": 331,
    "start_time": "2024-08-18T11:05:41.466Z"
   },
   {
    "duration": 91,
    "start_time": "2024-08-18T11:05:47.089Z"
   },
   {
    "duration": 23,
    "start_time": "2024-08-18T11:11:45.369Z"
   },
   {
    "duration": 20,
    "start_time": "2024-08-18T11:12:14.473Z"
   },
   {
    "duration": 3,
    "start_time": "2024-08-18T11:12:27.436Z"
   },
   {
    "duration": 23,
    "start_time": "2024-08-18T11:13:19.833Z"
   },
   {
    "duration": 9,
    "start_time": "2024-08-18T11:13:25.699Z"
   },
   {
    "duration": 25,
    "start_time": "2024-08-18T11:14:02.323Z"
   },
   {
    "duration": 32,
    "start_time": "2024-08-18T11:14:15.546Z"
   },
   {
    "duration": 26,
    "start_time": "2024-08-18T11:16:10.018Z"
   },
   {
    "duration": 496,
    "start_time": "2024-08-18T11:56:03.388Z"
   },
   {
    "duration": 274,
    "start_time": "2024-08-18T11:56:19.608Z"
   },
   {
    "duration": 81,
    "start_time": "2024-08-18T11:56:39.651Z"
   },
   {
    "duration": 18,
    "start_time": "2024-08-18T11:57:08.666Z"
   },
   {
    "duration": 349,
    "start_time": "2024-08-18T11:57:20.946Z"
   },
   {
    "duration": 117,
    "start_time": "2024-08-18T11:59:33.272Z"
   },
   {
    "duration": 57,
    "start_time": "2024-08-18T12:01:47.951Z"
   },
   {
    "duration": 8,
    "start_time": "2024-08-18T12:06:16.422Z"
   },
   {
    "duration": 10,
    "start_time": "2024-08-18T12:06:45.251Z"
   },
   {
    "duration": 11,
    "start_time": "2024-08-18T12:07:00.224Z"
   },
   {
    "duration": 3,
    "start_time": "2024-08-18T12:18:20.885Z"
   },
   {
    "duration": 1492,
    "start_time": "2024-08-18T12:18:20.892Z"
   },
   {
    "duration": 36,
    "start_time": "2024-08-18T12:18:22.387Z"
   },
   {
    "duration": 23,
    "start_time": "2024-08-18T12:18:22.425Z"
   },
   {
    "duration": 20,
    "start_time": "2024-08-18T12:18:22.452Z"
   },
   {
    "duration": 55,
    "start_time": "2024-08-18T12:18:22.476Z"
   },
   {
    "duration": 18,
    "start_time": "2024-08-18T12:18:22.534Z"
   },
   {
    "duration": 198,
    "start_time": "2024-08-18T12:18:22.555Z"
   },
   {
    "duration": 18,
    "start_time": "2024-08-18T12:18:22.756Z"
   },
   {
    "duration": 201,
    "start_time": "2024-08-18T12:18:22.777Z"
   },
   {
    "duration": 173,
    "start_time": "2024-08-18T12:18:22.984Z"
   },
   {
    "duration": 99,
    "start_time": "2024-08-18T12:18:23.162Z"
   },
   {
    "duration": 25,
    "start_time": "2024-08-18T12:18:23.264Z"
   },
   {
    "duration": 34,
    "start_time": "2024-08-18T12:18:23.292Z"
   },
   {
    "duration": 4,
    "start_time": "2024-08-18T12:18:23.329Z"
   },
   {
    "duration": 5,
    "start_time": "2024-08-18T12:18:23.336Z"
   },
   {
    "duration": 6,
    "start_time": "2024-08-18T12:18:23.344Z"
   },
   {
    "duration": 11,
    "start_time": "2024-08-18T12:18:23.355Z"
   },
   {
    "duration": 5,
    "start_time": "2024-08-18T12:18:23.370Z"
   },
   {
    "duration": 44,
    "start_time": "2024-08-18T12:18:23.379Z"
   },
   {
    "duration": 5,
    "start_time": "2024-08-18T12:18:23.427Z"
   },
   {
    "duration": 3,
    "start_time": "2024-08-18T12:18:23.437Z"
   },
   {
    "duration": 3,
    "start_time": "2024-08-18T12:18:23.443Z"
   },
   {
    "duration": 3,
    "start_time": "2024-08-18T12:18:23.450Z"
   },
   {
    "duration": 3,
    "start_time": "2024-08-18T12:18:23.457Z"
   },
   {
    "duration": 4,
    "start_time": "2024-08-18T12:18:23.463Z"
   },
   {
    "duration": 54,
    "start_time": "2024-08-18T12:18:23.470Z"
   },
   {
    "duration": 4,
    "start_time": "2024-08-18T12:18:23.527Z"
   },
   {
    "duration": 3,
    "start_time": "2024-08-18T12:18:23.539Z"
   },
   {
    "duration": 4,
    "start_time": "2024-08-18T12:18:23.545Z"
   },
   {
    "duration": 5,
    "start_time": "2024-08-18T12:18:23.553Z"
   },
   {
    "duration": 3,
    "start_time": "2024-08-18T12:18:23.562Z"
   },
   {
    "duration": 55,
    "start_time": "2024-08-18T12:18:23.568Z"
   },
   {
    "duration": 5,
    "start_time": "2024-08-18T12:18:23.626Z"
   },
   {
    "duration": 8,
    "start_time": "2024-08-18T12:20:18.648Z"
   },
   {
    "duration": 22,
    "start_time": "2024-08-18T12:32:36.868Z"
   },
   {
    "duration": 4,
    "start_time": "2024-08-18T12:33:38.452Z"
   },
   {
    "duration": 1471,
    "start_time": "2024-08-18T12:33:38.462Z"
   },
   {
    "duration": 24,
    "start_time": "2024-08-18T12:33:39.936Z"
   },
   {
    "duration": 23,
    "start_time": "2024-08-18T12:33:39.963Z"
   },
   {
    "duration": 51,
    "start_time": "2024-08-18T12:33:39.991Z"
   },
   {
    "duration": 21,
    "start_time": "2024-08-18T12:33:40.046Z"
   },
   {
    "duration": 19,
    "start_time": "2024-08-18T12:33:40.069Z"
   },
   {
    "duration": 167,
    "start_time": "2024-08-18T12:33:40.124Z"
   },
   {
    "duration": 36,
    "start_time": "2024-08-18T12:33:40.294Z"
   },
   {
    "duration": 171,
    "start_time": "2024-08-18T12:33:40.333Z"
   },
   {
    "duration": 165,
    "start_time": "2024-08-18T12:33:40.507Z"
   },
   {
    "duration": 98,
    "start_time": "2024-08-18T12:33:40.674Z"
   },
   {
    "duration": 23,
    "start_time": "2024-08-18T12:33:40.775Z"
   },
   {
    "duration": 25,
    "start_time": "2024-08-18T12:33:40.804Z"
   },
   {
    "duration": 24,
    "start_time": "2024-08-18T12:33:40.831Z"
   },
   {
    "duration": 0,
    "start_time": "2024-08-18T12:33:40.858Z"
   },
   {
    "duration": 0,
    "start_time": "2024-08-18T12:33:40.859Z"
   },
   {
    "duration": 0,
    "start_time": "2024-08-18T12:33:40.862Z"
   },
   {
    "duration": 0,
    "start_time": "2024-08-18T12:33:40.864Z"
   },
   {
    "duration": 0,
    "start_time": "2024-08-18T12:33:40.867Z"
   },
   {
    "duration": 0,
    "start_time": "2024-08-18T12:33:40.869Z"
   },
   {
    "duration": 0,
    "start_time": "2024-08-18T12:33:40.872Z"
   },
   {
    "duration": 0,
    "start_time": "2024-08-18T12:33:40.875Z"
   },
   {
    "duration": 0,
    "start_time": "2024-08-18T12:33:40.922Z"
   },
   {
    "duration": 0,
    "start_time": "2024-08-18T12:33:40.924Z"
   },
   {
    "duration": 0,
    "start_time": "2024-08-18T12:33:40.927Z"
   },
   {
    "duration": 0,
    "start_time": "2024-08-18T12:33:40.930Z"
   },
   {
    "duration": 0,
    "start_time": "2024-08-18T12:33:40.931Z"
   },
   {
    "duration": 0,
    "start_time": "2024-08-18T12:33:40.934Z"
   },
   {
    "duration": 0,
    "start_time": "2024-08-18T12:33:40.936Z"
   },
   {
    "duration": 0,
    "start_time": "2024-08-18T12:33:40.939Z"
   },
   {
    "duration": 1,
    "start_time": "2024-08-18T12:33:40.942Z"
   },
   {
    "duration": 1,
    "start_time": "2024-08-18T12:33:40.944Z"
   },
   {
    "duration": 0,
    "start_time": "2024-08-18T12:33:40.948Z"
   },
   {
    "duration": 6,
    "start_time": "2024-08-18T12:34:01.218Z"
   },
   {
    "duration": 43,
    "start_time": "2024-08-18T12:35:18.663Z"
   },
   {
    "duration": 58,
    "start_time": "2024-08-18T12:35:59.442Z"
   },
   {
    "duration": 34,
    "start_time": "2024-08-18T12:36:07.412Z"
   },
   {
    "duration": 35,
    "start_time": "2024-08-18T12:36:29.868Z"
   },
   {
    "duration": 20,
    "start_time": "2024-08-18T12:38:12.802Z"
   },
   {
    "duration": 29,
    "start_time": "2024-08-18T12:40:18.687Z"
   },
   {
    "duration": 33,
    "start_time": "2024-08-18T12:40:36.692Z"
   },
   {
    "duration": 30,
    "start_time": "2024-08-18T12:40:58.498Z"
   },
   {
    "duration": 95,
    "start_time": "2024-08-18T12:42:18.467Z"
   },
   {
    "duration": 40,
    "start_time": "2024-08-18T12:42:41.417Z"
   },
   {
    "duration": 192,
    "start_time": "2024-08-18T12:42:49.139Z"
   },
   {
    "duration": 13,
    "start_time": "2024-08-18T12:43:29.880Z"
   },
   {
    "duration": 12,
    "start_time": "2024-08-18T12:43:41.403Z"
   },
   {
    "duration": 616,
    "start_time": "2024-08-18T12:44:42.905Z"
   },
   {
    "duration": 1421,
    "start_time": "2024-08-18T12:45:21.358Z"
   },
   {
    "duration": 82,
    "start_time": "2024-08-18T12:47:24.791Z"
   },
   {
    "duration": 21,
    "start_time": "2024-08-18T12:47:39.350Z"
   },
   {
    "duration": 21,
    "start_time": "2024-08-18T12:48:07.872Z"
   },
   {
    "duration": 9,
    "start_time": "2024-08-18T12:48:52.516Z"
   },
   {
    "duration": 27,
    "start_time": "2024-08-18T12:48:58.121Z"
   },
   {
    "duration": 24,
    "start_time": "2024-08-18T12:49:12.573Z"
   },
   {
    "duration": 30,
    "start_time": "2024-08-18T12:49:21.670Z"
   },
   {
    "duration": 12,
    "start_time": "2024-08-18T12:50:15.661Z"
   },
   {
    "duration": 10,
    "start_time": "2024-08-18T12:51:48.072Z"
   },
   {
    "duration": 3,
    "start_time": "2024-08-18T12:52:35.522Z"
   },
   {
    "duration": 6,
    "start_time": "2024-08-18T12:55:38.324Z"
   },
   {
    "duration": 142,
    "start_time": "2024-08-18T13:03:16.189Z"
   },
   {
    "duration": 19,
    "start_time": "2024-08-18T13:03:19.978Z"
   },
   {
    "duration": 24,
    "start_time": "2024-08-18T13:04:09.661Z"
   },
   {
    "duration": 17,
    "start_time": "2024-08-18T13:04:16.864Z"
   },
   {
    "duration": 21,
    "start_time": "2024-08-18T13:04:39.967Z"
   },
   {
    "duration": 5,
    "start_time": "2024-08-18T13:04:58.997Z"
   },
   {
    "duration": 6,
    "start_time": "2024-08-18T13:05:05.999Z"
   },
   {
    "duration": 20,
    "start_time": "2024-08-18T13:05:43.250Z"
   },
   {
    "duration": 30,
    "start_time": "2024-08-18T13:06:03.515Z"
   },
   {
    "duration": 6,
    "start_time": "2024-08-18T13:18:14.015Z"
   },
   {
    "duration": 32,
    "start_time": "2024-08-18T13:23:31.624Z"
   },
   {
    "duration": 45,
    "start_time": "2024-08-18T13:24:29.712Z"
   },
   {
    "duration": 6,
    "start_time": "2024-08-18T13:26:16.469Z"
   },
   {
    "duration": 19,
    "start_time": "2024-08-18T13:32:11.854Z"
   },
   {
    "duration": 24,
    "start_time": "2024-08-18T13:35:41.945Z"
   },
   {
    "duration": 9,
    "start_time": "2024-08-18T13:35:48.896Z"
   },
   {
    "duration": 6,
    "start_time": "2024-08-18T13:54:25.474Z"
   },
   {
    "duration": 5,
    "start_time": "2024-08-18T13:55:21.229Z"
   },
   {
    "duration": 214,
    "start_time": "2024-08-18T13:56:47.833Z"
   },
   {
    "duration": 1226,
    "start_time": "2024-08-18T14:06:44.752Z"
   },
   {
    "duration": 1262,
    "start_time": "2024-08-18T14:07:09.652Z"
   },
   {
    "duration": 211,
    "start_time": "2024-08-18T14:15:08.579Z"
   },
   {
    "duration": 14,
    "start_time": "2024-08-18T14:21:52.145Z"
   },
   {
    "duration": 213,
    "start_time": "2024-08-18T14:24:39.997Z"
   },
   {
    "duration": 25,
    "start_time": "2024-08-18T14:24:58.739Z"
   },
   {
    "duration": 390,
    "start_time": "2024-08-18T14:27:51.233Z"
   },
   {
    "duration": 481,
    "start_time": "2024-08-18T14:29:50.934Z"
   },
   {
    "duration": 387,
    "start_time": "2024-08-18T14:32:26.090Z"
   },
   {
    "duration": 13,
    "start_time": "2024-08-18T14:35:36.958Z"
   },
   {
    "duration": 17,
    "start_time": "2024-08-18T14:42:27.376Z"
   },
   {
    "duration": 14,
    "start_time": "2024-08-18T14:46:29.790Z"
   },
   {
    "duration": 22,
    "start_time": "2024-08-18T14:51:12.465Z"
   },
   {
    "duration": 3,
    "start_time": "2024-08-18T14:52:51.208Z"
   },
   {
    "duration": 4,
    "start_time": "2024-08-18T14:53:18.740Z"
   },
   {
    "duration": 12,
    "start_time": "2024-08-18T14:53:43.962Z"
   },
   {
    "duration": 272,
    "start_time": "2024-08-18T14:54:11.763Z"
   },
   {
    "duration": 282,
    "start_time": "2024-08-18T14:55:03.363Z"
   },
   {
    "duration": 283,
    "start_time": "2024-08-18T14:55:25.889Z"
   },
   {
    "duration": 14,
    "start_time": "2024-08-18T15:05:15.959Z"
   },
   {
    "duration": 22,
    "start_time": "2024-08-18T15:05:36.861Z"
   },
   {
    "duration": 24,
    "start_time": "2024-08-18T15:05:41.627Z"
   },
   {
    "duration": 15,
    "start_time": "2024-08-18T15:05:49.953Z"
   },
   {
    "duration": 11,
    "start_time": "2024-08-18T15:10:09.341Z"
   },
   {
    "duration": 79,
    "start_time": "2024-08-18T15:22:18.329Z"
   },
   {
    "duration": 26,
    "start_time": "2024-08-18T15:22:39.169Z"
   },
   {
    "duration": 14,
    "start_time": "2024-08-18T15:22:43.604Z"
   },
   {
    "duration": 14,
    "start_time": "2024-08-18T15:24:48.140Z"
   },
   {
    "duration": 14,
    "start_time": "2024-08-18T15:24:59.934Z"
   },
   {
    "duration": 52,
    "start_time": "2024-08-18T15:25:35.298Z"
   },
   {
    "duration": 72,
    "start_time": "2024-08-18T15:25:41.712Z"
   },
   {
    "duration": 231,
    "start_time": "2024-08-18T15:29:09.472Z"
   },
   {
    "duration": 59,
    "start_time": "2024-08-18T15:32:02.774Z"
   },
   {
    "duration": 1623,
    "start_time": "2024-08-18T15:32:17.100Z"
   },
   {
    "duration": 26,
    "start_time": "2024-08-18T16:43:10.820Z"
   },
   {
    "duration": 37,
    "start_time": "2024-08-18T16:43:34.350Z"
   },
   {
    "duration": 26,
    "start_time": "2024-08-18T16:44:01.068Z"
   },
   {
    "duration": 18,
    "start_time": "2024-08-18T16:44:16.225Z"
   },
   {
    "duration": 19,
    "start_time": "2024-08-18T16:51:12.687Z"
   },
   {
    "duration": 305,
    "start_time": "2024-08-18T16:52:27.478Z"
   },
   {
    "duration": 458,
    "start_time": "2024-08-18T16:52:31.035Z"
   },
   {
    "duration": 1655,
    "start_time": "2024-08-18T16:52:31.496Z"
   },
   {
    "duration": 32,
    "start_time": "2024-08-18T16:52:33.154Z"
   },
   {
    "duration": 53,
    "start_time": "2024-08-18T16:52:33.188Z"
   },
   {
    "duration": 20,
    "start_time": "2024-08-18T16:52:33.247Z"
   },
   {
    "duration": 54,
    "start_time": "2024-08-18T16:52:33.270Z"
   },
   {
    "duration": 17,
    "start_time": "2024-08-18T16:52:33.328Z"
   },
   {
    "duration": 211,
    "start_time": "2024-08-18T16:52:33.349Z"
   },
   {
    "duration": 19,
    "start_time": "2024-08-18T16:52:33.563Z"
   },
   {
    "duration": 197,
    "start_time": "2024-08-18T16:52:33.586Z"
   },
   {
    "duration": 183,
    "start_time": "2024-08-18T16:52:33.786Z"
   },
   {
    "duration": 105,
    "start_time": "2024-08-18T16:52:33.971Z"
   },
   {
    "duration": 22,
    "start_time": "2024-08-18T16:52:34.079Z"
   },
   {
    "duration": 6,
    "start_time": "2024-08-18T16:52:34.123Z"
   },
   {
    "duration": 39,
    "start_time": "2024-08-18T16:52:34.132Z"
   },
   {
    "duration": 49,
    "start_time": "2024-08-18T16:52:34.174Z"
   },
   {
    "duration": 6,
    "start_time": "2024-08-18T16:52:34.227Z"
   },
   {
    "duration": 6,
    "start_time": "2024-08-18T16:52:34.236Z"
   },
   {
    "duration": 9,
    "start_time": "2024-08-18T16:52:34.245Z"
   },
   {
    "duration": 7,
    "start_time": "2024-08-18T16:52:34.257Z"
   },
   {
    "duration": 1419,
    "start_time": "2024-08-18T16:52:34.266Z"
   },
   {
    "duration": 477,
    "start_time": "2024-08-18T16:52:35.688Z"
   },
   {
    "duration": 13,
    "start_time": "2024-08-18T16:52:36.168Z"
   },
   {
    "duration": 13,
    "start_time": "2024-08-18T16:52:36.185Z"
   },
   {
    "duration": 13,
    "start_time": "2024-08-18T16:52:36.225Z"
   },
   {
    "duration": 12,
    "start_time": "2024-08-18T16:52:36.242Z"
   },
   {
    "duration": 9,
    "start_time": "2024-08-18T16:52:36.256Z"
   },
   {
    "duration": 3,
    "start_time": "2024-08-18T16:52:36.269Z"
   },
   {
    "duration": 4,
    "start_time": "2024-08-18T16:52:36.323Z"
   },
   {
    "duration": 12,
    "start_time": "2024-08-18T16:52:36.330Z"
   },
   {
    "duration": 4,
    "start_time": "2024-08-18T16:52:36.345Z"
   },
   {
    "duration": 4,
    "start_time": "2024-08-18T16:52:36.352Z"
   },
   {
    "duration": 4,
    "start_time": "2024-08-18T16:52:36.360Z"
   },
   {
    "duration": 4,
    "start_time": "2024-08-18T16:52:36.367Z"
   },
   {
    "duration": 21,
    "start_time": "2024-08-18T16:53:02.221Z"
   },
   {
    "duration": 294,
    "start_time": "2024-08-18T16:53:19.545Z"
   },
   {
    "duration": 681,
    "start_time": "2024-08-18T16:59:25.648Z"
   },
   {
    "duration": 6,
    "start_time": "2024-08-18T16:59:56.869Z"
   },
   {
    "duration": 34,
    "start_time": "2024-08-18T17:00:07.056Z"
   },
   {
    "duration": 25,
    "start_time": "2024-08-18T17:00:46.537Z"
   },
   {
    "duration": 51,
    "start_time": "2024-08-18T17:02:49.463Z"
   },
   {
    "duration": 8,
    "start_time": "2024-08-18T17:22:06.569Z"
   },
   {
    "duration": 5,
    "start_time": "2024-08-18T17:22:14.445Z"
   },
   {
    "duration": 6,
    "start_time": "2024-08-18T17:22:22.157Z"
   },
   {
    "duration": 6,
    "start_time": "2024-08-18T17:23:26.100Z"
   },
   {
    "duration": 5,
    "start_time": "2024-08-18T17:23:41.144Z"
   },
   {
    "duration": 5,
    "start_time": "2024-08-18T17:23:48.392Z"
   },
   {
    "duration": 5,
    "start_time": "2024-08-18T17:24:15.852Z"
   },
   {
    "duration": 5,
    "start_time": "2024-08-18T17:26:16.318Z"
   },
   {
    "duration": 7,
    "start_time": "2024-08-18T17:26:52.987Z"
   },
   {
    "duration": 8,
    "start_time": "2024-08-18T17:27:19.694Z"
   },
   {
    "duration": 4,
    "start_time": "2024-08-18T17:27:23.282Z"
   },
   {
    "duration": 4,
    "start_time": "2024-08-18T17:27:30.521Z"
   },
   {
    "duration": 4,
    "start_time": "2024-08-18T17:27:35.225Z"
   },
   {
    "duration": 4,
    "start_time": "2024-08-18T17:31:21.854Z"
   },
   {
    "duration": 27,
    "start_time": "2024-08-18T17:38:00.639Z"
   },
   {
    "duration": 449,
    "start_time": "2024-08-18T17:44:35.213Z"
   },
   {
    "duration": 5,
    "start_time": "2024-08-18T17:45:49.967Z"
   },
   {
    "duration": 3962,
    "start_time": "2024-08-18T17:48:59.797Z"
   },
   {
    "duration": 7,
    "start_time": "2024-08-18T17:51:55.922Z"
   },
   {
    "duration": 35,
    "start_time": "2024-08-18T17:52:10.832Z"
   },
   {
    "duration": 7,
    "start_time": "2024-08-18T17:52:15.338Z"
   },
   {
    "duration": 11,
    "start_time": "2024-08-18T17:52:57.235Z"
   },
   {
    "duration": 9,
    "start_time": "2024-08-18T17:53:31.216Z"
   },
   {
    "duration": 6,
    "start_time": "2024-08-18T17:53:55.129Z"
   },
   {
    "duration": 6,
    "start_time": "2024-08-18T17:53:56.932Z"
   },
   {
    "duration": 6,
    "start_time": "2024-08-18T17:54:43.274Z"
   },
   {
    "duration": 12,
    "start_time": "2024-08-18T17:54:51.478Z"
   },
   {
    "duration": 27,
    "start_time": "2024-08-18T17:55:11.232Z"
   },
   {
    "duration": 23,
    "start_time": "2024-08-18T17:55:15.683Z"
   },
   {
    "duration": 22,
    "start_time": "2024-08-18T17:56:32.246Z"
   },
   {
    "duration": 19,
    "start_time": "2024-08-18T17:56:56.461Z"
   },
   {
    "duration": 18,
    "start_time": "2024-08-18T17:57:14.564Z"
   },
   {
    "duration": 22,
    "start_time": "2024-08-18T17:57:27.567Z"
   },
   {
    "duration": 41,
    "start_time": "2024-08-18T17:57:32.123Z"
   },
   {
    "duration": 11,
    "start_time": "2024-08-18T17:58:00.046Z"
   },
   {
    "duration": 12,
    "start_time": "2024-08-18T17:59:13.487Z"
   },
   {
    "duration": 16,
    "start_time": "2024-08-18T18:04:23.669Z"
   },
   {
    "duration": 4317,
    "start_time": "2024-08-19T16:12:04.722Z"
   },
   {
    "duration": 1671,
    "start_time": "2024-08-19T16:12:09.042Z"
   },
   {
    "duration": 30,
    "start_time": "2024-08-19T16:12:10.715Z"
   },
   {
    "duration": 22,
    "start_time": "2024-08-19T16:12:10.750Z"
   },
   {
    "duration": 54,
    "start_time": "2024-08-19T16:12:10.775Z"
   },
   {
    "duration": 20,
    "start_time": "2024-08-19T16:12:10.832Z"
   },
   {
    "duration": 58,
    "start_time": "2024-08-19T16:12:10.854Z"
   },
   {
    "duration": 190,
    "start_time": "2024-08-19T16:12:10.916Z"
   },
   {
    "duration": 19,
    "start_time": "2024-08-19T16:12:11.114Z"
   },
   {
    "duration": 214,
    "start_time": "2024-08-19T16:12:11.140Z"
   },
   {
    "duration": 203,
    "start_time": "2024-08-19T16:12:11.357Z"
   },
   {
    "duration": 121,
    "start_time": "2024-08-19T16:12:11.564Z"
   },
   {
    "duration": 42,
    "start_time": "2024-08-19T16:12:11.688Z"
   },
   {
    "duration": 6,
    "start_time": "2024-08-19T16:12:11.733Z"
   },
   {
    "duration": 42,
    "start_time": "2024-08-19T16:12:11.743Z"
   },
   {
    "duration": 18,
    "start_time": "2024-08-19T16:12:11.814Z"
   },
   {
    "duration": 7,
    "start_time": "2024-08-19T16:12:11.834Z"
   },
   {
    "duration": 6,
    "start_time": "2024-08-19T16:12:11.844Z"
   },
   {
    "duration": 8,
    "start_time": "2024-08-19T16:12:11.854Z"
   },
   {
    "duration": 54,
    "start_time": "2024-08-19T16:12:11.864Z"
   },
   {
    "duration": 1416,
    "start_time": "2024-08-19T16:12:11.923Z"
   },
   {
    "duration": 484,
    "start_time": "2024-08-19T16:12:13.342Z"
   },
   {
    "duration": 14,
    "start_time": "2024-08-19T16:12:13.829Z"
   },
   {
    "duration": 14,
    "start_time": "2024-08-19T16:12:13.846Z"
   },
   {
    "duration": 51,
    "start_time": "2024-08-19T16:12:13.863Z"
   },
   {
    "duration": 11,
    "start_time": "2024-08-19T16:12:13.917Z"
   },
   {
    "duration": 10,
    "start_time": "2024-08-19T16:12:13.931Z"
   },
   {
    "duration": 3,
    "start_time": "2024-08-19T16:12:13.948Z"
   },
   {
    "duration": 4,
    "start_time": "2024-08-19T16:12:13.954Z"
   },
   {
    "duration": 68,
    "start_time": "2024-08-19T16:12:13.961Z"
   },
   {
    "duration": 48,
    "start_time": "2024-08-19T16:12:14.032Z"
   },
   {
    "duration": 30,
    "start_time": "2024-08-19T16:12:14.083Z"
   },
   {
    "duration": 5,
    "start_time": "2024-08-19T16:12:14.116Z"
   },
   {
    "duration": 4,
    "start_time": "2024-08-19T16:12:14.125Z"
   },
   {
    "duration": 6,
    "start_time": "2024-08-19T16:12:14.132Z"
   },
   {
    "duration": 7,
    "start_time": "2024-08-19T16:12:14.141Z"
   },
   {
    "duration": 65,
    "start_time": "2024-08-19T16:12:14.151Z"
   },
   {
    "duration": 18,
    "start_time": "2024-08-19T16:12:14.219Z"
   },
   {
    "duration": 8,
    "start_time": "2024-08-19T16:12:14.240Z"
   },
   {
    "duration": 330,
    "start_time": "2024-08-19T16:21:47.020Z"
   },
   {
    "duration": 284,
    "start_time": "2024-08-19T16:22:20.830Z"
   },
   {
    "duration": 258,
    "start_time": "2024-08-19T16:30:59.489Z"
   },
   {
    "duration": 266,
    "start_time": "2024-08-19T16:31:17.581Z"
   },
   {
    "duration": 265,
    "start_time": "2024-08-19T16:31:32.721Z"
   },
   {
    "duration": 269,
    "start_time": "2024-08-19T16:34:39.888Z"
   },
   {
    "duration": 262,
    "start_time": "2024-08-19T16:35:01.218Z"
   },
   {
    "duration": 289,
    "start_time": "2024-08-19T16:41:58.353Z"
   },
   {
    "duration": 271,
    "start_time": "2024-08-19T16:42:34.097Z"
   },
   {
    "duration": 3142,
    "start_time": "2024-08-19T16:42:56.149Z"
   },
   {
    "duration": 724,
    "start_time": "2024-08-19T16:46:03.507Z"
   },
   {
    "duration": 1758,
    "start_time": "2024-08-19T16:46:04.234Z"
   },
   {
    "duration": 37,
    "start_time": "2024-08-19T16:46:05.995Z"
   },
   {
    "duration": 22,
    "start_time": "2024-08-19T16:46:06.038Z"
   },
   {
    "duration": 51,
    "start_time": "2024-08-19T16:46:06.063Z"
   },
   {
    "duration": 18,
    "start_time": "2024-08-19T16:46:06.117Z"
   },
   {
    "duration": 22,
    "start_time": "2024-08-19T16:46:06.138Z"
   },
   {
    "duration": 216,
    "start_time": "2024-08-19T16:46:06.163Z"
   },
   {
    "duration": 32,
    "start_time": "2024-08-19T16:46:06.382Z"
   },
   {
    "duration": 210,
    "start_time": "2024-08-19T16:46:06.421Z"
   },
   {
    "duration": 183,
    "start_time": "2024-08-19T16:46:06.635Z"
   },
   {
    "duration": 105,
    "start_time": "2024-08-19T16:46:06.821Z"
   },
   {
    "duration": 23,
    "start_time": "2024-08-19T16:46:06.929Z"
   },
   {
    "duration": 7,
    "start_time": "2024-08-19T16:46:06.955Z"
   },
   {
    "duration": 67,
    "start_time": "2024-08-19T16:46:06.965Z"
   },
   {
    "duration": 19,
    "start_time": "2024-08-19T16:46:07.034Z"
   },
   {
    "duration": 8,
    "start_time": "2024-08-19T16:46:07.055Z"
   },
   {
    "duration": 46,
    "start_time": "2024-08-19T16:46:07.066Z"
   },
   {
    "duration": 7,
    "start_time": "2024-08-19T16:46:07.116Z"
   },
   {
    "duration": 7,
    "start_time": "2024-08-19T16:46:07.126Z"
   },
   {
    "duration": 1391,
    "start_time": "2024-08-19T16:46:07.137Z"
   },
   {
    "duration": 500,
    "start_time": "2024-08-19T16:46:08.532Z"
   },
   {
    "duration": 14,
    "start_time": "2024-08-19T16:46:09.035Z"
   },
   {
    "duration": 14,
    "start_time": "2024-08-19T16:46:09.052Z"
   },
   {
    "duration": 46,
    "start_time": "2024-08-19T16:46:09.069Z"
   },
   {
    "duration": 12,
    "start_time": "2024-08-19T16:46:09.118Z"
   },
   {
    "duration": 10,
    "start_time": "2024-08-19T16:46:09.132Z"
   },
   {
    "duration": 4,
    "start_time": "2024-08-19T16:46:09.150Z"
   },
   {
    "duration": 4,
    "start_time": "2024-08-19T16:46:09.157Z"
   },
   {
    "duration": 26,
    "start_time": "2024-08-19T16:46:09.213Z"
   },
   {
    "duration": 70,
    "start_time": "2024-08-19T16:46:09.242Z"
   },
   {
    "duration": 6,
    "start_time": "2024-08-19T16:46:09.316Z"
   },
   {
    "duration": 5,
    "start_time": "2024-08-19T16:46:09.325Z"
   },
   {
    "duration": 4,
    "start_time": "2024-08-19T16:46:09.333Z"
   },
   {
    "duration": 7,
    "start_time": "2024-08-19T16:46:09.340Z"
   },
   {
    "duration": 62,
    "start_time": "2024-08-19T16:46:09.351Z"
   },
   {
    "duration": 16,
    "start_time": "2024-08-19T16:46:09.416Z"
   },
   {
    "duration": 319,
    "start_time": "2024-08-19T16:46:09.435Z"
   },
   {
    "duration": 272,
    "start_time": "2024-08-19T16:47:21.057Z"
   },
   {
    "duration": 96,
    "start_time": "2024-08-19T16:49:53.682Z"
   },
   {
    "duration": 6,
    "start_time": "2024-08-19T16:50:32.874Z"
   },
   {
    "duration": 8,
    "start_time": "2024-08-19T16:51:06.165Z"
   },
   {
    "duration": 9,
    "start_time": "2024-08-19T16:53:20.035Z"
   },
   {
    "duration": 8,
    "start_time": "2024-08-19T16:53:55.739Z"
   },
   {
    "duration": 7,
    "start_time": "2024-08-19T16:55:12.216Z"
   },
   {
    "duration": 7,
    "start_time": "2024-08-19T16:55:35.912Z"
   },
   {
    "duration": 8,
    "start_time": "2024-08-19T16:55:45.635Z"
   },
   {
    "duration": 258,
    "start_time": "2024-08-19T17:00:44.995Z"
   },
   {
    "duration": 362,
    "start_time": "2024-08-19T17:03:23.368Z"
   },
   {
    "duration": 19,
    "start_time": "2024-08-19T17:03:49.298Z"
   },
   {
    "duration": 323,
    "start_time": "2024-08-19T17:07:12.601Z"
   },
   {
    "duration": 721,
    "start_time": "2024-08-19T17:07:19.346Z"
   },
   {
    "duration": 1644,
    "start_time": "2024-08-19T17:07:20.071Z"
   },
   {
    "duration": 34,
    "start_time": "2024-08-19T17:07:21.718Z"
   },
   {
    "duration": 26,
    "start_time": "2024-08-19T17:07:21.756Z"
   },
   {
    "duration": 20,
    "start_time": "2024-08-19T17:07:21.817Z"
   },
   {
    "duration": 21,
    "start_time": "2024-08-19T17:07:21.841Z"
   },
   {
    "duration": 63,
    "start_time": "2024-08-19T17:07:21.865Z"
   },
   {
    "duration": 190,
    "start_time": "2024-08-19T17:07:21.931Z"
   },
   {
    "duration": 19,
    "start_time": "2024-08-19T17:07:22.125Z"
   },
   {
    "duration": 218,
    "start_time": "2024-08-19T17:07:22.147Z"
   },
   {
    "duration": 182,
    "start_time": "2024-08-19T17:07:22.368Z"
   },
   {
    "duration": 103,
    "start_time": "2024-08-19T17:07:22.553Z"
   },
   {
    "duration": 25,
    "start_time": "2024-08-19T17:07:22.660Z"
   },
   {
    "duration": 7,
    "start_time": "2024-08-19T17:07:22.713Z"
   },
   {
    "duration": 43,
    "start_time": "2024-08-19T17:07:22.724Z"
   },
   {
    "duration": 46,
    "start_time": "2024-08-19T17:07:22.770Z"
   },
   {
    "duration": 7,
    "start_time": "2024-08-19T17:07:22.819Z"
   },
   {
    "duration": 7,
    "start_time": "2024-08-19T17:07:22.829Z"
   },
   {
    "duration": 7,
    "start_time": "2024-08-19T17:07:22.840Z"
   },
   {
    "duration": 7,
    "start_time": "2024-08-19T17:07:22.850Z"
   },
   {
    "duration": 1484,
    "start_time": "2024-08-19T17:07:22.860Z"
   },
   {
    "duration": 491,
    "start_time": "2024-08-19T17:07:24.348Z"
   },
   {
    "duration": 13,
    "start_time": "2024-08-19T17:07:24.842Z"
   },
   {
    "duration": 14,
    "start_time": "2024-08-19T17:07:24.857Z"
   },
   {
    "duration": 46,
    "start_time": "2024-08-19T17:07:24.873Z"
   },
   {
    "duration": 10,
    "start_time": "2024-08-19T17:07:24.922Z"
   },
   {
    "duration": 8,
    "start_time": "2024-08-19T17:07:24.936Z"
   },
   {
    "duration": 3,
    "start_time": "2024-08-19T17:07:24.948Z"
   },
   {
    "duration": 4,
    "start_time": "2024-08-19T17:07:24.954Z"
   },
   {
    "duration": 71,
    "start_time": "2024-08-19T17:07:24.962Z"
   },
   {
    "duration": 50,
    "start_time": "2024-08-19T17:07:25.036Z"
   },
   {
    "duration": 5,
    "start_time": "2024-08-19T17:07:25.114Z"
   },
   {
    "duration": 4,
    "start_time": "2024-08-19T17:07:25.123Z"
   },
   {
    "duration": 4,
    "start_time": "2024-08-19T17:07:25.130Z"
   },
   {
    "duration": 7,
    "start_time": "2024-08-19T17:07:25.137Z"
   },
   {
    "duration": 7,
    "start_time": "2024-08-19T17:07:25.147Z"
   },
   {
    "duration": 366,
    "start_time": "2024-08-19T17:07:25.157Z"
   },
   {
    "duration": 680,
    "start_time": "2024-08-19T17:09:33.759Z"
   },
   {
    "duration": 1732,
    "start_time": "2024-08-19T17:09:34.443Z"
   },
   {
    "duration": 43,
    "start_time": "2024-08-19T17:09:36.178Z"
   },
   {
    "duration": 23,
    "start_time": "2024-08-19T17:09:36.224Z"
   },
   {
    "duration": 20,
    "start_time": "2024-08-19T17:09:36.253Z"
   },
   {
    "duration": 21,
    "start_time": "2024-08-19T17:09:36.311Z"
   },
   {
    "duration": 22,
    "start_time": "2024-08-19T17:09:36.336Z"
   },
   {
    "duration": 217,
    "start_time": "2024-08-19T17:09:36.362Z"
   },
   {
    "duration": 33,
    "start_time": "2024-08-19T17:09:36.582Z"
   },
   {
    "duration": 217,
    "start_time": "2024-08-19T17:09:36.619Z"
   },
   {
    "duration": 200,
    "start_time": "2024-08-19T17:09:36.839Z"
   },
   {
    "duration": 110,
    "start_time": "2024-08-19T17:09:37.042Z"
   },
   {
    "duration": 23,
    "start_time": "2024-08-19T17:09:37.155Z"
   },
   {
    "duration": 6,
    "start_time": "2024-08-19T17:09:37.185Z"
   },
   {
    "duration": 48,
    "start_time": "2024-08-19T17:09:37.214Z"
   },
   {
    "duration": 47,
    "start_time": "2024-08-19T17:09:37.265Z"
   },
   {
    "duration": 6,
    "start_time": "2024-08-19T17:09:37.315Z"
   },
   {
    "duration": 6,
    "start_time": "2024-08-19T17:09:37.325Z"
   },
   {
    "duration": 8,
    "start_time": "2024-08-19T17:09:37.334Z"
   },
   {
    "duration": 6,
    "start_time": "2024-08-19T17:09:37.345Z"
   },
   {
    "duration": 1458,
    "start_time": "2024-08-19T17:09:37.354Z"
   },
   {
    "duration": 488,
    "start_time": "2024-08-19T17:09:38.815Z"
   },
   {
    "duration": 18,
    "start_time": "2024-08-19T17:09:39.306Z"
   },
   {
    "duration": 12,
    "start_time": "2024-08-19T17:09:39.328Z"
   },
   {
    "duration": 15,
    "start_time": "2024-08-19T17:09:39.343Z"
   },
   {
    "duration": 55,
    "start_time": "2024-08-19T17:09:39.361Z"
   },
   {
    "duration": 9,
    "start_time": "2024-08-19T17:09:39.420Z"
   },
   {
    "duration": 4,
    "start_time": "2024-08-19T17:09:39.432Z"
   },
   {
    "duration": 3,
    "start_time": "2024-08-19T17:09:39.439Z"
   },
   {
    "duration": 68,
    "start_time": "2024-08-19T17:09:39.446Z"
   },
   {
    "duration": 51,
    "start_time": "2024-08-19T17:09:39.517Z"
   },
   {
    "duration": 6,
    "start_time": "2024-08-19T17:09:39.571Z"
   },
   {
    "duration": 33,
    "start_time": "2024-08-19T17:09:39.580Z"
   },
   {
    "duration": 4,
    "start_time": "2024-08-19T17:09:39.617Z"
   },
   {
    "duration": 6,
    "start_time": "2024-08-19T17:09:39.625Z"
   },
   {
    "duration": 7,
    "start_time": "2024-08-19T17:09:39.634Z"
   },
   {
    "duration": 348,
    "start_time": "2024-08-19T17:09:39.644Z"
   },
   {
    "duration": 714,
    "start_time": "2024-08-19T17:15:14.212Z"
   },
   {
    "duration": 1712,
    "start_time": "2024-08-19T17:15:14.929Z"
   },
   {
    "duration": 29,
    "start_time": "2024-08-19T17:15:16.644Z"
   },
   {
    "duration": 50,
    "start_time": "2024-08-19T17:15:16.678Z"
   },
   {
    "duration": 20,
    "start_time": "2024-08-19T17:15:16.732Z"
   },
   {
    "duration": 19,
    "start_time": "2024-08-19T17:15:16.755Z"
   },
   {
    "duration": 19,
    "start_time": "2024-08-19T17:15:16.813Z"
   },
   {
    "duration": 197,
    "start_time": "2024-08-19T17:15:16.836Z"
   },
   {
    "duration": 19,
    "start_time": "2024-08-19T17:15:17.037Z"
   },
   {
    "duration": 217,
    "start_time": "2024-08-19T17:15:17.063Z"
   },
   {
    "duration": 187,
    "start_time": "2024-08-19T17:15:17.282Z"
   },
   {
    "duration": 113,
    "start_time": "2024-08-19T17:15:17.472Z"
   },
   {
    "duration": 31,
    "start_time": "2024-08-19T17:15:17.588Z"
   },
   {
    "duration": 7,
    "start_time": "2024-08-19T17:15:17.622Z"
   },
   {
    "duration": 40,
    "start_time": "2024-08-19T17:15:17.632Z"
   },
   {
    "duration": 49,
    "start_time": "2024-08-19T17:15:17.675Z"
   },
   {
    "duration": 7,
    "start_time": "2024-08-19T17:15:17.727Z"
   },
   {
    "duration": 6,
    "start_time": "2024-08-19T17:15:17.737Z"
   },
   {
    "duration": 8,
    "start_time": "2024-08-19T17:15:17.747Z"
   },
   {
    "duration": 53,
    "start_time": "2024-08-19T17:15:17.760Z"
   },
   {
    "duration": 1426,
    "start_time": "2024-08-19T17:15:17.816Z"
   },
   {
    "duration": 476,
    "start_time": "2024-08-19T17:15:19.245Z"
   },
   {
    "duration": 13,
    "start_time": "2024-08-19T17:15:19.724Z"
   },
   {
    "duration": 14,
    "start_time": "2024-08-19T17:15:19.740Z"
   },
   {
    "duration": 14,
    "start_time": "2024-08-19T17:15:19.757Z"
   },
   {
    "duration": 11,
    "start_time": "2024-08-19T17:15:19.814Z"
   },
   {
    "duration": 8,
    "start_time": "2024-08-19T17:15:19.828Z"
   },
   {
    "duration": 3,
    "start_time": "2024-08-19T17:15:19.845Z"
   },
   {
    "duration": 5,
    "start_time": "2024-08-19T17:15:19.852Z"
   },
   {
    "duration": 67,
    "start_time": "2024-08-19T17:15:19.863Z"
   },
   {
    "duration": 49,
    "start_time": "2024-08-19T17:15:19.933Z"
   },
   {
    "duration": 28,
    "start_time": "2024-08-19T17:15:19.985Z"
   },
   {
    "duration": 3,
    "start_time": "2024-08-19T17:15:20.017Z"
   },
   {
    "duration": 4,
    "start_time": "2024-08-19T17:15:20.024Z"
   },
   {
    "duration": 7,
    "start_time": "2024-08-19T17:15:20.030Z"
   },
   {
    "duration": 7,
    "start_time": "2024-08-19T17:15:20.040Z"
   },
   {
    "duration": 351,
    "start_time": "2024-08-19T17:15:20.050Z"
   },
   {
    "duration": 17,
    "start_time": "2024-08-19T17:15:25.396Z"
   },
   {
    "duration": 0,
    "start_time": "2024-08-19T17:17:49.686Z"
   },
   {
    "duration": 0,
    "start_time": "2024-08-19T17:19:02.746Z"
   },
   {
    "duration": 9,
    "start_time": "2024-08-19T17:23:42.551Z"
   },
   {
    "duration": 7,
    "start_time": "2024-08-19T17:25:47.699Z"
   },
   {
    "duration": 6,
    "start_time": "2024-08-19T17:26:11.684Z"
   },
   {
    "duration": 317,
    "start_time": "2024-08-19T17:27:07.436Z"
   },
   {
    "duration": 732,
    "start_time": "2024-08-19T17:27:30.323Z"
   },
   {
    "duration": 1743,
    "start_time": "2024-08-19T17:27:31.059Z"
   },
   {
    "duration": 34,
    "start_time": "2024-08-19T17:27:32.804Z"
   },
   {
    "duration": 26,
    "start_time": "2024-08-19T17:27:32.842Z"
   },
   {
    "duration": 53,
    "start_time": "2024-08-19T17:27:32.874Z"
   },
   {
    "duration": 20,
    "start_time": "2024-08-19T17:27:32.930Z"
   },
   {
    "duration": 19,
    "start_time": "2024-08-19T17:27:32.953Z"
   },
   {
    "duration": 226,
    "start_time": "2024-08-19T17:27:33.014Z"
   },
   {
    "duration": 20,
    "start_time": "2024-08-19T17:27:33.243Z"
   },
   {
    "duration": 246,
    "start_time": "2024-08-19T17:27:33.266Z"
   },
   {
    "duration": 209,
    "start_time": "2024-08-19T17:27:33.516Z"
   },
   {
    "duration": 108,
    "start_time": "2024-08-19T17:27:33.728Z"
   },
   {
    "duration": 24,
    "start_time": "2024-08-19T17:27:33.838Z"
   },
   {
    "duration": 7,
    "start_time": "2024-08-19T17:27:33.869Z"
   },
   {
    "duration": 41,
    "start_time": "2024-08-19T17:27:33.912Z"
   },
   {
    "duration": 17,
    "start_time": "2024-08-19T17:27:33.956Z"
   },
   {
    "duration": 6,
    "start_time": "2024-08-19T17:27:33.976Z"
   },
   {
    "duration": 9,
    "start_time": "2024-08-19T17:27:34.014Z"
   },
   {
    "duration": 7,
    "start_time": "2024-08-19T17:27:34.026Z"
   },
   {
    "duration": 7,
    "start_time": "2024-08-19T17:27:34.037Z"
   },
   {
    "duration": 1471,
    "start_time": "2024-08-19T17:27:34.047Z"
   },
   {
    "duration": 483,
    "start_time": "2024-08-19T17:27:35.521Z"
   },
   {
    "duration": 17,
    "start_time": "2024-08-19T17:27:36.011Z"
   },
   {
    "duration": 16,
    "start_time": "2024-08-19T17:27:36.031Z"
   },
   {
    "duration": 17,
    "start_time": "2024-08-19T17:27:36.050Z"
   },
   {
    "duration": 50,
    "start_time": "2024-08-19T17:27:36.070Z"
   },
   {
    "duration": 8,
    "start_time": "2024-08-19T17:27:36.123Z"
   },
   {
    "duration": 4,
    "start_time": "2024-08-19T17:27:36.134Z"
   },
   {
    "duration": 3,
    "start_time": "2024-08-19T17:27:36.141Z"
   },
   {
    "duration": 71,
    "start_time": "2024-08-19T17:27:36.148Z"
   },
   {
    "duration": 52,
    "start_time": "2024-08-19T17:27:36.222Z"
   },
   {
    "duration": 7,
    "start_time": "2024-08-19T17:27:36.277Z"
   },
   {
    "duration": 4,
    "start_time": "2024-08-19T17:27:36.312Z"
   },
   {
    "duration": 3,
    "start_time": "2024-08-19T17:27:36.320Z"
   },
   {
    "duration": 7,
    "start_time": "2024-08-19T17:27:36.327Z"
   },
   {
    "duration": 7,
    "start_time": "2024-08-19T17:27:36.338Z"
   },
   {
    "duration": 3978,
    "start_time": "2024-08-19T17:27:36.348Z"
   },
   {
    "duration": 8836,
    "start_time": "2024-08-19T17:28:27.903Z"
   },
   {
    "duration": 296,
    "start_time": "2024-08-19T17:29:18.747Z"
   },
   {
    "duration": 302,
    "start_time": "2024-08-19T17:29:43.462Z"
   },
   {
    "duration": 4282,
    "start_time": "2024-08-20T11:42:33.432Z"
   },
   {
    "duration": 1626,
    "start_time": "2024-08-20T11:42:37.718Z"
   },
   {
    "duration": 30,
    "start_time": "2024-08-20T11:42:39.346Z"
   },
   {
    "duration": 26,
    "start_time": "2024-08-20T11:42:39.380Z"
   },
   {
    "duration": 41,
    "start_time": "2024-08-20T11:42:39.409Z"
   },
   {
    "duration": 20,
    "start_time": "2024-08-20T11:42:39.453Z"
   },
   {
    "duration": 59,
    "start_time": "2024-08-20T11:42:39.476Z"
   },
   {
    "duration": 181,
    "start_time": "2024-08-20T11:42:39.538Z"
   },
   {
    "duration": 26,
    "start_time": "2024-08-20T11:42:39.722Z"
   },
   {
    "duration": 195,
    "start_time": "2024-08-20T11:42:39.754Z"
   },
   {
    "duration": 181,
    "start_time": "2024-08-20T11:42:39.952Z"
   },
   {
    "duration": 99,
    "start_time": "2024-08-20T11:42:40.136Z"
   },
   {
    "duration": 23,
    "start_time": "2024-08-20T11:42:40.238Z"
   },
   {
    "duration": 6,
    "start_time": "2024-08-20T11:42:40.264Z"
   },
   {
    "duration": 74,
    "start_time": "2024-08-20T11:42:40.273Z"
   },
   {
    "duration": 19,
    "start_time": "2024-08-20T11:42:40.349Z"
   },
   {
    "duration": 7,
    "start_time": "2024-08-20T11:42:40.371Z"
   },
   {
    "duration": 5,
    "start_time": "2024-08-20T11:42:40.382Z"
   },
   {
    "duration": 50,
    "start_time": "2024-08-20T11:42:40.390Z"
   },
   {
    "duration": 6,
    "start_time": "2024-08-20T11:42:40.444Z"
   },
   {
    "duration": 1355,
    "start_time": "2024-08-20T11:42:40.453Z"
   },
   {
    "duration": 473,
    "start_time": "2024-08-20T11:42:41.811Z"
   },
   {
    "duration": 14,
    "start_time": "2024-08-20T11:42:42.286Z"
   },
   {
    "duration": 33,
    "start_time": "2024-08-20T11:42:42.303Z"
   },
   {
    "duration": 16,
    "start_time": "2024-08-20T11:42:42.341Z"
   },
   {
    "duration": 12,
    "start_time": "2024-08-20T11:42:42.360Z"
   },
   {
    "duration": 8,
    "start_time": "2024-08-20T11:42:42.375Z"
   },
   {
    "duration": 3,
    "start_time": "2024-08-20T11:42:42.437Z"
   },
   {
    "duration": 4,
    "start_time": "2024-08-20T11:42:42.443Z"
   },
   {
    "duration": 26,
    "start_time": "2024-08-20T11:42:42.451Z"
   },
   {
    "duration": 90,
    "start_time": "2024-08-20T11:42:42.480Z"
   },
   {
    "duration": 5,
    "start_time": "2024-08-20T11:42:42.572Z"
   },
   {
    "duration": 4,
    "start_time": "2024-08-20T11:42:42.581Z"
   },
   {
    "duration": 4,
    "start_time": "2024-08-20T11:42:42.588Z"
   },
   {
    "duration": 39,
    "start_time": "2024-08-20T11:42:42.595Z"
   },
   {
    "duration": 6,
    "start_time": "2024-08-20T11:42:42.637Z"
   },
   {
    "duration": 318,
    "start_time": "2024-08-20T11:42:42.647Z"
   },
   {
    "duration": 13000,
    "start_time": "2024-08-20T11:42:42.969Z"
   },
   {
    "duration": 17,
    "start_time": "2024-08-20T11:42:55.972Z"
   },
   {
    "duration": 4,
    "start_time": "2024-08-20T11:42:55.993Z"
   },
   {
    "duration": 10,
    "start_time": "2024-08-20T11:43:58.551Z"
   },
   {
    "duration": 421,
    "start_time": "2024-08-20T11:44:17.086Z"
   },
   {
    "duration": 44,
    "start_time": "2024-08-20T11:44:28.716Z"
   },
   {
    "duration": 43,
    "start_time": "2024-08-20T11:53:35.996Z"
   },
   {
    "duration": 43,
    "start_time": "2024-08-20T11:53:49.418Z"
   },
   {
    "duration": 49,
    "start_time": "2024-08-20T11:54:09.512Z"
   },
   {
    "duration": 14,
    "start_time": "2024-08-20T11:54:36.888Z"
   },
   {
    "duration": 16,
    "start_time": "2024-08-20T11:54:46.216Z"
   },
   {
    "duration": 12,
    "start_time": "2024-08-20T11:54:54.940Z"
   },
   {
    "duration": 16,
    "start_time": "2024-08-20T11:57:37.857Z"
   },
   {
    "duration": 12,
    "start_time": "2024-08-20T11:58:02.996Z"
   },
   {
    "duration": 8,
    "start_time": "2024-08-20T11:58:43.930Z"
   },
   {
    "duration": 8,
    "start_time": "2024-08-20T11:59:04.332Z"
   },
   {
    "duration": 21,
    "start_time": "2024-08-20T11:59:55.092Z"
   },
   {
    "duration": 22,
    "start_time": "2024-08-20T12:00:02.670Z"
   },
   {
    "duration": 28,
    "start_time": "2024-08-20T12:00:26.308Z"
   },
   {
    "duration": 30,
    "start_time": "2024-08-20T12:00:45.893Z"
   },
   {
    "duration": 31,
    "start_time": "2024-08-20T12:01:24.628Z"
   },
   {
    "duration": 151,
    "start_time": "2024-08-20T12:01:36.070Z"
   },
   {
    "duration": 30,
    "start_time": "2024-08-20T12:02:39.264Z"
   },
   {
    "duration": 4,
    "start_time": "2024-08-20T12:03:12.498Z"
   },
   {
    "duration": 4,
    "start_time": "2024-08-20T12:03:36.392Z"
   },
   {
    "duration": 8,
    "start_time": "2024-08-20T12:03:51.518Z"
   },
   {
    "duration": 7,
    "start_time": "2024-08-20T12:04:01.020Z"
   },
   {
    "duration": 5,
    "start_time": "2024-08-20T12:06:43.709Z"
   },
   {
    "duration": 606,
    "start_time": "2024-08-20T12:07:02.619Z"
   },
   {
    "duration": 5,
    "start_time": "2024-08-20T12:15:47.294Z"
   },
   {
    "duration": 318,
    "start_time": "2024-08-20T12:16:21.511Z"
   },
   {
    "duration": 748,
    "start_time": "2024-08-20T12:16:26.727Z"
   },
   {
    "duration": 1688,
    "start_time": "2024-08-20T12:16:27.479Z"
   },
   {
    "duration": 30,
    "start_time": "2024-08-20T12:16:29.170Z"
   },
   {
    "duration": 44,
    "start_time": "2024-08-20T12:16:29.203Z"
   },
   {
    "duration": 20,
    "start_time": "2024-08-20T12:16:29.252Z"
   },
   {
    "duration": 20,
    "start_time": "2024-08-20T12:16:29.275Z"
   },
   {
    "duration": 19,
    "start_time": "2024-08-20T12:16:29.333Z"
   },
   {
    "duration": 198,
    "start_time": "2024-08-20T12:16:29.355Z"
   },
   {
    "duration": 19,
    "start_time": "2024-08-20T12:16:29.556Z"
   },
   {
    "duration": 211,
    "start_time": "2024-08-20T12:16:29.578Z"
   },
   {
    "duration": 195,
    "start_time": "2024-08-20T12:16:29.792Z"
   },
   {
    "duration": 109,
    "start_time": "2024-08-20T12:16:29.990Z"
   },
   {
    "duration": 35,
    "start_time": "2024-08-20T12:16:30.102Z"
   },
   {
    "duration": 6,
    "start_time": "2024-08-20T12:16:30.144Z"
   },
   {
    "duration": 38,
    "start_time": "2024-08-20T12:16:30.153Z"
   },
   {
    "duration": 46,
    "start_time": "2024-08-20T12:16:30.194Z"
   },
   {
    "duration": 7,
    "start_time": "2024-08-20T12:16:30.243Z"
   },
   {
    "duration": 5,
    "start_time": "2024-08-20T12:16:30.253Z"
   },
   {
    "duration": 7,
    "start_time": "2024-08-20T12:16:30.261Z"
   },
   {
    "duration": 7,
    "start_time": "2024-08-20T12:16:30.271Z"
   },
   {
    "duration": 1447,
    "start_time": "2024-08-20T12:16:30.332Z"
   },
   {
    "duration": 489,
    "start_time": "2024-08-20T12:16:31.783Z"
   },
   {
    "duration": 12,
    "start_time": "2024-08-20T12:16:32.277Z"
   },
   {
    "duration": 14,
    "start_time": "2024-08-20T12:16:32.292Z"
   },
   {
    "duration": 15,
    "start_time": "2024-08-20T12:16:32.332Z"
   },
   {
    "duration": 12,
    "start_time": "2024-08-20T12:16:32.350Z"
   },
   {
    "duration": 8,
    "start_time": "2024-08-20T12:16:32.368Z"
   },
   {
    "duration": 53,
    "start_time": "2024-08-20T12:16:32.379Z"
   },
   {
    "duration": 5,
    "start_time": "2024-08-20T12:16:32.435Z"
   },
   {
    "duration": 4,
    "start_time": "2024-08-20T12:16:41.362Z"
   },
   {
    "duration": 9,
    "start_time": "2024-08-20T12:16:50.684Z"
   },
   {
    "duration": 12,
    "start_time": "2024-08-20T12:17:04.518Z"
   },
   {
    "duration": 12,
    "start_time": "2024-08-20T12:19:57.575Z"
   },
   {
    "duration": 31,
    "start_time": "2024-08-20T12:20:36.772Z"
   },
   {
    "duration": 29,
    "start_time": "2024-08-20T12:21:00.802Z"
   },
   {
    "duration": 12,
    "start_time": "2024-08-20T12:23:07.177Z"
   },
   {
    "duration": 12,
    "start_time": "2024-08-20T12:24:28.676Z"
   },
   {
    "duration": 12,
    "start_time": "2024-08-20T12:24:42.480Z"
   },
   {
    "duration": 12,
    "start_time": "2024-08-20T12:24:51.514Z"
   },
   {
    "duration": 13,
    "start_time": "2024-08-20T12:25:10.887Z"
   },
   {
    "duration": 12,
    "start_time": "2024-08-20T12:25:38.051Z"
   },
   {
    "duration": 12,
    "start_time": "2024-08-20T12:25:52.658Z"
   },
   {
    "duration": 29,
    "start_time": "2024-08-20T12:26:14.645Z"
   },
   {
    "duration": 28,
    "start_time": "2024-08-20T12:26:23.634Z"
   },
   {
    "duration": 30,
    "start_time": "2024-08-20T12:26:28.089Z"
   },
   {
    "duration": 29,
    "start_time": "2024-08-20T12:26:35.540Z"
   },
   {
    "duration": 32,
    "start_time": "2024-08-20T12:26:42.002Z"
   },
   {
    "duration": 7,
    "start_time": "2024-08-20T12:27:11.877Z"
   },
   {
    "duration": 34,
    "start_time": "2024-08-20T12:28:38.502Z"
   },
   {
    "duration": 3,
    "start_time": "2024-08-20T17:28:57.559Z"
   },
   {
    "duration": 1462,
    "start_time": "2024-08-20T17:28:57.566Z"
   },
   {
    "duration": 24,
    "start_time": "2024-08-20T17:28:59.032Z"
   },
   {
    "duration": 22,
    "start_time": "2024-08-20T17:28:59.060Z"
   },
   {
    "duration": 48,
    "start_time": "2024-08-20T17:28:59.087Z"
   },
   {
    "duration": 20,
    "start_time": "2024-08-20T17:28:59.139Z"
   },
   {
    "duration": 19,
    "start_time": "2024-08-20T17:28:59.162Z"
   },
   {
    "duration": 184,
    "start_time": "2024-08-20T17:28:59.184Z"
   },
   {
    "duration": 19,
    "start_time": "2024-08-20T17:28:59.370Z"
   },
   {
    "duration": 177,
    "start_time": "2024-08-20T17:28:59.391Z"
   },
   {
    "duration": 158,
    "start_time": "2024-08-20T17:28:59.571Z"
   },
   {
    "duration": 78,
    "start_time": "2024-08-20T17:28:59.733Z"
   },
   {
    "duration": 39,
    "start_time": "2024-08-20T17:28:59.814Z"
   },
   {
    "duration": 6,
    "start_time": "2024-08-20T17:28:59.859Z"
   },
   {
    "duration": 73,
    "start_time": "2024-08-20T17:28:59.869Z"
   },
   {
    "duration": 18,
    "start_time": "2024-08-20T17:28:59.945Z"
   },
   {
    "duration": 6,
    "start_time": "2024-08-20T17:28:59.966Z"
   },
   {
    "duration": 6,
    "start_time": "2024-08-20T17:28:59.975Z"
   },
   {
    "duration": 8,
    "start_time": "2024-08-20T17:28:59.985Z"
   },
   {
    "duration": 6,
    "start_time": "2024-08-20T17:29:00.035Z"
   },
   {
    "duration": 1358,
    "start_time": "2024-08-20T17:29:00.044Z"
   },
   {
    "duration": 470,
    "start_time": "2024-08-20T17:29:01.405Z"
   },
   {
    "duration": 13,
    "start_time": "2024-08-20T17:29:01.877Z"
   },
   {
    "duration": 40,
    "start_time": "2024-08-20T17:29:01.893Z"
   },
   {
    "duration": 15,
    "start_time": "2024-08-20T17:29:01.936Z"
   },
   {
    "duration": 10,
    "start_time": "2024-08-20T17:29:01.956Z"
   },
   {
    "duration": 8,
    "start_time": "2024-08-20T17:29:01.971Z"
   },
   {
    "duration": 51,
    "start_time": "2024-08-20T17:29:01.983Z"
   },
   {
    "duration": 33,
    "start_time": "2024-08-20T17:29:02.037Z"
   },
   {
    "duration": 63,
    "start_time": "2024-08-20T17:29:02.073Z"
   },
   {
    "duration": 30,
    "start_time": "2024-08-20T17:29:02.139Z"
   },
   {
    "duration": 79,
    "start_time": "2024-08-20T17:29:02.172Z"
   },
   {
    "duration": 8,
    "start_time": "2024-08-20T17:29:02.254Z"
   },
   {
    "duration": 3,
    "start_time": "2024-08-20T17:29:02.265Z"
   },
   {
    "duration": 3,
    "start_time": "2024-08-20T17:29:02.271Z"
   },
   {
    "duration": 5,
    "start_time": "2024-08-20T17:29:02.278Z"
   },
   {
    "duration": 50,
    "start_time": "2024-08-20T17:29:02.286Z"
   },
   {
    "duration": 314,
    "start_time": "2024-08-20T17:29:02.340Z"
   },
   {
    "duration": 13020,
    "start_time": "2024-08-20T17:29:02.657Z"
   },
   {
    "duration": 17,
    "start_time": "2024-08-20T17:29:15.680Z"
   },
   {
    "duration": 4,
    "start_time": "2024-08-20T17:29:15.704Z"
   },
   {
    "duration": 72,
    "start_time": "2024-08-20T17:30:23.687Z"
   },
   {
    "duration": 6,
    "start_time": "2024-08-20T17:31:29.954Z"
   },
   {
    "duration": 15,
    "start_time": "2024-08-20T17:31:53.120Z"
   },
   {
    "duration": 313,
    "start_time": "2024-08-20T17:32:18.051Z"
   },
   {
    "duration": 327,
    "start_time": "2024-08-20T17:32:26.451Z"
   },
   {
    "duration": 5,
    "start_time": "2024-08-20T17:33:46.120Z"
   },
   {
    "duration": 203,
    "start_time": "2024-08-20T17:34:11.459Z"
   },
   {
    "duration": 18,
    "start_time": "2024-08-20T17:40:31.305Z"
   },
   {
    "duration": 437,
    "start_time": "2024-08-20T17:40:45.675Z"
   },
   {
    "duration": 47,
    "start_time": "2024-08-20T17:41:27.623Z"
   },
   {
    "duration": 432,
    "start_time": "2024-08-20T17:41:45.249Z"
   },
   {
    "duration": 355,
    "start_time": "2024-08-20T17:41:58.092Z"
   },
   {
    "duration": 9,
    "start_time": "2024-08-20T17:43:09.532Z"
   },
   {
    "duration": 364,
    "start_time": "2024-08-20T17:43:40.674Z"
   },
   {
    "duration": 0,
    "start_time": "2024-08-20T17:44:42.307Z"
   },
   {
    "duration": 388,
    "start_time": "2024-08-20T17:46:31.652Z"
   },
   {
    "duration": 37,
    "start_time": "2024-08-20T17:47:11.451Z"
   },
   {
    "duration": 4283,
    "start_time": "2024-08-21T10:25:56.297Z"
   },
   {
    "duration": 1660,
    "start_time": "2024-08-21T10:26:00.583Z"
   },
   {
    "duration": 29,
    "start_time": "2024-08-21T10:26:02.246Z"
   },
   {
    "duration": 50,
    "start_time": "2024-08-21T10:26:02.280Z"
   },
   {
    "duration": 20,
    "start_time": "2024-08-21T10:26:02.334Z"
   },
   {
    "duration": 20,
    "start_time": "2024-08-21T10:26:02.359Z"
   },
   {
    "duration": 56,
    "start_time": "2024-08-21T10:26:02.382Z"
   },
   {
    "duration": 190,
    "start_time": "2024-08-21T10:26:02.443Z"
   },
   {
    "duration": 20,
    "start_time": "2024-08-21T10:26:02.636Z"
   },
   {
    "duration": 207,
    "start_time": "2024-08-21T10:26:02.663Z"
   },
   {
    "duration": 173,
    "start_time": "2024-08-21T10:26:02.873Z"
   },
   {
    "duration": 104,
    "start_time": "2024-08-21T10:26:03.049Z"
   },
   {
    "duration": 22,
    "start_time": "2024-08-21T10:26:03.155Z"
   },
   {
    "duration": 9,
    "start_time": "2024-08-21T10:26:03.180Z"
   },
   {
    "duration": 65,
    "start_time": "2024-08-21T10:26:03.192Z"
   },
   {
    "duration": 18,
    "start_time": "2024-08-21T10:26:03.260Z"
   },
   {
    "duration": 6,
    "start_time": "2024-08-21T10:26:03.281Z"
   },
   {
    "duration": 35,
    "start_time": "2024-08-21T10:26:03.290Z"
   },
   {
    "duration": 8,
    "start_time": "2024-08-21T10:26:03.328Z"
   },
   {
    "duration": 6,
    "start_time": "2024-08-21T10:26:03.339Z"
   },
   {
    "duration": 1367,
    "start_time": "2024-08-21T10:26:03.348Z"
   },
   {
    "duration": 454,
    "start_time": "2024-08-21T10:26:04.724Z"
   },
   {
    "duration": 12,
    "start_time": "2024-08-21T10:26:05.181Z"
   },
   {
    "duration": 32,
    "start_time": "2024-08-21T10:26:05.196Z"
   },
   {
    "duration": 13,
    "start_time": "2024-08-21T10:26:05.231Z"
   },
   {
    "duration": 12,
    "start_time": "2024-08-21T10:26:05.247Z"
   },
   {
    "duration": 8,
    "start_time": "2024-08-21T10:26:05.263Z"
   },
   {
    "duration": 15,
    "start_time": "2024-08-21T10:26:05.324Z"
   },
   {
    "duration": 35,
    "start_time": "2024-08-21T10:26:05.343Z"
   },
   {
    "duration": 64,
    "start_time": "2024-08-21T10:26:05.381Z"
   },
   {
    "duration": 27,
    "start_time": "2024-08-21T10:26:05.448Z"
   },
   {
    "duration": 73,
    "start_time": "2024-08-21T10:26:05.478Z"
   },
   {
    "duration": 5,
    "start_time": "2024-08-21T10:26:05.554Z"
   },
   {
    "duration": 3,
    "start_time": "2024-08-21T10:26:05.563Z"
   },
   {
    "duration": 4,
    "start_time": "2024-08-21T10:26:05.569Z"
   },
   {
    "duration": 46,
    "start_time": "2024-08-21T10:26:05.578Z"
   },
   {
    "duration": 6,
    "start_time": "2024-08-21T10:26:05.627Z"
   },
   {
    "duration": 360,
    "start_time": "2024-08-21T10:26:05.637Z"
   },
   {
    "duration": 253,
    "start_time": "2024-08-21T10:26:06.002Z"
   },
   {
    "duration": 366,
    "start_time": "2024-08-21T10:26:06.258Z"
   },
   {
    "duration": 4,
    "start_time": "2024-08-21T10:28:40.431Z"
   },
   {
    "duration": 16,
    "start_time": "2024-08-21T10:28:57.508Z"
   },
   {
    "duration": 18,
    "start_time": "2024-08-21T10:30:13.192Z"
   },
   {
    "duration": 5,
    "start_time": "2024-08-21T10:31:40.844Z"
   },
   {
    "duration": 10,
    "start_time": "2024-08-21T10:31:55.345Z"
   },
   {
    "duration": 10,
    "start_time": "2024-08-21T10:32:24.064Z"
   },
   {
    "duration": 6,
    "start_time": "2024-08-21T10:33:17.404Z"
   },
   {
    "duration": 11,
    "start_time": "2024-08-21T10:33:56.563Z"
   },
   {
    "duration": 36,
    "start_time": "2024-08-21T10:34:09.847Z"
   },
   {
    "duration": 346,
    "start_time": "2024-08-21T10:37:17.343Z"
   },
   {
    "duration": 4,
    "start_time": "2024-08-21T10:37:48.398Z"
   },
   {
    "duration": 22,
    "start_time": "2024-08-21T10:39:01.271Z"
   },
   {
    "duration": 6,
    "start_time": "2024-08-21T10:39:07.136Z"
   },
   {
    "duration": 23,
    "start_time": "2024-08-21T10:40:43.613Z"
   },
   {
    "duration": 16,
    "start_time": "2024-08-21T10:41:03.109Z"
   },
   {
    "duration": 188,
    "start_time": "2024-08-21T10:41:35.729Z"
   },
   {
    "duration": 22,
    "start_time": "2024-08-21T10:41:44.572Z"
   },
   {
    "duration": 454,
    "start_time": "2024-08-21T10:56:04.904Z"
   },
   {
    "duration": 2084,
    "start_time": "2024-08-21T10:56:45.615Z"
   },
   {
    "duration": 1329,
    "start_time": "2024-08-21T10:57:03.090Z"
   },
   {
    "duration": 1269,
    "start_time": "2024-08-21T10:57:32.717Z"
   },
   {
    "duration": 1270,
    "start_time": "2024-08-21T10:58:01.515Z"
   },
   {
    "duration": 1269,
    "start_time": "2024-08-21T10:59:04.825Z"
   },
   {
    "duration": 11,
    "start_time": "2024-08-21T10:59:36.749Z"
   },
   {
    "duration": 92,
    "start_time": "2024-08-21T11:01:12.488Z"
   },
   {
    "duration": 95,
    "start_time": "2024-08-21T11:01:36.640Z"
   },
   {
    "duration": 81,
    "start_time": "2024-08-21T11:07:00.907Z"
   },
   {
    "duration": 13,
    "start_time": "2024-08-21T11:08:47.327Z"
   },
   {
    "duration": 390,
    "start_time": "2024-08-21T11:09:08.699Z"
   },
   {
    "duration": 18,
    "start_time": "2024-08-21T11:11:53.049Z"
   },
   {
    "duration": 36,
    "start_time": "2024-08-21T11:14:16.635Z"
   },
   {
    "duration": 303,
    "start_time": "2024-08-21T11:19:02.632Z"
   },
   {
    "duration": 674,
    "start_time": "2024-08-21T11:19:35.479Z"
   },
   {
    "duration": 1758,
    "start_time": "2024-08-21T11:19:36.157Z"
   },
   {
    "duration": 32,
    "start_time": "2024-08-21T11:19:37.918Z"
   },
   {
    "duration": 25,
    "start_time": "2024-08-21T11:19:37.953Z"
   },
   {
    "duration": 49,
    "start_time": "2024-08-21T11:19:37.982Z"
   },
   {
    "duration": 19,
    "start_time": "2024-08-21T11:19:38.035Z"
   },
   {
    "duration": 21,
    "start_time": "2024-08-21T11:19:38.057Z"
   },
   {
    "duration": 219,
    "start_time": "2024-08-21T11:19:38.080Z"
   },
   {
    "duration": 29,
    "start_time": "2024-08-21T11:19:38.302Z"
   },
   {
    "duration": 204,
    "start_time": "2024-08-21T11:19:38.335Z"
   },
   {
    "duration": 183,
    "start_time": "2024-08-21T11:19:38.541Z"
   },
   {
    "duration": 124,
    "start_time": "2024-08-21T11:19:38.727Z"
   },
   {
    "duration": 26,
    "start_time": "2024-08-21T11:19:38.854Z"
   },
   {
    "duration": 8,
    "start_time": "2024-08-21T11:19:38.890Z"
   },
   {
    "duration": 50,
    "start_time": "2024-08-21T11:19:38.925Z"
   },
   {
    "duration": 44,
    "start_time": "2024-08-21T11:19:38.979Z"
   },
   {
    "duration": 7,
    "start_time": "2024-08-21T11:19:39.026Z"
   },
   {
    "duration": 8,
    "start_time": "2024-08-21T11:19:39.038Z"
   },
   {
    "duration": 9,
    "start_time": "2024-08-21T11:19:39.049Z"
   },
   {
    "duration": 8,
    "start_time": "2024-08-21T11:19:39.063Z"
   },
   {
    "duration": 1491,
    "start_time": "2024-08-21T11:19:39.075Z"
   },
   {
    "duration": 501,
    "start_time": "2024-08-21T11:19:40.569Z"
   },
   {
    "duration": 14,
    "start_time": "2024-08-21T11:19:41.073Z"
   },
   {
    "duration": 38,
    "start_time": "2024-08-21T11:19:41.091Z"
   },
   {
    "duration": 21,
    "start_time": "2024-08-21T11:19:41.134Z"
   },
   {
    "duration": 14,
    "start_time": "2024-08-21T11:19:41.159Z"
   },
   {
    "duration": 9,
    "start_time": "2024-08-21T11:19:41.177Z"
   },
   {
    "duration": 11,
    "start_time": "2024-08-21T11:19:41.225Z"
   },
   {
    "duration": 40,
    "start_time": "2024-08-21T11:19:41.239Z"
   },
   {
    "duration": 63,
    "start_time": "2024-08-21T11:19:41.282Z"
   },
   {
    "duration": 50,
    "start_time": "2024-08-21T11:19:41.348Z"
   },
   {
    "duration": 13,
    "start_time": "2024-08-21T11:19:44.983Z"
   },
   {
    "duration": 8,
    "start_time": "2024-08-21T11:24:44.754Z"
   },
   {
    "duration": 10,
    "start_time": "2024-08-21T11:24:51.510Z"
   },
   {
    "duration": 14,
    "start_time": "2024-08-21T11:25:28.147Z"
   },
   {
    "duration": 5,
    "start_time": "2024-08-21T11:31:00.852Z"
   },
   {
    "duration": 5,
    "start_time": "2024-08-21T11:37:03.206Z"
   },
   {
    "duration": 6,
    "start_time": "2024-08-21T11:37:40.316Z"
   },
   {
    "duration": 13,
    "start_time": "2024-08-21T11:38:10.596Z"
   },
   {
    "duration": 12,
    "start_time": "2024-08-21T11:38:20.073Z"
   },
   {
    "duration": 4,
    "start_time": "2024-08-21T13:26:41.106Z"
   },
   {
    "duration": 1493,
    "start_time": "2024-08-21T13:26:41.115Z"
   },
   {
    "duration": 31,
    "start_time": "2024-08-21T13:26:42.611Z"
   },
   {
    "duration": 23,
    "start_time": "2024-08-21T13:26:42.646Z"
   },
   {
    "duration": 50,
    "start_time": "2024-08-21T13:26:42.672Z"
   },
   {
    "duration": 21,
    "start_time": "2024-08-21T13:26:42.725Z"
   },
   {
    "duration": 19,
    "start_time": "2024-08-21T13:26:42.749Z"
   },
   {
    "duration": 180,
    "start_time": "2024-08-21T13:26:42.771Z"
   },
   {
    "duration": 17,
    "start_time": "2024-08-21T13:26:42.956Z"
   },
   {
    "duration": 174,
    "start_time": "2024-08-21T13:26:42.976Z"
   },
   {
    "duration": 156,
    "start_time": "2024-08-21T13:26:43.153Z"
   },
   {
    "duration": 80,
    "start_time": "2024-08-21T13:26:43.312Z"
   },
   {
    "duration": 38,
    "start_time": "2024-08-21T13:26:43.396Z"
   },
   {
    "duration": 8,
    "start_time": "2024-08-21T13:26:43.437Z"
   },
   {
    "duration": 45,
    "start_time": "2024-08-21T13:26:43.448Z"
   },
   {
    "duration": 41,
    "start_time": "2024-08-21T13:26:43.496Z"
   },
   {
    "duration": 7,
    "start_time": "2024-08-21T13:26:43.540Z"
   },
   {
    "duration": 6,
    "start_time": "2024-08-21T13:26:43.550Z"
   },
   {
    "duration": 7,
    "start_time": "2024-08-21T13:26:43.559Z"
   },
   {
    "duration": 6,
    "start_time": "2024-08-21T13:26:43.570Z"
   },
   {
    "duration": 1359,
    "start_time": "2024-08-21T13:26:43.578Z"
   },
   {
    "duration": 459,
    "start_time": "2024-08-21T13:26:44.940Z"
   },
   {
    "duration": 25,
    "start_time": "2024-08-21T13:26:45.402Z"
   },
   {
    "duration": 13,
    "start_time": "2024-08-21T13:26:45.435Z"
   },
   {
    "duration": 13,
    "start_time": "2024-08-21T13:26:45.451Z"
   },
   {
    "duration": 12,
    "start_time": "2024-08-21T13:26:45.467Z"
   },
   {
    "duration": 8,
    "start_time": "2024-08-21T13:26:45.522Z"
   },
   {
    "duration": 12,
    "start_time": "2024-08-21T13:26:45.533Z"
   },
   {
    "duration": 33,
    "start_time": "2024-08-21T13:26:45.548Z"
   },
   {
    "duration": 60,
    "start_time": "2024-08-21T13:26:45.584Z"
   },
   {
    "duration": 45,
    "start_time": "2024-08-21T13:26:45.647Z"
   },
   {
    "duration": 36,
    "start_time": "2024-08-21T13:26:45.695Z"
   },
   {
    "duration": 13,
    "start_time": "2024-08-21T13:26:45.734Z"
   },
   {
    "duration": 168,
    "start_time": "2024-08-21T13:27:43.173Z"
   },
   {
    "duration": 13,
    "start_time": "2024-08-21T13:29:39.573Z"
   },
   {
    "duration": 127,
    "start_time": "2024-08-21T13:31:39.021Z"
   },
   {
    "duration": 126,
    "start_time": "2024-08-21T13:33:03.314Z"
   },
   {
    "duration": 396,
    "start_time": "2024-08-21T13:35:57.308Z"
   },
   {
    "duration": 390,
    "start_time": "2024-08-21T13:36:21.627Z"
   },
   {
    "duration": 746,
    "start_time": "2024-08-21T13:36:41.073Z"
   },
   {
    "duration": 1042,
    "start_time": "2024-08-21T13:36:53.809Z"
   },
   {
    "duration": 219,
    "start_time": "2024-08-21T13:37:02.871Z"
   },
   {
    "duration": 533,
    "start_time": "2024-08-21T13:54:15.559Z"
   },
   {
    "duration": 540,
    "start_time": "2024-08-21T13:54:31.687Z"
   },
   {
    "duration": 342,
    "start_time": "2024-08-21T13:58:45.146Z"
   },
   {
    "duration": 315,
    "start_time": "2024-08-21T13:59:00.772Z"
   },
   {
    "duration": 325,
    "start_time": "2024-08-21T13:59:22.711Z"
   },
   {
    "duration": 204,
    "start_time": "2024-08-21T14:01:02.904Z"
   },
   {
    "duration": 353,
    "start_time": "2024-08-21T14:52:01.202Z"
   },
   {
    "duration": 23,
    "start_time": "2024-08-21T14:52:10.069Z"
   },
   {
    "duration": 737,
    "start_time": "2024-08-21T14:52:59.228Z"
   },
   {
    "duration": 1796,
    "start_time": "2024-08-21T14:52:59.968Z"
   },
   {
    "duration": 38,
    "start_time": "2024-08-21T14:53:01.767Z"
   },
   {
    "duration": 29,
    "start_time": "2024-08-21T14:53:01.826Z"
   },
   {
    "duration": 21,
    "start_time": "2024-08-21T14:53:01.858Z"
   },
   {
    "duration": 57,
    "start_time": "2024-08-21T14:53:01.882Z"
   },
   {
    "duration": 22,
    "start_time": "2024-08-21T14:53:01.942Z"
   },
   {
    "duration": 214,
    "start_time": "2024-08-21T14:53:01.967Z"
   },
   {
    "duration": 40,
    "start_time": "2024-08-21T14:53:02.185Z"
   },
   {
    "duration": 224,
    "start_time": "2024-08-21T14:53:02.232Z"
   },
   {
    "duration": 194,
    "start_time": "2024-08-21T14:53:02.460Z"
   },
   {
    "duration": 109,
    "start_time": "2024-08-21T14:53:02.659Z"
   },
   {
    "duration": 28,
    "start_time": "2024-08-21T14:53:02.774Z"
   },
   {
    "duration": 24,
    "start_time": "2024-08-21T14:53:02.805Z"
   },
   {
    "duration": 42,
    "start_time": "2024-08-21T14:53:02.833Z"
   },
   {
    "duration": 17,
    "start_time": "2024-08-21T14:53:02.878Z"
   },
   {
    "duration": 8,
    "start_time": "2024-08-21T14:53:02.924Z"
   },
   {
    "duration": 8,
    "start_time": "2024-08-21T14:53:02.936Z"
   },
   {
    "duration": 9,
    "start_time": "2024-08-21T14:53:02.946Z"
   },
   {
    "duration": 11,
    "start_time": "2024-08-21T14:53:02.957Z"
   },
   {
    "duration": 1399,
    "start_time": "2024-08-21T14:53:02.971Z"
   },
   {
    "duration": 475,
    "start_time": "2024-08-21T14:53:04.375Z"
   },
   {
    "duration": 14,
    "start_time": "2024-08-21T14:53:04.853Z"
   },
   {
    "duration": 14,
    "start_time": "2024-08-21T14:53:04.870Z"
   },
   {
    "duration": 46,
    "start_time": "2024-08-21T14:53:04.888Z"
   },
   {
    "duration": 12,
    "start_time": "2024-08-21T14:53:04.937Z"
   },
   {
    "duration": 8,
    "start_time": "2024-08-21T14:53:04.952Z"
   },
   {
    "duration": 11,
    "start_time": "2024-08-21T14:53:04.968Z"
   },
   {
    "duration": 35,
    "start_time": "2024-08-21T14:53:05.022Z"
   },
   {
    "duration": 33,
    "start_time": "2024-08-21T14:53:05.063Z"
   },
   {
    "duration": 66,
    "start_time": "2024-08-21T14:53:05.099Z"
   },
   {
    "duration": 14,
    "start_time": "2024-08-21T14:53:05.168Z"
   },
   {
    "duration": 42,
    "start_time": "2024-08-21T14:53:05.184Z"
   },
   {
    "duration": 149,
    "start_time": "2024-08-21T14:53:05.230Z"
   },
   {
    "duration": 460,
    "start_time": "2024-08-21T14:53:05.382Z"
   },
   {
    "duration": 7,
    "start_time": "2024-08-21T14:53:05.845Z"
   },
   {
    "duration": 9,
    "start_time": "2024-08-21T14:53:05.856Z"
   },
   {
    "duration": 434,
    "start_time": "2024-08-21T14:53:05.869Z"
   },
   {
    "duration": 229,
    "start_time": "2024-08-21T14:53:06.306Z"
   },
   {
    "duration": 229,
    "start_time": "2024-08-21T14:53:12.826Z"
   },
   {
    "duration": 361,
    "start_time": "2024-08-21T14:53:17.514Z"
   },
   {
    "duration": 346,
    "start_time": "2024-08-21T14:53:22.603Z"
   },
   {
    "duration": 10,
    "start_time": "2024-08-21T14:54:00.000Z"
   },
   {
    "duration": 10,
    "start_time": "2024-08-21T14:54:02.641Z"
   },
   {
    "duration": 317,
    "start_time": "2024-08-21T14:54:05.555Z"
   },
   {
    "duration": 8,
    "start_time": "2024-08-21T14:55:03.715Z"
   },
   {
    "duration": 388,
    "start_time": "2024-08-21T14:55:31.446Z"
   },
   {
    "duration": 315,
    "start_time": "2024-08-21T14:55:38.614Z"
   },
   {
    "duration": 11,
    "start_time": "2024-08-21T14:56:25.515Z"
   },
   {
    "duration": 8,
    "start_time": "2024-08-21T14:59:14.013Z"
   },
   {
    "duration": 7,
    "start_time": "2024-08-21T14:59:47.477Z"
   },
   {
    "duration": 8,
    "start_time": "2024-08-21T15:01:01.458Z"
   },
   {
    "duration": 8,
    "start_time": "2024-08-21T15:02:37.024Z"
   },
   {
    "duration": 8,
    "start_time": "2024-08-21T16:14:05.669Z"
   },
   {
    "duration": 341,
    "start_time": "2024-08-21T16:14:25.594Z"
   },
   {
    "duration": 370,
    "start_time": "2024-08-21T16:18:20.012Z"
   },
   {
    "duration": 26,
    "start_time": "2024-08-21T16:19:36.261Z"
   },
   {
    "duration": 22,
    "start_time": "2024-08-21T16:20:52.372Z"
   },
   {
    "duration": 28,
    "start_time": "2024-08-21T16:24:58.852Z"
   },
   {
    "duration": 23,
    "start_time": "2024-08-21T16:25:42.197Z"
   },
   {
    "duration": 4,
    "start_time": "2024-08-21T16:26:22.678Z"
   },
   {
    "duration": 1752,
    "start_time": "2024-08-21T16:26:22.686Z"
   },
   {
    "duration": 29,
    "start_time": "2024-08-21T16:26:24.440Z"
   },
   {
    "duration": 27,
    "start_time": "2024-08-21T16:26:24.472Z"
   },
   {
    "duration": 20,
    "start_time": "2024-08-21T16:26:24.525Z"
   },
   {
    "duration": 20,
    "start_time": "2024-08-21T16:26:24.549Z"
   },
   {
    "duration": 58,
    "start_time": "2024-08-21T16:26:24.572Z"
   },
   {
    "duration": 160,
    "start_time": "2024-08-21T16:26:24.634Z"
   },
   {
    "duration": 33,
    "start_time": "2024-08-21T16:26:24.800Z"
   },
   {
    "duration": 163,
    "start_time": "2024-08-21T16:26:24.836Z"
   },
   {
    "duration": 177,
    "start_time": "2024-08-21T16:26:25.002Z"
   },
   {
    "duration": 97,
    "start_time": "2024-08-21T16:26:25.182Z"
   },
   {
    "duration": 21,
    "start_time": "2024-08-21T16:26:25.282Z"
   },
   {
    "duration": 20,
    "start_time": "2024-08-21T16:26:25.306Z"
   },
   {
    "duration": 48,
    "start_time": "2024-08-21T16:26:25.329Z"
   },
   {
    "duration": 45,
    "start_time": "2024-08-21T16:26:25.380Z"
   },
   {
    "duration": 7,
    "start_time": "2024-08-21T16:26:25.428Z"
   },
   {
    "duration": 10,
    "start_time": "2024-08-21T16:26:25.438Z"
   },
   {
    "duration": 7,
    "start_time": "2024-08-21T16:26:25.451Z"
   },
   {
    "duration": 8,
    "start_time": "2024-08-21T16:26:25.465Z"
   },
   {
    "duration": 1404,
    "start_time": "2024-08-21T16:26:25.480Z"
   },
   {
    "duration": 508,
    "start_time": "2024-08-21T16:26:26.887Z"
   },
   {
    "duration": 33,
    "start_time": "2024-08-21T16:26:27.398Z"
   },
   {
    "duration": 14,
    "start_time": "2024-08-21T16:26:27.440Z"
   },
   {
    "duration": 14,
    "start_time": "2024-08-21T16:26:27.458Z"
   },
   {
    "duration": 12,
    "start_time": "2024-08-21T16:26:27.475Z"
   },
   {
    "duration": 9,
    "start_time": "2024-08-21T16:26:27.524Z"
   },
   {
    "duration": 12,
    "start_time": "2024-08-21T16:26:27.537Z"
   },
   {
    "duration": 35,
    "start_time": "2024-08-21T16:26:27.553Z"
   },
   {
    "duration": 65,
    "start_time": "2024-08-21T16:26:27.590Z"
   },
   {
    "duration": 68,
    "start_time": "2024-08-21T16:26:27.657Z"
   },
   {
    "duration": 19,
    "start_time": "2024-08-21T16:26:27.728Z"
   },
   {
    "duration": 15,
    "start_time": "2024-08-21T16:26:27.750Z"
   },
   {
    "duration": 156,
    "start_time": "2024-08-21T16:26:27.769Z"
   },
   {
    "duration": 426,
    "start_time": "2024-08-21T16:26:27.928Z"
   },
   {
    "duration": 10,
    "start_time": "2024-08-21T16:26:28.358Z"
   },
   {
    "duration": 7,
    "start_time": "2024-08-21T16:26:28.371Z"
   },
   {
    "duration": 367,
    "start_time": "2024-08-21T16:26:28.384Z"
   },
   {
    "duration": 231,
    "start_time": "2024-08-21T16:26:28.754Z"
   },
   {
    "duration": 379,
    "start_time": "2024-08-21T16:26:28.988Z"
   },
   {
    "duration": 10,
    "start_time": "2024-08-21T16:26:29.372Z"
   },
   {
    "duration": 10,
    "start_time": "2024-08-21T16:26:29.385Z"
   },
   {
    "duration": 387,
    "start_time": "2024-08-21T16:26:29.425Z"
   },
   {
    "duration": 22,
    "start_time": "2024-08-21T16:26:34.698Z"
   },
   {
    "duration": 1749,
    "start_time": "2024-08-21T16:28:34.593Z"
   },
   {
    "duration": 0,
    "start_time": "2024-08-21T16:29:35.912Z"
   },
   {
    "duration": 1327,
    "start_time": "2024-08-21T16:30:09.391Z"
   },
   {
    "duration": 244,
    "start_time": "2024-08-21T16:30:48.145Z"
   },
   {
    "duration": 323,
    "start_time": "2024-08-21T16:31:15.235Z"
   },
   {
    "duration": 290,
    "start_time": "2024-08-21T16:31:36.003Z"
   },
   {
    "duration": 12,
    "start_time": "2024-08-21T16:32:27.502Z"
   },
   {
    "duration": 278,
    "start_time": "2024-08-21T16:33:01.253Z"
   },
   {
    "duration": 864,
    "start_time": "2024-08-21T16:35:48.833Z"
   },
   {
    "duration": 56,
    "start_time": "2024-08-21T16:36:12.663Z"
   },
   {
    "duration": 39,
    "start_time": "2024-08-21T16:45:41.379Z"
   },
   {
    "duration": 40,
    "start_time": "2024-08-21T16:45:54.393Z"
   },
   {
    "duration": 54,
    "start_time": "2024-08-21T16:46:44.578Z"
   },
   {
    "duration": 45,
    "start_time": "2024-08-21T16:48:03.584Z"
   },
   {
    "duration": 47,
    "start_time": "2024-08-21T16:48:39.670Z"
   },
   {
    "duration": 63,
    "start_time": "2024-08-21T16:49:12.366Z"
   },
   {
    "duration": 12,
    "start_time": "2024-08-21T16:49:44.666Z"
   },
   {
    "duration": 39,
    "start_time": "2024-08-21T16:50:34.540Z"
   },
   {
    "duration": 42,
    "start_time": "2024-08-21T16:50:37.731Z"
   },
   {
    "duration": 349,
    "start_time": "2024-08-21T16:56:14.080Z"
   },
   {
    "duration": 22,
    "start_time": "2024-08-21T16:57:27.650Z"
   },
   {
    "duration": 1599,
    "start_time": "2024-08-21T16:58:55.793Z"
   },
   {
    "duration": 34,
    "start_time": "2024-08-21T17:02:35.727Z"
   },
   {
    "duration": 359,
    "start_time": "2024-08-21T17:06:19.004Z"
   },
   {
    "duration": 24,
    "start_time": "2024-08-21T17:06:46.501Z"
   },
   {
    "duration": 769,
    "start_time": "2024-08-21T17:07:12.825Z"
   },
   {
    "duration": 1839,
    "start_time": "2024-08-21T17:07:13.598Z"
   },
   {
    "duration": 32,
    "start_time": "2024-08-21T17:07:15.443Z"
   },
   {
    "duration": 44,
    "start_time": "2024-08-21T17:07:15.479Z"
   },
   {
    "duration": 23,
    "start_time": "2024-08-21T17:07:15.529Z"
   },
   {
    "duration": 21,
    "start_time": "2024-08-21T17:07:15.555Z"
   },
   {
    "duration": 57,
    "start_time": "2024-08-21T17:07:15.579Z"
   },
   {
    "duration": 186,
    "start_time": "2024-08-21T17:07:15.641Z"
   },
   {
    "duration": 23,
    "start_time": "2024-08-21T17:07:15.831Z"
   },
   {
    "duration": 209,
    "start_time": "2024-08-21T17:07:15.861Z"
   },
   {
    "duration": 186,
    "start_time": "2024-08-21T17:07:16.075Z"
   },
   {
    "duration": 103,
    "start_time": "2024-08-21T17:07:16.264Z"
   },
   {
    "duration": 23,
    "start_time": "2024-08-21T17:07:16.371Z"
   },
   {
    "duration": 27,
    "start_time": "2024-08-21T17:07:16.397Z"
   },
   {
    "duration": 43,
    "start_time": "2024-08-21T17:07:16.427Z"
   },
   {
    "duration": 18,
    "start_time": "2024-08-21T17:07:16.473Z"
   },
   {
    "duration": 34,
    "start_time": "2024-08-21T17:07:16.494Z"
   },
   {
    "duration": 9,
    "start_time": "2024-08-21T17:07:16.530Z"
   },
   {
    "duration": 9,
    "start_time": "2024-08-21T17:07:16.542Z"
   },
   {
    "duration": 8,
    "start_time": "2024-08-21T17:07:16.554Z"
   },
   {
    "duration": 1493,
    "start_time": "2024-08-21T17:07:16.566Z"
   },
   {
    "duration": 517,
    "start_time": "2024-08-21T17:07:18.064Z"
   },
   {
    "duration": 12,
    "start_time": "2024-08-21T17:07:18.585Z"
   },
   {
    "duration": 31,
    "start_time": "2024-08-21T17:07:18.600Z"
   },
   {
    "duration": 21,
    "start_time": "2024-08-21T17:07:18.634Z"
   },
   {
    "duration": 12,
    "start_time": "2024-08-21T17:07:18.657Z"
   },
   {
    "duration": 8,
    "start_time": "2024-08-21T17:07:18.672Z"
   },
   {
    "duration": 13,
    "start_time": "2024-08-21T17:07:18.722Z"
   },
   {
    "duration": 39,
    "start_time": "2024-08-21T17:07:18.738Z"
   },
   {
    "duration": 68,
    "start_time": "2024-08-21T17:07:18.780Z"
   },
   {
    "duration": 54,
    "start_time": "2024-08-21T17:07:18.851Z"
   },
   {
    "duration": 26,
    "start_time": "2024-08-21T17:07:18.907Z"
   },
   {
    "duration": 12,
    "start_time": "2024-08-21T17:07:18.936Z"
   },
   {
    "duration": 174,
    "start_time": "2024-08-21T17:07:18.951Z"
   },
   {
    "duration": 490,
    "start_time": "2024-08-21T17:07:19.128Z"
   },
   {
    "duration": 7,
    "start_time": "2024-08-21T17:07:19.623Z"
   },
   {
    "duration": 6,
    "start_time": "2024-08-21T17:07:19.634Z"
   },
   {
    "duration": 434,
    "start_time": "2024-08-21T17:07:19.644Z"
   },
   {
    "duration": 236,
    "start_time": "2024-08-21T17:07:20.081Z"
   },
   {
    "duration": 412,
    "start_time": "2024-08-21T17:07:20.325Z"
   },
   {
    "duration": 12,
    "start_time": "2024-08-21T17:07:20.740Z"
   },
   {
    "duration": 10,
    "start_time": "2024-08-21T17:07:20.761Z"
   },
   {
    "duration": 376,
    "start_time": "2024-08-21T17:07:20.773Z"
   },
   {
    "duration": 286,
    "start_time": "2024-08-21T17:07:21.152Z"
   },
   {
    "duration": 10,
    "start_time": "2024-08-21T17:07:21.441Z"
   },
   {
    "duration": 2662,
    "start_time": "2024-08-21T17:07:27.872Z"
   },
   {
    "duration": 2788,
    "start_time": "2024-08-21T17:07:57.793Z"
   },
   {
    "duration": 2883,
    "start_time": "2024-08-21T17:10:03.848Z"
   },
   {
    "duration": 34,
    "start_time": "2024-08-21T17:10:43.114Z"
   },
   {
    "duration": 1173,
    "start_time": "2024-08-21T17:11:21.197Z"
   },
   {
    "duration": 54,
    "start_time": "2024-08-21T17:12:08.332Z"
   },
   {
    "duration": 36,
    "start_time": "2024-08-21T17:13:25.869Z"
   },
   {
    "duration": 1859,
    "start_time": "2024-08-21T17:16:42.517Z"
   },
   {
    "duration": 11,
    "start_time": "2024-08-21T17:19:54.274Z"
   },
   {
    "duration": 20,
    "start_time": "2024-08-21T17:20:07.828Z"
   },
   {
    "duration": 1141,
    "start_time": "2024-08-21T17:21:28.073Z"
   },
   {
    "duration": 1648,
    "start_time": "2024-08-21T17:25:22.960Z"
   },
   {
    "duration": 1664,
    "start_time": "2024-08-21T17:25:57.434Z"
   },
   {
    "duration": 29,
    "start_time": "2024-08-21T17:29:27.207Z"
   },
   {
    "duration": 258,
    "start_time": "2024-08-21T17:32:28.965Z"
   },
   {
    "duration": 2703,
    "start_time": "2024-08-21T17:32:56.181Z"
   },
   {
    "duration": 3117,
    "start_time": "2024-08-21T17:35:18.123Z"
   },
   {
    "duration": 140,
    "start_time": "2024-08-21T17:40:02.091Z"
   },
   {
    "duration": 188,
    "start_time": "2024-08-21T17:40:17.989Z"
   },
   {
    "duration": 192,
    "start_time": "2024-08-21T17:40:29.358Z"
   },
   {
    "duration": 5,
    "start_time": "2024-08-21T17:40:39.249Z"
   },
   {
    "duration": 1548,
    "start_time": "2024-08-21T17:40:39.257Z"
   },
   {
    "duration": 34,
    "start_time": "2024-08-21T17:40:40.811Z"
   },
   {
    "duration": 26,
    "start_time": "2024-08-21T17:40:40.848Z"
   },
   {
    "duration": 57,
    "start_time": "2024-08-21T17:40:40.879Z"
   },
   {
    "duration": 22,
    "start_time": "2024-08-21T17:40:40.945Z"
   },
   {
    "duration": 24,
    "start_time": "2024-08-21T17:40:40.970Z"
   },
   {
    "duration": 159,
    "start_time": "2024-08-21T17:40:41.022Z"
   },
   {
    "duration": 39,
    "start_time": "2024-08-21T17:40:41.184Z"
   },
   {
    "duration": 167,
    "start_time": "2024-08-21T17:40:41.226Z"
   },
   {
    "duration": 161,
    "start_time": "2024-08-21T17:40:41.399Z"
   },
   {
    "duration": 93,
    "start_time": "2024-08-21T17:40:41.563Z"
   },
   {
    "duration": 33,
    "start_time": "2024-08-21T17:40:41.662Z"
   },
   {
    "duration": 7,
    "start_time": "2024-08-21T17:40:41.697Z"
   },
   {
    "duration": 40,
    "start_time": "2024-08-21T17:40:41.724Z"
   },
   {
    "duration": 18,
    "start_time": "2024-08-21T17:40:41.767Z"
   },
   {
    "duration": 35,
    "start_time": "2024-08-21T17:40:41.788Z"
   },
   {
    "duration": 7,
    "start_time": "2024-08-21T17:40:41.826Z"
   },
   {
    "duration": 7,
    "start_time": "2024-08-21T17:40:41.838Z"
   },
   {
    "duration": 7,
    "start_time": "2024-08-21T17:40:41.848Z"
   },
   {
    "duration": 1418,
    "start_time": "2024-08-21T17:40:41.859Z"
   },
   {
    "duration": 481,
    "start_time": "2024-08-21T17:40:43.281Z"
   },
   {
    "duration": 14,
    "start_time": "2024-08-21T17:40:43.765Z"
   },
   {
    "duration": 19,
    "start_time": "2024-08-21T17:40:43.782Z"
   },
   {
    "duration": 14,
    "start_time": "2024-08-21T17:40:43.826Z"
   },
   {
    "duration": 13,
    "start_time": "2024-08-21T17:40:43.843Z"
   },
   {
    "duration": 9,
    "start_time": "2024-08-21T17:40:43.863Z"
   },
   {
    "duration": 49,
    "start_time": "2024-08-21T17:40:43.875Z"
   },
   {
    "duration": 41,
    "start_time": "2024-08-21T17:40:43.935Z"
   },
   {
    "duration": 51,
    "start_time": "2024-08-21T17:40:43.980Z"
   },
   {
    "duration": 55,
    "start_time": "2024-08-21T17:40:44.034Z"
   },
   {
    "duration": 34,
    "start_time": "2024-08-21T17:40:44.092Z"
   },
   {
    "duration": 17,
    "start_time": "2024-08-21T17:40:44.128Z"
   },
   {
    "duration": 175,
    "start_time": "2024-08-21T17:40:44.149Z"
   },
   {
    "duration": 532,
    "start_time": "2024-08-21T17:40:44.331Z"
   },
   {
    "duration": 5,
    "start_time": "2024-08-21T17:40:44.866Z"
   },
   {
    "duration": 51,
    "start_time": "2024-08-21T17:40:44.874Z"
   },
   {
    "duration": 462,
    "start_time": "2024-08-21T17:40:44.930Z"
   },
   {
    "duration": 230,
    "start_time": "2024-08-21T17:40:45.396Z"
   },
   {
    "duration": 374,
    "start_time": "2024-08-21T17:40:45.630Z"
   },
   {
    "duration": 19,
    "start_time": "2024-08-21T17:40:46.008Z"
   },
   {
    "duration": 10,
    "start_time": "2024-08-21T17:40:46.030Z"
   },
   {
    "duration": 384,
    "start_time": "2024-08-21T17:40:46.043Z"
   },
   {
    "duration": 293,
    "start_time": "2024-08-21T17:40:46.430Z"
   },
   {
    "duration": 323,
    "start_time": "2024-08-21T17:41:56.750Z"
   },
   {
    "duration": 728,
    "start_time": "2024-08-21T17:42:20.502Z"
   },
   {
    "duration": 1741,
    "start_time": "2024-08-21T17:42:21.234Z"
   },
   {
    "duration": 30,
    "start_time": "2024-08-21T17:42:22.978Z"
   },
   {
    "duration": 24,
    "start_time": "2024-08-21T17:42:23.027Z"
   },
   {
    "duration": 20,
    "start_time": "2024-08-21T17:42:23.054Z"
   },
   {
    "duration": 59,
    "start_time": "2024-08-21T17:42:23.077Z"
   },
   {
    "duration": 22,
    "start_time": "2024-08-21T17:42:23.140Z"
   },
   {
    "duration": 224,
    "start_time": "2024-08-21T17:42:23.164Z"
   },
   {
    "duration": 29,
    "start_time": "2024-08-21T17:42:23.394Z"
   },
   {
    "duration": 210,
    "start_time": "2024-08-21T17:42:23.428Z"
   },
   {
    "duration": 200,
    "start_time": "2024-08-21T17:42:23.641Z"
   },
   {
    "duration": 112,
    "start_time": "2024-08-21T17:42:23.844Z"
   },
   {
    "duration": 24,
    "start_time": "2024-08-21T17:42:23.959Z"
   },
   {
    "duration": 7,
    "start_time": "2024-08-21T17:42:23.987Z"
   },
   {
    "duration": 46,
    "start_time": "2024-08-21T17:42:24.024Z"
   },
   {
    "duration": 19,
    "start_time": "2024-08-21T17:42:24.074Z"
   },
   {
    "duration": 8,
    "start_time": "2024-08-21T17:42:24.122Z"
   },
   {
    "duration": 7,
    "start_time": "2024-08-21T17:42:24.134Z"
   },
   {
    "duration": 8,
    "start_time": "2024-08-21T17:42:24.144Z"
   },
   {
    "duration": 6,
    "start_time": "2024-08-21T17:42:24.155Z"
   },
   {
    "duration": 1447,
    "start_time": "2024-08-21T17:42:24.164Z"
   },
   {
    "duration": 517,
    "start_time": "2024-08-21T17:42:25.622Z"
   },
   {
    "duration": 16,
    "start_time": "2024-08-21T17:42:26.142Z"
   },
   {
    "duration": 13,
    "start_time": "2024-08-21T17:42:26.161Z"
   },
   {
    "duration": 50,
    "start_time": "2024-08-21T17:42:26.177Z"
   },
   {
    "duration": 15,
    "start_time": "2024-08-21T17:42:26.230Z"
   },
   {
    "duration": 9,
    "start_time": "2024-08-21T17:42:26.248Z"
   },
   {
    "duration": 13,
    "start_time": "2024-08-21T17:42:26.266Z"
   },
   {
    "duration": 78,
    "start_time": "2024-08-21T17:42:26.281Z"
   },
   {
    "duration": 28,
    "start_time": "2024-08-21T17:42:26.363Z"
   },
   {
    "duration": 76,
    "start_time": "2024-08-21T17:42:26.394Z"
   },
   {
    "duration": 15,
    "start_time": "2024-08-21T17:42:26.473Z"
   },
   {
    "duration": 14,
    "start_time": "2024-08-21T17:42:26.522Z"
   },
   {
    "duration": 152,
    "start_time": "2024-08-21T17:42:26.538Z"
   },
   {
    "duration": 460,
    "start_time": "2024-08-21T17:42:26.695Z"
   },
   {
    "duration": 6,
    "start_time": "2024-08-21T17:42:27.159Z"
   },
   {
    "duration": 7,
    "start_time": "2024-08-21T17:42:27.169Z"
   },
   {
    "duration": 395,
    "start_time": "2024-08-21T17:42:27.179Z"
   },
   {
    "duration": 232,
    "start_time": "2024-08-21T17:42:27.577Z"
   },
   {
    "duration": 392,
    "start_time": "2024-08-21T17:42:27.815Z"
   },
   {
    "duration": 17,
    "start_time": "2024-08-21T17:42:28.210Z"
   },
   {
    "duration": 10,
    "start_time": "2024-08-21T17:42:28.230Z"
   },
   {
    "duration": 354,
    "start_time": "2024-08-21T17:42:28.244Z"
   },
   {
    "duration": 341,
    "start_time": "2024-08-21T17:42:28.601Z"
   },
   {
    "duration": 2071,
    "start_time": "2024-08-21T17:42:28.945Z"
   },
   {
    "duration": 0,
    "start_time": "2024-08-21T17:42:31.019Z"
   },
   {
    "duration": 1,
    "start_time": "2024-08-21T17:42:31.020Z"
   },
   {
    "duration": 2369,
    "start_time": "2024-08-21T17:43:24.044Z"
   },
   {
    "duration": 1040,
    "start_time": "2024-08-21T17:43:38.584Z"
   },
   {
    "duration": 3090,
    "start_time": "2024-08-21T17:43:39.628Z"
   },
   {
    "duration": 769,
    "start_time": "2024-08-21T17:52:52.922Z"
   },
   {
    "duration": 1704,
    "start_time": "2024-08-21T17:52:53.694Z"
   },
   {
    "duration": 43,
    "start_time": "2024-08-21T17:52:55.401Z"
   },
   {
    "duration": 27,
    "start_time": "2024-08-21T17:52:55.449Z"
   },
   {
    "duration": 48,
    "start_time": "2024-08-21T17:52:55.479Z"
   },
   {
    "duration": 24,
    "start_time": "2024-08-21T17:52:55.531Z"
   },
   {
    "duration": 21,
    "start_time": "2024-08-21T17:52:55.560Z"
   },
   {
    "duration": 256,
    "start_time": "2024-08-21T17:52:55.585Z"
   },
   {
    "duration": 23,
    "start_time": "2024-08-21T17:52:55.844Z"
   },
   {
    "duration": 259,
    "start_time": "2024-08-21T17:52:55.874Z"
   },
   {
    "duration": 225,
    "start_time": "2024-08-21T17:52:56.136Z"
   },
   {
    "duration": 117,
    "start_time": "2024-08-21T17:52:56.364Z"
   },
   {
    "duration": 25,
    "start_time": "2024-08-21T17:52:56.484Z"
   },
   {
    "duration": 8,
    "start_time": "2024-08-21T17:52:56.522Z"
   },
   {
    "duration": 50,
    "start_time": "2024-08-21T17:52:56.532Z"
   },
   {
    "duration": 47,
    "start_time": "2024-08-21T17:52:56.585Z"
   },
   {
    "duration": 11,
    "start_time": "2024-08-21T17:52:56.636Z"
   },
   {
    "duration": 18,
    "start_time": "2024-08-21T17:52:56.655Z"
   },
   {
    "duration": 6,
    "start_time": "2024-08-21T17:52:56.676Z"
   },
   {
    "duration": 43,
    "start_time": "2024-08-21T17:52:56.686Z"
   },
   {
    "duration": 1470,
    "start_time": "2024-08-21T17:52:56.732Z"
   },
   {
    "duration": 498,
    "start_time": "2024-08-21T17:52:58.204Z"
   },
   {
    "duration": 20,
    "start_time": "2024-08-21T17:52:58.706Z"
   },
   {
    "duration": 14,
    "start_time": "2024-08-21T17:52:58.729Z"
   },
   {
    "duration": 14,
    "start_time": "2024-08-21T17:52:58.746Z"
   },
   {
    "duration": 13,
    "start_time": "2024-08-21T17:52:58.763Z"
   },
   {
    "duration": 52,
    "start_time": "2024-08-21T17:52:58.779Z"
   },
   {
    "duration": 13,
    "start_time": "2024-08-21T17:52:58.843Z"
   },
   {
    "duration": 72,
    "start_time": "2024-08-21T17:52:58.859Z"
   },
   {
    "duration": 27,
    "start_time": "2024-08-21T17:52:58.933Z"
   },
   {
    "duration": 85,
    "start_time": "2024-08-21T17:52:58.963Z"
   },
   {
    "duration": 15,
    "start_time": "2024-08-21T17:52:59.051Z"
   },
   {
    "duration": 14,
    "start_time": "2024-08-21T17:52:59.070Z"
   },
   {
    "duration": 171,
    "start_time": "2024-08-21T17:52:59.087Z"
   },
   {
    "duration": 450,
    "start_time": "2024-08-21T17:52:59.263Z"
   },
   {
    "duration": 19,
    "start_time": "2024-08-21T17:52:59.717Z"
   },
   {
    "duration": 8,
    "start_time": "2024-08-21T17:52:59.740Z"
   },
   {
    "duration": 428,
    "start_time": "2024-08-21T17:52:59.753Z"
   },
   {
    "duration": 227,
    "start_time": "2024-08-21T17:53:00.184Z"
   },
   {
    "duration": 374,
    "start_time": "2024-08-21T17:53:00.414Z"
   },
   {
    "duration": 11,
    "start_time": "2024-08-21T17:53:00.791Z"
   },
   {
    "duration": 28,
    "start_time": "2024-08-21T17:53:00.805Z"
   },
   {
    "duration": 385,
    "start_time": "2024-08-21T17:53:00.838Z"
   },
   {
    "duration": 270,
    "start_time": "2024-08-21T17:53:01.225Z"
   },
   {
    "duration": 2156,
    "start_time": "2024-08-21T17:53:01.498Z"
   },
   {
    "duration": 1109,
    "start_time": "2024-08-21T17:53:03.657Z"
   },
   {
    "duration": 3188,
    "start_time": "2024-08-21T17:53:04.769Z"
   }
  ],
  "colab": {
   "provenance": []
  },
  "kernelspec": {
   "display_name": "Bootcamp",
   "language": "python",
   "name": "python3"
  },
  "language_info": {
   "codemirror_mode": {
    "name": "ipython",
    "version": 3
   },
   "file_extension": ".py",
   "mimetype": "text/x-python",
   "name": "python",
   "nbconvert_exporter": "python",
   "pygments_lexer": "ipython3",
   "version": "3.10.14"
  },
  "toc": {
   "base_numbering": 1,
   "nav_menu": {},
   "number_sections": true,
   "sideBar": true,
   "skip_h1_title": true,
   "title_cell": "Table of Contents",
   "title_sidebar": "Contents",
   "toc_cell": false,
   "toc_position": {},
   "toc_section_display": true,
   "toc_window_display": false
  }
 },
 "nbformat": 4,
 "nbformat_minor": 5
}
